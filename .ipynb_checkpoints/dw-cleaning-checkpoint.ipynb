{
 "cells": [
  {
   "cell_type": "code",
   "execution_count": 1,
   "id": "77f60188",
   "metadata": {},
   "outputs": [],
   "source": [
    "import numpy as np\n",
    "import pandas as pd\n",
    "import matplotlib.pyplot as plt"
   ]
  },
  {
   "cell_type": "code",
   "execution_count": 2,
   "id": "355ae77e-9506-41b8-ab46-127c4b0ca341",
   "metadata": {},
   "outputs": [],
   "source": [
    "run_id_number = 3"
   ]
  },
  {
   "cell_type": "code",
   "execution_count": 3,
   "id": "6fbbbeba-90c8-4107-a623-c4b6b6a280ba",
   "metadata": {},
   "outputs": [],
   "source": [
    "# Set whether running the below data cleaning steps on input (training) or prediction (test)\n",
    "# 1 ---- training:   run_type = 1\n",
    "# 2 ---- prediction: run_type = 2 (or anything other than 1)\n",
    "\n",
    "run_type = 1"
   ]
  },
  {
   "cell_type": "code",
   "execution_count": 4,
   "id": "34015a0b",
   "metadata": {},
   "outputs": [
    {
     "data": {
      "text/html": [
       "<div>\n",
       "<style scoped>\n",
       "    .dataframe tbody tr th:only-of-type {\n",
       "        vertical-align: middle;\n",
       "    }\n",
       "\n",
       "    .dataframe tbody tr th {\n",
       "        vertical-align: top;\n",
       "    }\n",
       "\n",
       "    .dataframe thead th {\n",
       "        text-align: right;\n",
       "    }\n",
       "</style>\n",
       "<table border=\"1\" class=\"dataframe\">\n",
       "  <thead>\n",
       "    <tr style=\"text-align: right;\">\n",
       "      <th></th>\n",
       "      <th>Id</th>\n",
       "      <th>PID</th>\n",
       "      <th>MS SubClass</th>\n",
       "      <th>MS Zoning</th>\n",
       "      <th>Lot Frontage</th>\n",
       "      <th>Lot Area</th>\n",
       "      <th>Street</th>\n",
       "      <th>Alley</th>\n",
       "      <th>Lot Shape</th>\n",
       "      <th>Land Contour</th>\n",
       "      <th>...</th>\n",
       "      <th>Screen Porch</th>\n",
       "      <th>Pool Area</th>\n",
       "      <th>Pool QC</th>\n",
       "      <th>Fence</th>\n",
       "      <th>Misc Feature</th>\n",
       "      <th>Misc Val</th>\n",
       "      <th>Mo Sold</th>\n",
       "      <th>Yr Sold</th>\n",
       "      <th>Sale Type</th>\n",
       "      <th>SalePrice</th>\n",
       "    </tr>\n",
       "  </thead>\n",
       "  <tbody>\n",
       "    <tr>\n",
       "      <th>0</th>\n",
       "      <td>109</td>\n",
       "      <td>533352170</td>\n",
       "      <td>60</td>\n",
       "      <td>RL</td>\n",
       "      <td>NaN</td>\n",
       "      <td>13517</td>\n",
       "      <td>Pave</td>\n",
       "      <td>NaN</td>\n",
       "      <td>IR1</td>\n",
       "      <td>Lvl</td>\n",
       "      <td>...</td>\n",
       "      <td>0</td>\n",
       "      <td>0</td>\n",
       "      <td>NaN</td>\n",
       "      <td>NaN</td>\n",
       "      <td>NaN</td>\n",
       "      <td>0</td>\n",
       "      <td>3</td>\n",
       "      <td>2010</td>\n",
       "      <td>WD</td>\n",
       "      <td>130500</td>\n",
       "    </tr>\n",
       "    <tr>\n",
       "      <th>1</th>\n",
       "      <td>544</td>\n",
       "      <td>531379050</td>\n",
       "      <td>60</td>\n",
       "      <td>RL</td>\n",
       "      <td>43.0</td>\n",
       "      <td>11492</td>\n",
       "      <td>Pave</td>\n",
       "      <td>NaN</td>\n",
       "      <td>IR1</td>\n",
       "      <td>Lvl</td>\n",
       "      <td>...</td>\n",
       "      <td>0</td>\n",
       "      <td>0</td>\n",
       "      <td>NaN</td>\n",
       "      <td>NaN</td>\n",
       "      <td>NaN</td>\n",
       "      <td>0</td>\n",
       "      <td>4</td>\n",
       "      <td>2009</td>\n",
       "      <td>WD</td>\n",
       "      <td>220000</td>\n",
       "    </tr>\n",
       "    <tr>\n",
       "      <th>2</th>\n",
       "      <td>153</td>\n",
       "      <td>535304180</td>\n",
       "      <td>20</td>\n",
       "      <td>RL</td>\n",
       "      <td>68.0</td>\n",
       "      <td>7922</td>\n",
       "      <td>Pave</td>\n",
       "      <td>NaN</td>\n",
       "      <td>Reg</td>\n",
       "      <td>Lvl</td>\n",
       "      <td>...</td>\n",
       "      <td>0</td>\n",
       "      <td>0</td>\n",
       "      <td>NaN</td>\n",
       "      <td>NaN</td>\n",
       "      <td>NaN</td>\n",
       "      <td>0</td>\n",
       "      <td>1</td>\n",
       "      <td>2010</td>\n",
       "      <td>WD</td>\n",
       "      <td>109000</td>\n",
       "    </tr>\n",
       "    <tr>\n",
       "      <th>3</th>\n",
       "      <td>318</td>\n",
       "      <td>916386060</td>\n",
       "      <td>60</td>\n",
       "      <td>RL</td>\n",
       "      <td>73.0</td>\n",
       "      <td>9802</td>\n",
       "      <td>Pave</td>\n",
       "      <td>NaN</td>\n",
       "      <td>Reg</td>\n",
       "      <td>Lvl</td>\n",
       "      <td>...</td>\n",
       "      <td>0</td>\n",
       "      <td>0</td>\n",
       "      <td>NaN</td>\n",
       "      <td>NaN</td>\n",
       "      <td>NaN</td>\n",
       "      <td>0</td>\n",
       "      <td>4</td>\n",
       "      <td>2010</td>\n",
       "      <td>WD</td>\n",
       "      <td>174000</td>\n",
       "    </tr>\n",
       "    <tr>\n",
       "      <th>4</th>\n",
       "      <td>255</td>\n",
       "      <td>906425045</td>\n",
       "      <td>50</td>\n",
       "      <td>RL</td>\n",
       "      <td>82.0</td>\n",
       "      <td>14235</td>\n",
       "      <td>Pave</td>\n",
       "      <td>NaN</td>\n",
       "      <td>IR1</td>\n",
       "      <td>Lvl</td>\n",
       "      <td>...</td>\n",
       "      <td>0</td>\n",
       "      <td>0</td>\n",
       "      <td>NaN</td>\n",
       "      <td>NaN</td>\n",
       "      <td>NaN</td>\n",
       "      <td>0</td>\n",
       "      <td>3</td>\n",
       "      <td>2010</td>\n",
       "      <td>WD</td>\n",
       "      <td>138500</td>\n",
       "    </tr>\n",
       "  </tbody>\n",
       "</table>\n",
       "<p>5 rows × 81 columns</p>\n",
       "</div>"
      ],
      "text/plain": [
       "    Id        PID  MS SubClass MS Zoning  Lot Frontage  Lot Area Street Alley  \\\n",
       "0  109  533352170           60        RL           NaN     13517   Pave   NaN   \n",
       "1  544  531379050           60        RL          43.0     11492   Pave   NaN   \n",
       "2  153  535304180           20        RL          68.0      7922   Pave   NaN   \n",
       "3  318  916386060           60        RL          73.0      9802   Pave   NaN   \n",
       "4  255  906425045           50        RL          82.0     14235   Pave   NaN   \n",
       "\n",
       "  Lot Shape Land Contour  ... Screen Porch Pool Area Pool QC Fence  \\\n",
       "0       IR1          Lvl  ...            0         0     NaN   NaN   \n",
       "1       IR1          Lvl  ...            0         0     NaN   NaN   \n",
       "2       Reg          Lvl  ...            0         0     NaN   NaN   \n",
       "3       Reg          Lvl  ...            0         0     NaN   NaN   \n",
       "4       IR1          Lvl  ...            0         0     NaN   NaN   \n",
       "\n",
       "  Misc Feature Misc Val Mo Sold Yr Sold  Sale Type  SalePrice  \n",
       "0          NaN        0       3    2010        WD      130500  \n",
       "1          NaN        0       4    2009        WD      220000  \n",
       "2          NaN        0       1    2010        WD      109000  \n",
       "3          NaN        0       4    2010        WD      174000  \n",
       "4          NaN        0       3    2010        WD      138500  \n",
       "\n",
       "[5 rows x 81 columns]"
      ]
     },
     "execution_count": 4,
     "metadata": {},
     "output_type": "execute_result"
    }
   ],
   "source": [
    "if run_type == 1:\n",
    "    df = pd.read_csv('datasets/train.csv')\n",
    "else:\n",
    "    df = pd.read_csv('datasets/test.csv')\n",
    "\n",
    "df.head()"
   ]
  },
  {
   "cell_type": "code",
   "execution_count": 5,
   "id": "c5b06e07-ff36-4687-95dd-d68aab0c9c99",
   "metadata": {},
   "outputs": [],
   "source": [
    "# df['saleprice'].isna().sum()"
   ]
  },
  {
   "cell_type": "code",
   "execution_count": 6,
   "id": "cfe815fc-5bc2-4d0f-aeac-1a34654892c1",
   "metadata": {},
   "outputs": [],
   "source": [
    "# df = df.dropna(subset=['saleprice'])\n",
    "# df.shape"
   ]
  },
  {
   "cell_type": "code",
   "execution_count": 7,
   "id": "6b42a480-0660-4bca-bf40-ee2fa718a8e7",
   "metadata": {},
   "outputs": [
    {
     "data": {
      "text/plain": [
       "(2051, 81)"
      ]
     },
     "execution_count": 7,
     "metadata": {},
     "output_type": "execute_result"
    }
   ],
   "source": [
    "df.shape"
   ]
  },
  {
   "cell_type": "code",
   "execution_count": 8,
   "id": "4bdb761a",
   "metadata": {},
   "outputs": [
    {
     "data": {
      "text/plain": [
       "Index(['Id', 'PID', 'MS SubClass', 'MS Zoning', 'Lot Frontage', 'Lot Area',\n",
       "       'Street', 'Alley', 'Lot Shape', 'Land Contour', 'Utilities',\n",
       "       'Lot Config', 'Land Slope', 'Neighborhood', 'Condition 1',\n",
       "       'Condition 2', 'Bldg Type', 'House Style', 'Overall Qual',\n",
       "       'Overall Cond', 'Year Built', 'Year Remod/Add', 'Roof Style',\n",
       "       'Roof Matl', 'Exterior 1st', 'Exterior 2nd', 'Mas Vnr Type',\n",
       "       'Mas Vnr Area', 'Exter Qual', 'Exter Cond', 'Foundation', 'Bsmt Qual',\n",
       "       'Bsmt Cond', 'Bsmt Exposure', 'BsmtFin Type 1', 'BsmtFin SF 1',\n",
       "       'BsmtFin Type 2', 'BsmtFin SF 2', 'Bsmt Unf SF', 'Total Bsmt SF',\n",
       "       'Heating', 'Heating QC', 'Central Air', 'Electrical', '1st Flr SF',\n",
       "       '2nd Flr SF', 'Low Qual Fin SF', 'Gr Liv Area', 'Bsmt Full Bath',\n",
       "       'Bsmt Half Bath', 'Full Bath', 'Half Bath', 'Bedroom AbvGr',\n",
       "       'Kitchen AbvGr', 'Kitchen Qual', 'TotRms AbvGrd', 'Functional',\n",
       "       'Fireplaces', 'Fireplace Qu', 'Garage Type', 'Garage Yr Blt',\n",
       "       'Garage Finish', 'Garage Cars', 'Garage Area', 'Garage Qual',\n",
       "       'Garage Cond', 'Paved Drive', 'Wood Deck SF', 'Open Porch SF',\n",
       "       'Enclosed Porch', '3Ssn Porch', 'Screen Porch', 'Pool Area', 'Pool QC',\n",
       "       'Fence', 'Misc Feature', 'Misc Val', 'Mo Sold', 'Yr Sold', 'Sale Type',\n",
       "       'SalePrice'],\n",
       "      dtype='object')"
      ]
     },
     "execution_count": 8,
     "metadata": {},
     "output_type": "execute_result"
    }
   ],
   "source": [
    "df.columns"
   ]
  },
  {
   "cell_type": "code",
   "execution_count": 9,
   "id": "eec58c88",
   "metadata": {},
   "outputs": [],
   "source": [
    "df.columns = df.columns.str.lower().str.replace(\" \",\"_\")"
   ]
  },
  {
   "cell_type": "code",
   "execution_count": 10,
   "id": "3ae33d7c",
   "metadata": {
    "scrolled": true
   },
   "outputs": [
    {
     "data": {
      "text/plain": [
       "pool_qc           2042\n",
       "misc_feature      1986\n",
       "alley             1911\n",
       "fence             1651\n",
       "fireplace_qu      1000\n",
       "lot_frontage       330\n",
       "garage_finish      114\n",
       "garage_qual        114\n",
       "garage_yr_blt      114\n",
       "garage_cond        114\n",
       "garage_type        113\n",
       "bsmt_exposure       58\n",
       "bsmtfin_type_2      56\n",
       "bsmtfin_type_1      55\n",
       "bsmt_cond           55\n",
       "bsmt_qual           55\n",
       "mas_vnr_area        22\n",
       "mas_vnr_type        22\n",
       "bsmt_half_bath       2\n",
       "bsmt_full_bath       2\n",
       "garage_area          1\n",
       "total_bsmt_sf        1\n",
       "bsmt_unf_sf          1\n",
       "bsmtfin_sf_2         1\n",
       "bsmtfin_sf_1         1\n",
       "garage_cars          1\n",
       "mo_sold              0\n",
       "sale_type            0\n",
       "full_bath            0\n",
       "half_bath            0\n",
       "dtype: int64"
      ]
     },
     "execution_count": 10,
     "metadata": {},
     "output_type": "execute_result"
    }
   ],
   "source": [
    "df.isnull().sum().sort_values(ascending=False).head(30)"
   ]
  },
  {
   "cell_type": "markdown",
   "id": "cc712772-b436-418c-907d-5f40604ccc27",
   "metadata": {},
   "source": [
    "### Dropping Unneeded columns"
   ]
  },
  {
   "cell_type": "code",
   "execution_count": 11,
   "id": "390197fd-86e7-4f23-9fd8-d17b353362c8",
   "metadata": {},
   "outputs": [
    {
     "data": {
      "text/html": [
       "<div>\n",
       "<style scoped>\n",
       "    .dataframe tbody tr th:only-of-type {\n",
       "        vertical-align: middle;\n",
       "    }\n",
       "\n",
       "    .dataframe tbody tr th {\n",
       "        vertical-align: top;\n",
       "    }\n",
       "\n",
       "    .dataframe thead th {\n",
       "        text-align: right;\n",
       "    }\n",
       "</style>\n",
       "<table border=\"1\" class=\"dataframe\">\n",
       "  <thead>\n",
       "    <tr style=\"text-align: right;\">\n",
       "      <th></th>\n",
       "      <th>id</th>\n",
       "      <th>ms_subclass</th>\n",
       "      <th>ms_zoning</th>\n",
       "      <th>lot_frontage</th>\n",
       "      <th>lot_area</th>\n",
       "      <th>street</th>\n",
       "      <th>alley</th>\n",
       "      <th>lot_shape</th>\n",
       "      <th>land_contour</th>\n",
       "      <th>utilities</th>\n",
       "      <th>...</th>\n",
       "      <th>screen_porch</th>\n",
       "      <th>pool_area</th>\n",
       "      <th>pool_qc</th>\n",
       "      <th>fence</th>\n",
       "      <th>misc_feature</th>\n",
       "      <th>misc_val</th>\n",
       "      <th>mo_sold</th>\n",
       "      <th>yr_sold</th>\n",
       "      <th>sale_type</th>\n",
       "      <th>saleprice</th>\n",
       "    </tr>\n",
       "  </thead>\n",
       "  <tbody>\n",
       "    <tr>\n",
       "      <th>0</th>\n",
       "      <td>109</td>\n",
       "      <td>60</td>\n",
       "      <td>RL</td>\n",
       "      <td>NaN</td>\n",
       "      <td>13517</td>\n",
       "      <td>Pave</td>\n",
       "      <td>NaN</td>\n",
       "      <td>IR1</td>\n",
       "      <td>Lvl</td>\n",
       "      <td>AllPub</td>\n",
       "      <td>...</td>\n",
       "      <td>0</td>\n",
       "      <td>0</td>\n",
       "      <td>NaN</td>\n",
       "      <td>NaN</td>\n",
       "      <td>NaN</td>\n",
       "      <td>0</td>\n",
       "      <td>3</td>\n",
       "      <td>2010</td>\n",
       "      <td>WD</td>\n",
       "      <td>130500</td>\n",
       "    </tr>\n",
       "    <tr>\n",
       "      <th>1</th>\n",
       "      <td>544</td>\n",
       "      <td>60</td>\n",
       "      <td>RL</td>\n",
       "      <td>43.0</td>\n",
       "      <td>11492</td>\n",
       "      <td>Pave</td>\n",
       "      <td>NaN</td>\n",
       "      <td>IR1</td>\n",
       "      <td>Lvl</td>\n",
       "      <td>AllPub</td>\n",
       "      <td>...</td>\n",
       "      <td>0</td>\n",
       "      <td>0</td>\n",
       "      <td>NaN</td>\n",
       "      <td>NaN</td>\n",
       "      <td>NaN</td>\n",
       "      <td>0</td>\n",
       "      <td>4</td>\n",
       "      <td>2009</td>\n",
       "      <td>WD</td>\n",
       "      <td>220000</td>\n",
       "    </tr>\n",
       "    <tr>\n",
       "      <th>2</th>\n",
       "      <td>153</td>\n",
       "      <td>20</td>\n",
       "      <td>RL</td>\n",
       "      <td>68.0</td>\n",
       "      <td>7922</td>\n",
       "      <td>Pave</td>\n",
       "      <td>NaN</td>\n",
       "      <td>Reg</td>\n",
       "      <td>Lvl</td>\n",
       "      <td>AllPub</td>\n",
       "      <td>...</td>\n",
       "      <td>0</td>\n",
       "      <td>0</td>\n",
       "      <td>NaN</td>\n",
       "      <td>NaN</td>\n",
       "      <td>NaN</td>\n",
       "      <td>0</td>\n",
       "      <td>1</td>\n",
       "      <td>2010</td>\n",
       "      <td>WD</td>\n",
       "      <td>109000</td>\n",
       "    </tr>\n",
       "    <tr>\n",
       "      <th>3</th>\n",
       "      <td>318</td>\n",
       "      <td>60</td>\n",
       "      <td>RL</td>\n",
       "      <td>73.0</td>\n",
       "      <td>9802</td>\n",
       "      <td>Pave</td>\n",
       "      <td>NaN</td>\n",
       "      <td>Reg</td>\n",
       "      <td>Lvl</td>\n",
       "      <td>AllPub</td>\n",
       "      <td>...</td>\n",
       "      <td>0</td>\n",
       "      <td>0</td>\n",
       "      <td>NaN</td>\n",
       "      <td>NaN</td>\n",
       "      <td>NaN</td>\n",
       "      <td>0</td>\n",
       "      <td>4</td>\n",
       "      <td>2010</td>\n",
       "      <td>WD</td>\n",
       "      <td>174000</td>\n",
       "    </tr>\n",
       "    <tr>\n",
       "      <th>4</th>\n",
       "      <td>255</td>\n",
       "      <td>50</td>\n",
       "      <td>RL</td>\n",
       "      <td>82.0</td>\n",
       "      <td>14235</td>\n",
       "      <td>Pave</td>\n",
       "      <td>NaN</td>\n",
       "      <td>IR1</td>\n",
       "      <td>Lvl</td>\n",
       "      <td>AllPub</td>\n",
       "      <td>...</td>\n",
       "      <td>0</td>\n",
       "      <td>0</td>\n",
       "      <td>NaN</td>\n",
       "      <td>NaN</td>\n",
       "      <td>NaN</td>\n",
       "      <td>0</td>\n",
       "      <td>3</td>\n",
       "      <td>2010</td>\n",
       "      <td>WD</td>\n",
       "      <td>138500</td>\n",
       "    </tr>\n",
       "  </tbody>\n",
       "</table>\n",
       "<p>5 rows × 80 columns</p>\n",
       "</div>"
      ],
      "text/plain": [
       "    id  ms_subclass ms_zoning  lot_frontage  lot_area street alley lot_shape  \\\n",
       "0  109           60        RL           NaN     13517   Pave   NaN       IR1   \n",
       "1  544           60        RL          43.0     11492   Pave   NaN       IR1   \n",
       "2  153           20        RL          68.0      7922   Pave   NaN       Reg   \n",
       "3  318           60        RL          73.0      9802   Pave   NaN       Reg   \n",
       "4  255           50        RL          82.0     14235   Pave   NaN       IR1   \n",
       "\n",
       "  land_contour utilities  ... screen_porch pool_area pool_qc fence  \\\n",
       "0          Lvl    AllPub  ...            0         0     NaN   NaN   \n",
       "1          Lvl    AllPub  ...            0         0     NaN   NaN   \n",
       "2          Lvl    AllPub  ...            0         0     NaN   NaN   \n",
       "3          Lvl    AllPub  ...            0         0     NaN   NaN   \n",
       "4          Lvl    AllPub  ...            0         0     NaN   NaN   \n",
       "\n",
       "  misc_feature misc_val mo_sold  yr_sold  sale_type  saleprice  \n",
       "0          NaN        0       3     2010        WD      130500  \n",
       "1          NaN        0       4     2009        WD      220000  \n",
       "2          NaN        0       1     2010        WD      109000  \n",
       "3          NaN        0       4     2010        WD      174000  \n",
       "4          NaN        0       3     2010        WD      138500  \n",
       "\n",
       "[5 rows x 80 columns]"
      ]
     },
     "execution_count": 11,
     "metadata": {},
     "output_type": "execute_result"
    }
   ],
   "source": [
    "# df.drop(columns=['id','pid'], inplace=True)\n",
    "df.drop(columns=['pid'], inplace=True)\n",
    "df.head()"
   ]
  },
  {
   "cell_type": "markdown",
   "id": "b7fa6b5f",
   "metadata": {},
   "source": [
    "### Converting ordinal data"
   ]
  },
  {
   "cell_type": "code",
   "execution_count": 12,
   "id": "276e15cb",
   "metadata": {},
   "outputs": [
    {
     "data": {
      "text/plain": [
       "3    1295\n",
       "2     692\n",
       "1      55\n",
       "0       9\n",
       "Name: lot_shape, dtype: int64"
      ]
     },
     "execution_count": 12,
     "metadata": {},
     "output_type": "execute_result"
    }
   ],
   "source": [
    "#Fix Lot Shape col into ordinal data\n",
    "# Reg\tRegular\t(3);        IR1\tSlightly irregular (2);       IR2\tModerately Irregular (1);       IR3\tIrregular (0)\n",
    "\n",
    "lot_shape_key = {'Reg':3, 'IR1':2, 'IR2':1, 'IR3':0, np.nan:0}\n",
    "df['lot_shape'] = df['lot_shape'].map(lot_shape_key)\n",
    "\n",
    "df['lot_shape'].value_counts()"
   ]
  },
  {
   "cell_type": "code",
   "execution_count": 13,
   "id": "bfa6f60f",
   "metadata": {},
   "outputs": [
    {
     "data": {
      "text/plain": [
       "4    2049\n",
       "2       1\n",
       "3       1\n",
       "Name: utilities, dtype: int64"
      ]
     },
     "execution_count": 13,
     "metadata": {},
     "output_type": "execute_result"
    }
   ],
   "source": [
    "#Fix Utilities col into ordinal data\n",
    "#        AllPub\tAll public Utilities (E,G,W,& S) (4)\n",
    "#        NoSewr\tElectricity, Gas, and Water (Septic Tank) (3)\n",
    "#        NoSeWa\tElectricity and Gas Only (2)\n",
    "#        ELO\tElectricity only\t(1)\n",
    "\n",
    "utils_key = {'AllPub':4, 'NoSewr':3, 'NoSeWa':2, 'ELO':1, np.nan:0}\n",
    "df['utilities'] = df['utilities'].map(utils_key)\n",
    "\n",
    "df['utilities'].value_counts()"
   ]
  },
  {
   "cell_type": "code",
   "execution_count": 14,
   "id": "994c037a",
   "metadata": {},
   "outputs": [
    {
     "data": {
      "text/plain": [
       "0    1953\n",
       "1      88\n",
       "2      10\n",
       "Name: land_slope, dtype: int64"
      ]
     },
     "execution_count": 14,
     "metadata": {},
     "output_type": "execute_result"
    }
   ],
   "source": [
    "#Fix Land Slope col into ordinal data\n",
    "# Gtl\tGentle slope (0);       Mod\tModerate Slope\t(1);       Sev\tSevere Slope (2)\n",
    "\n",
    "land_slope_key = {'Sev':2, 'Mod':1, 'Gtl':0, np.nan:0}\n",
    "df['land_slope'] = df['land_slope'].map(land_slope_key)\n",
    "\n",
    "df['land_slope'].value_counts()"
   ]
  },
  {
   "cell_type": "code",
   "execution_count": 15,
   "id": "e756fec3",
   "metadata": {},
   "outputs": [
    {
     "data": {
      "text/plain": [
       "3    1247\n",
       "4     697\n",
       "5      81\n",
       "2      26\n",
       "Name: exter_qual, dtype: int64"
      ]
     },
     "execution_count": 15,
     "metadata": {},
     "output_type": "execute_result"
    }
   ],
   "source": [
    "#Fix Exter Qual col into ordinal data\n",
    "# Ex\tExcellent (5);        Gd\tGood (4);       TA\tAverage/Typical (3);       Fa\tFair (2);       Po\tPoor (1)\n",
    "\n",
    "ext_qual_key = {'Ex':5, 'Gd':4, 'TA':3, 'Fa':2, 'Po':1, np.nan:0}\n",
    "df['exter_qual'] = df['exter_qual'].map(ext_qual_key)\n",
    "\n",
    "df['exter_qual'].value_counts()"
   ]
  },
  {
   "cell_type": "code",
   "execution_count": 16,
   "id": "88587264",
   "metadata": {},
   "outputs": [
    {
     "data": {
      "text/plain": [
       "3    1778\n",
       "4     215\n",
       "2      49\n",
       "5       7\n",
       "1       2\n",
       "Name: exter_cond, dtype: int64"
      ]
     },
     "execution_count": 16,
     "metadata": {},
     "output_type": "execute_result"
    }
   ],
   "source": [
    "#Fix Exter Cond col into ordinal data\n",
    "# Ex\tExcellent (5);        Gd\tGood (4);       TA\tAverage/Typical (3);       Fa\tFair (2);       Po\tPoor (1)\n",
    "\n",
    "ext_cond_key = {'Ex':5, 'Gd':4, 'TA':3, 'Fa':2, 'Po':1, np.nan:0}\n",
    "df['exter_cond'] = df['exter_cond'].map(ext_cond_key)\n",
    "\n",
    "df['exter_cond'].value_counts()"
   ]
  },
  {
   "cell_type": "code",
   "execution_count": 17,
   "id": "007cf58b-17f3-40e6-9b68-506a4d909b00",
   "metadata": {},
   "outputs": [
    {
     "data": {
      "text/plain": [
       "3    887\n",
       "4    864\n",
       "5    184\n",
       "2     60\n",
       "0     55\n",
       "1      1\n",
       "Name: bsmt_qual, dtype: int64"
      ]
     },
     "execution_count": 17,
     "metadata": {},
     "output_type": "execute_result"
    }
   ],
   "source": [
    "#Fix Bsmt Qual col into ordinal data\n",
    "# Ex\tExcellent (100+ inches) (5);        Gd\tGood (90-99 inches) (4);       TA\tTypical (80-89 inches) (3);       \n",
    "# Fa\tFair (70-79 inches) (2);       Po\tPoor (<70 inches (1);    NA\tNo Basement (0)\n",
    "\n",
    "bsmt_qual_key = {'Ex':5, 'Gd':4, 'TA':3, 'Fa':2, 'Po':1, 'NA':0, np.nan:0}\n",
    "df['bsmt_qual'] = df['bsmt_qual'].map(bsmt_qual_key)\n",
    "\n",
    "df['bsmt_qual'].value_counts()"
   ]
  },
  {
   "cell_type": "code",
   "execution_count": 18,
   "id": "6d93ddd0-db33-48e5-92fb-37205ce16cb6",
   "metadata": {},
   "outputs": [
    {
     "data": {
      "text/plain": [
       "3    1834\n",
       "4      89\n",
       "2      65\n",
       "0      55\n",
       "1       5\n",
       "5       3\n",
       "Name: bsmt_cond, dtype: int64"
      ]
     },
     "execution_count": 18,
     "metadata": {},
     "output_type": "execute_result"
    }
   ],
   "source": [
    "#Fix Bsmt Cond col into ordinal data\n",
    "# Ex\tExcellent (5);        Gd\tGood (4);       TA\tAverage/Typical (3);   Fa\tFair (2);    Po\tPoor (1);    NA\tNo Basement (0)\n",
    "\n",
    "bsmt_cond_key = {'Ex':5, 'Gd':4, 'TA':3, 'Fa':2, 'Po':1, 'NA':0, np.nan:0}\n",
    "df['bsmt_cond'] = df['bsmt_cond'].map(bsmt_cond_key)\n",
    "\n",
    "df['bsmt_cond'].value_counts()"
   ]
  },
  {
   "cell_type": "code",
   "execution_count": 19,
   "id": "8247c976-1a39-4727-9ea3-9397452c5cda",
   "metadata": {},
   "outputs": [
    {
     "data": {
      "text/plain": [
       "1    1339\n",
       "3     288\n",
       "4     203\n",
       "2     163\n",
       "0      58\n",
       "Name: bsmt_exposure, dtype: int64"
      ]
     },
     "execution_count": 19,
     "metadata": {},
     "output_type": "execute_result"
    }
   ],
   "source": [
    "#Fix Bsmt Exposure col into ordinal data\n",
    "# Gd\tGood (4);       Av\tAverage Exposure (3);   Mn\tMimimum Exposure (2);    No\tNo Exposure (1);    NA\tNo Basement (0)\n",
    "\n",
    "bsmt_exposure_key = {'Gd':4, 'Av':3, 'Mn':2, 'No':1, 'NA':0, np.nan:0}\n",
    "df['bsmt_exposure'] = df['bsmt_exposure'].map(bsmt_exposure_key)\n",
    "\n",
    "df['bsmt_exposure'].value_counts()"
   ]
  },
  {
   "cell_type": "code",
   "execution_count": 20,
   "id": "d12f7e97-07f6-4759-ae5e-d0a6a69ce488",
   "metadata": {},
   "outputs": [
    {
     "data": {
      "text/plain": [
       "6    615\n",
       "1    603\n",
       "5    293\n",
       "4    200\n",
       "3    183\n",
       "2    102\n",
       "0     55\n",
       "Name: bsmtfin_type_1, dtype: int64"
      ]
     },
     "execution_count": 20,
     "metadata": {},
     "output_type": "execute_result"
    }
   ],
   "source": [
    "#Fix BsmtFin Type 1 col into ordinal data\n",
    "#  GLQ\tGood Living Quarters (6);       ALQ\tAverage Living Quarters (5);       BLQ\tBelow Average Living Quarters (4);\n",
    "#  Rec\tAverage Rec Room (3);   LwQ\tLow Quality (2);    Unf\tUnfinshed (1);       NA\tNo Basement (0)\n",
    "\n",
    "bsmtfin_type_1_key = {'GLQ':6, 'ALQ':5, 'BLQ':4, 'Rec':3, 'LwQ':2, 'Unf':1, 'NA':0, np.nan:0}\n",
    "df['bsmtfin_type_1'] = df['bsmtfin_type_1'].map(bsmtfin_type_1_key)\n",
    "\n",
    "df['bsmtfin_type_1'].value_counts()"
   ]
  },
  {
   "cell_type": "code",
   "execution_count": 21,
   "id": "13b6d976-4411-43cf-ab2b-1082ec5a4f36",
   "metadata": {},
   "outputs": [
    {
     "data": {
      "text/plain": [
       "1    1749\n",
       "3      80\n",
       "2      60\n",
       "0      56\n",
       "4      48\n",
       "5      35\n",
       "6      23\n",
       "Name: bsmtfin_type_2, dtype: int64"
      ]
     },
     "execution_count": 21,
     "metadata": {},
     "output_type": "execute_result"
    }
   ],
   "source": [
    "#Fix BsmtFin Type 2 col into ordinal data\n",
    "#  GLQ\tGood Living Quarters (6);       ALQ\tAverage Living Quarters (5);       BLQ\tBelow Average Living Quarters (4);\n",
    "#  Rec\tAverage Rec Room (3);   LwQ\tLow Quality (2);    Unf\tUnfinshed (1);       NA\tNo Basement (0)\n",
    "\n",
    "bsmtfin_type_2_key = {'GLQ':6, 'ALQ':5, 'BLQ':4, 'Rec':3, 'LwQ':2, 'Unf':1, 'NA':0, np.nan:0}\n",
    "df['bsmtfin_type_2'] = df['bsmtfin_type_2'].map(bsmtfin_type_2_key)\n",
    "\n",
    "df['bsmtfin_type_2'].value_counts()"
   ]
  },
  {
   "cell_type": "code",
   "execution_count": 22,
   "id": "a07c6238-e312-415c-93f1-dd09fde669ce",
   "metadata": {},
   "outputs": [
    {
     "data": {
      "text/plain": [
       "5    1065\n",
       "3     597\n",
       "4     319\n",
       "2      67\n",
       "1       3\n",
       "Name: heating_qc, dtype: int64"
      ]
     },
     "execution_count": 22,
     "metadata": {},
     "output_type": "execute_result"
    }
   ],
   "source": [
    "#Fix Heating QC col into ordinal data\n",
    "# Ex\tExcellent (5);        Gd\tGood (4);       TA\tAverage/Typical (3);   Fa\tFair (2);    Po\tPoor (1)\n",
    "\n",
    "heating_qc_key = {'Ex':5, 'Gd':4, 'TA':3, 'Fa':2, 'Po':1, np.nan:0}\n",
    "df['heating_qc'] = df['heating_qc'].map(heating_qc_key)\n",
    "\n",
    "df['heating_qc'].value_counts()"
   ]
  },
  {
   "cell_type": "code",
   "execution_count": 23,
   "id": "1c08a169-6af5-439b-a1d5-624d4191e45b",
   "metadata": {},
   "outputs": [
    {
     "data": {
      "text/plain": [
       "1    1910\n",
       "0     141\n",
       "Name: central_air, dtype: int64"
      ]
     },
     "execution_count": 23,
     "metadata": {},
     "output_type": "execute_result"
    }
   ],
   "source": [
    "#Fix Central Air col into 1/0\n",
    "#        N\tNo (0);   Y\tYes (1)\n",
    "\n",
    "central_air_key = {'Y':1, 'N':0, np.nan:0}\n",
    "df['central_air'] = df['central_air'].map(central_air_key)\n",
    "\n",
    "df['central_air'].value_counts()"
   ]
  },
  {
   "cell_type": "code",
   "execution_count": 24,
   "id": "604cc7ea-44c3-4f3a-acc4-c9bd697bdb83",
   "metadata": {},
   "outputs": [
    {
     "data": {
      "text/plain": [
       "4    1868\n",
       "3     140\n",
       "2      36\n",
       "1       7\n",
       "Name: electrical, dtype: int64"
      ]
     },
     "execution_count": 24,
     "metadata": {},
     "output_type": "execute_result"
    }
   ],
   "source": [
    "#Fix Electrical col into ordinal data\n",
    "# SBrkr\tStandard Circuit Breakers & Romex (4); FuseA\tFuse Box over 60 AMP and all Romex wiring (Average) (3);\n",
    "# FuseF\t60 AMP Fuse Box and mostly Romex wiring (Fair) (2); FuseP\t60 AMP Fuse Box and mostly knob & tube wiring (poor) (1);\n",
    "# Mix\tMixed (2) #!!!!\n",
    "\n",
    "electrical_key = {'Ex':5, 'SBrkr':4, 'FuseA':3, 'FuseF':2, 'FuseP':1, 'Mix':2, np.nan:1}   # DIFFERENT THAN TYPICAL!\n",
    "df['electrical'] = df['electrical'].map(electrical_key)\n",
    "\n",
    "df['electrical'].value_counts()"
   ]
  },
  {
   "cell_type": "code",
   "execution_count": 25,
   "id": "26a9aa84-b27d-46a3-b020-d88a34d080a3",
   "metadata": {},
   "outputs": [
    {
     "data": {
      "text/plain": [
       "3    1047\n",
       "4     806\n",
       "5     151\n",
       "2      47\n",
       "Name: kitchen_qual, dtype: int64"
      ]
     },
     "execution_count": 25,
     "metadata": {},
     "output_type": "execute_result"
    }
   ],
   "source": [
    "#Fix Kitchen Qual col into ordinal data\n",
    "# Ex\tExcellent (5);        Gd\tGood (4);       TA\tAverage/Typical (3);   Fa\tFair (2);    Po\tPoor (1)\n",
    "\n",
    "kitchen_qual_key = {'Ex':5, 'Gd':4, 'TA':3, 'Fa':2, 'Po':1, np.nan:0}\n",
    "df['kitchen_qual'] = df['kitchen_qual'].map(kitchen_qual_key)\n",
    "\n",
    "df['kitchen_qual'].value_counts()"
   ]
  },
  {
   "cell_type": "code",
   "execution_count": 26,
   "id": "c7583b6e-3ddd-41ba-83f9-db7b26463bb3",
   "metadata": {},
   "outputs": [
    {
     "data": {
      "text/plain": [
       "7    1915\n",
       "5      42\n",
       "6      42\n",
       "4      29\n",
       "3      12\n",
       "2       7\n",
       "1       2\n",
       "0       2\n",
       "Name: functional, dtype: int64"
      ]
     },
     "execution_count": 26,
     "metadata": {},
     "output_type": "execute_result"
    }
   ],
   "source": [
    "#Fix Functional col into ordinal data\n",
    "# Typ\tTypical Functionality (7); Min1\tMinor Deductions 1 (6); Min2\tMinor Deductions 2 (5); Mod\tModerate Deductions (4);\n",
    "# Maj1\tMajor Deductions 1 (3); Maj2\tMajor Deductions 2 (2);  Sev\tSeverely Damaged (1); Sal\tSalvage only (0);\n",
    "\n",
    "functional_key = {'Typ':7, 'Min1':6, 'Min2':5, 'Mod':4, 'Maj1':3, 'Maj2':2, 'Sev':1, 'Sal':0, np.nan:0}\n",
    "df['functional'] = df['functional'].map(functional_key)\n",
    "\n",
    "df['functional'].value_counts()"
   ]
  },
  {
   "cell_type": "code",
   "execution_count": 27,
   "id": "d4403217-c9fe-4935-a602-a42ef3829ec9",
   "metadata": {},
   "outputs": [
    {
     "data": {
      "text/plain": [
       "0    1000\n",
       "4     523\n",
       "3     407\n",
       "2      59\n",
       "1      31\n",
       "5      31\n",
       "Name: fireplace_qu, dtype: int64"
      ]
     },
     "execution_count": 27,
     "metadata": {},
     "output_type": "execute_result"
    }
   ],
   "source": [
    "#Fix Fireplace Qu col into ordinal data\n",
    "# Ex\tExcellent - Exceptional Masonry Fireplace (5);        Gd\tGood - Masonry Fireplace in main level (4);       \n",
    "# TA\tAverage - Prefabricated Fireplace in main living area or Masonry Fireplace in basement (3);   \n",
    "# Fa\tFair - Prefabricated Fireplace in basement (2);    Po\tPoor - Ben Franklin Stove (1); NA\tNo Fireplace (0)\n",
    "\n",
    "fireplace_qu_key = {'Ex':5, 'Gd':4, 'TA':3, 'Fa':2, 'Po':1, 'NA':0, np.nan:0}\n",
    "df['fireplace_qu'] = df['fireplace_qu'].map(fireplace_qu_key)\n",
    "\n",
    "df['fireplace_qu'].value_counts()"
   ]
  },
  {
   "cell_type": "code",
   "execution_count": 28,
   "id": "e6b81c75-5903-45ee-910d-3e4da1c09e6f",
   "metadata": {},
   "outputs": [
    {
     "data": {
      "text/plain": [
       "1    849\n",
       "2    579\n",
       "3    509\n",
       "0    114\n",
       "Name: garage_finish, dtype: int64"
      ]
     },
     "execution_count": 28,
     "metadata": {},
     "output_type": "execute_result"
    }
   ],
   "source": [
    "#Fix Garage Finish col into ordinal data\n",
    "# Fin\tFinished (3);   RFn\tRough Finished (2);    Unf\tUnfinished (1); NA\tNo Garage (0)\n",
    "\n",
    "garage_finish_key = {'Fin':3, 'RFn':2, 'Unf':1, 'NA':0, np.nan:0}\n",
    "df['garage_finish'] = df['garage_finish'].map(garage_finish_key)\n",
    "\n",
    "df['garage_finish'].value_counts()"
   ]
  },
  {
   "cell_type": "code",
   "execution_count": 29,
   "id": "be3bc22c-0661-4655-a043-d42a75b72910",
   "metadata": {},
   "outputs": [
    {
     "data": {
      "text/plain": [
       "3    1832\n",
       "0     114\n",
       "2      82\n",
       "4      18\n",
       "5       3\n",
       "1       2\n",
       "Name: garage_qual, dtype: int64"
      ]
     },
     "execution_count": 29,
     "metadata": {},
     "output_type": "execute_result"
    }
   ],
   "source": [
    "#Fix Garage Qual col into ordinal data\n",
    "# Ex\tExcellent (100+ inches) (5);        Gd\tGood (90-99 inches) (4);       TA\tTypical (80-89 inches) (3);       \n",
    "# Fa\tFair (70-79 inches) (2);       Po\tPoor (<70 inches (1);    NA\tNo Basement (0)\n",
    "\n",
    "garage_qual_key = {'Ex':5, 'Gd':4, 'TA':3, 'Fa':2, 'Po':1, 'NA':0, np.nan:0}\n",
    "df['garage_qual'] = df['garage_qual'].map(garage_qual_key)\n",
    "\n",
    "df['garage_qual'].value_counts()"
   ]
  },
  {
   "cell_type": "code",
   "execution_count": 30,
   "id": "d5ce6027-4a8e-4be3-96f8-568ca7bbad76",
   "metadata": {},
   "outputs": [
    {
     "data": {
      "text/plain": [
       "3    1868\n",
       "0     114\n",
       "2      47\n",
       "4      12\n",
       "1       8\n",
       "5       2\n",
       "Name: garage_cond, dtype: int64"
      ]
     },
     "execution_count": 30,
     "metadata": {},
     "output_type": "execute_result"
    }
   ],
   "source": [
    "#Fix Garage Cond col into ordinal data\n",
    "# Ex\tExcellent (5);        Gd\tGood (4);       TA\tAverage/Typical (3);   Fa\tFair (2);    Po\tPoor (1);    NA\tNo Basement (0)\n",
    "\n",
    "garage_cond_key = {'Ex':5, 'Gd':4, 'TA':3, 'Fa':2, 'Po':1, 'NA':0, np.nan:0}\n",
    "df['garage_cond'] = df['garage_cond'].map(garage_cond_key)\n",
    "\n",
    "df['garage_cond'].value_counts()"
   ]
  },
  {
   "cell_type": "code",
   "execution_count": 31,
   "id": "e708ec03-7733-4043-bde6-d5dc9e6255c5",
   "metadata": {},
   "outputs": [
    {
     "data": {
      "text/plain": [
       "2    1861\n",
       "0     151\n",
       "1      39\n",
       "Name: paved_drive, dtype: int64"
      ]
     },
     "execution_count": 31,
     "metadata": {},
     "output_type": "execute_result"
    }
   ],
   "source": [
    "#Fix Paved Drive col into ordinal data\n",
    "#        Y\tPaved (2);        P\tPartial Pavement (1);        N\tDirt/Gravel (0)\n",
    "\n",
    "paved_drive_key = {'Y':2, 'P':1,'N':0, np.nan:0}\n",
    "df['paved_drive'] = df['paved_drive'].map(paved_drive_key)\n",
    "\n",
    "df['paved_drive'].value_counts()"
   ]
  },
  {
   "cell_type": "code",
   "execution_count": 32,
   "id": "eef83581",
   "metadata": {},
   "outputs": [
    {
     "data": {
      "text/plain": [
       "0    2042\n",
       "3       4\n",
       "1       2\n",
       "2       2\n",
       "4       1\n",
       "Name: pool_qc, dtype: int64"
      ]
     },
     "execution_count": 32,
     "metadata": {},
     "output_type": "execute_result"
    }
   ],
   "source": [
    "#Fix Pool Quality col into ordinal data\n",
    "\n",
    "# Ex\tExcellent (4);       Gd\tGood (3);       TA\tAverage/Typical (2);       Fa\tFair (1);       NA\tNo Pool (0)\n",
    "\n",
    "# df['pool_qc'].value_counts()\n",
    "pool_qual_key = {'Ex':4, 'Gd':3, 'TA':2, 'Fa':1, 'NA':0, np.nan:0}\n",
    "df['pool_qc'] = df['pool_qc'].map(pool_qual_key)\n",
    "\n",
    "df['pool_qc'].value_counts()"
   ]
  },
  {
   "cell_type": "code",
   "execution_count": 33,
   "id": "ae4b635d",
   "metadata": {},
   "outputs": [
    {
     "data": {
      "text/plain": [
       "0    1651\n",
       "3     227\n",
       "4      83\n",
       "2      80\n",
       "1      10\n",
       "Name: fence, dtype: int64"
      ]
     },
     "execution_count": 33,
     "metadata": {},
     "output_type": "execute_result"
    }
   ],
   "source": [
    "#Fix Fence col into ordinal data\n",
    "\n",
    "# GdPrv\tGood Privacy (4); MnPrv\tMinimum Privacy (3); GdWo\tGood Wood (2); MnWw\tMinimum Wood/Wire (1); NA\tNo Fence (0)\n",
    "\n",
    "fence_key = {'GdPrv':4, 'MnPrv':3, 'GdWo':2, 'MnWw':1, 'NA':0, np.nan:0}\n",
    "df['fence'] = df['fence'].map(fence_key)\n",
    "\n",
    "df['fence'].value_counts()"
   ]
  },
  {
   "cell_type": "code",
   "execution_count": null,
   "id": "05ad1d3b-7d21-47f8-aee6-64fca4df9149",
   "metadata": {},
   "outputs": [],
   "source": []
  },
  {
   "cell_type": "code",
   "execution_count": 34,
   "id": "3e42ffe3",
   "metadata": {},
   "outputs": [
    {
     "data": {
      "text/plain": [
       "misc_feature      1986\n",
       "alley             1911\n",
       "lot_frontage       330\n",
       "garage_yr_blt      114\n",
       "garage_type        113\n",
       "mas_vnr_type        22\n",
       "mas_vnr_area        22\n",
       "bsmt_full_bath       2\n",
       "bsmt_half_bath       2\n",
       "garage_cars          1\n",
       "dtype: int64"
      ]
     },
     "execution_count": 34,
     "metadata": {},
     "output_type": "execute_result"
    }
   ],
   "source": [
    "df.isna().sum().sort_values(ascending=False).head(10)"
   ]
  },
  {
   "cell_type": "code",
   "execution_count": 35,
   "id": "2346bf81",
   "metadata": {},
   "outputs": [
    {
     "data": {
      "text/plain": [
       "Grvl    85\n",
       "Pave    55\n",
       "Name: alley, dtype: int64"
      ]
     },
     "execution_count": 35,
     "metadata": {},
     "output_type": "execute_result"
    }
   ],
   "source": [
    "df['alley'].value_counts()"
   ]
  },
  {
   "cell_type": "code",
   "execution_count": 36,
   "id": "2f647177-2fee-49bc-a577-3fa41f96bd2e",
   "metadata": {},
   "outputs": [
    {
     "data": {
      "text/plain": [
       "0.0    1200\n",
       "1.0     824\n",
       "2.0      23\n",
       "3.0       2\n",
       "Name: bsmt_full_bath, dtype: int64"
      ]
     },
     "execution_count": 36,
     "metadata": {},
     "output_type": "execute_result"
    }
   ],
   "source": [
    "df['bsmt_full_bath'].value_counts()"
   ]
  },
  {
   "cell_type": "markdown",
   "id": "addbbf9c-6156-4299-a0e0-1597f4a268da",
   "metadata": {},
   "source": [
    "### Setting NaN's to 0 (or other) for columns where applicable"
   ]
  },
  {
   "cell_type": "code",
   "execution_count": 37,
   "id": "b5df4d9c-81c5-4e48-862d-0f4963f28f6d",
   "metadata": {},
   "outputs": [],
   "source": [
    "# df[df['bsmt_full_bath'].isna()]\n",
    "# df.iloc[616]['bsmt_full_bath']"
   ]
  },
  {
   "cell_type": "code",
   "execution_count": 38,
   "id": "377ae6ec-dd4f-4582-95e9-7b61a661f8ef",
   "metadata": {},
   "outputs": [],
   "source": [
    "df.loc[df['lot_frontage'].isna(),'lot_frontage'] = 0\n",
    "df.loc[df['mas_vnr_area'].isna(),'mas_vnr_area'] = 0\n",
    "\n",
    "df.loc[df['bsmtfin_sf_1'].isna(),'bsmtfin_sf_1'] = 0\n",
    "df.loc[df['bsmtfin_sf_2'].isna(),'bsmtfin_sf_2'] = 0\n",
    "df.loc[df['bsmt_unf_sf'].isna(),'bsmt_unf_sf'] = 0\n",
    "df.loc[df['total_bsmt_sf'].isna(),'total_bsmt_sf'] = 0\n",
    "df.loc[df['bsmt_full_bath'].isna(),'bsmt_full_bath'] = 0\n",
    "df.loc[df['bsmt_half_bath'].isna(),'bsmt_half_bath'] = 0\n",
    "df.loc[df['full_bath'].isna(),'full_bath'] = 0         #0 count already anyways\n",
    "df.loc[df['half_bath'].isna(),'half_bath'] = 0         #0 count already anyways\n",
    "df.loc[df['bedroom_abvgr'].isna(),'bedroom_abvgr'] = 0 #0 count already anyways\n",
    "df.loc[df['kitchen_abvgr'].isna(),'kitchen_abvgr'] = 0 #0 count already anyways\n",
    "df.loc[df['totrms_abvgrd'].isna(),'totrms_abvgrd'] = 0 #0 count already anyways\n",
    "df.loc[df['fireplaces'].isna(),'fireplaces'] = 0       #0 count already anyways\n",
    "df.loc[df['garage_cars'].isna(),'garage_cars'] = 0\n",
    "df.loc[df['garage_area'].isna(),'garage_area'] = 0"
   ]
  },
  {
   "cell_type": "markdown",
   "id": "b1d960c6-a48c-4061-a5d9-44a8a4cbfcc4",
   "metadata": {},
   "source": [
    "# FIX ME!!!!"
   ]
  },
  {
   "cell_type": "markdown",
   "id": "3468c802-b1f1-4fec-8928-64608800e4b4",
   "metadata": {},
   "source": [
    "# FIX ME!!!!"
   ]
  },
  {
   "cell_type": "code",
   "execution_count": 39,
   "id": "20305440-c127-442e-ae23-18fda83a0cc9",
   "metadata": {},
   "outputs": [],
   "source": [
    "#TBD how to handle NaN's\n",
    "# 'garage_yr_blt', 'lot_frontage'\n",
    "df.loc[df['garage_yr_blt'].isna(),'garage_yr_blt'] = 0"
   ]
  },
  {
   "cell_type": "markdown",
   "id": "bbb31464-1893-49cd-8616-91750caf85c8",
   "metadata": {},
   "source": [
    "# FIX ME!!!!"
   ]
  },
  {
   "cell_type": "markdown",
   "id": "31462405-ef5d-4fbd-8b21-c5b865306d29",
   "metadata": {},
   "source": [
    "# FIX ME!!!!"
   ]
  },
  {
   "cell_type": "markdown",
   "id": "e87983cc-3017-4238-9537-da8a7dbd5425",
   "metadata": {},
   "source": [
    "### Converting other categorical data cols into One-Hot Encoded cols"
   ]
  },
  {
   "cell_type": "code",
   "execution_count": 40,
   "id": "7e04f0a8-c97e-4536-ba72-0fe3a8df7721",
   "metadata": {},
   "outputs": [
    {
     "data": {
      "text/plain": [
       "Index(['id', 'ms_subclass', 'ms_zoning', 'lot_frontage', 'lot_area', 'street',\n",
       "       'alley', 'lot_shape', 'land_contour', 'utilities', 'lot_config',\n",
       "       'land_slope', 'neighborhood', 'condition_1', 'condition_2', 'bldg_type',\n",
       "       'house_style', 'overall_qual', 'overall_cond', 'year_built',\n",
       "       'year_remod/add', 'roof_style', 'roof_matl', 'exterior_1st',\n",
       "       'exterior_2nd', 'mas_vnr_type', 'mas_vnr_area', 'exter_qual',\n",
       "       'exter_cond', 'foundation', 'bsmt_qual', 'bsmt_cond', 'bsmt_exposure',\n",
       "       'bsmtfin_type_1', 'bsmtfin_sf_1', 'bsmtfin_type_2', 'bsmtfin_sf_2',\n",
       "       'bsmt_unf_sf', 'total_bsmt_sf', 'heating', 'heating_qc', 'central_air',\n",
       "       'electrical', '1st_flr_sf', '2nd_flr_sf', 'low_qual_fin_sf',\n",
       "       'gr_liv_area', 'bsmt_full_bath', 'bsmt_half_bath', 'full_bath',\n",
       "       'half_bath', 'bedroom_abvgr', 'kitchen_abvgr', 'kitchen_qual',\n",
       "       'totrms_abvgrd', 'functional', 'fireplaces', 'fireplace_qu',\n",
       "       'garage_type', 'garage_yr_blt', 'garage_finish', 'garage_cars',\n",
       "       'garage_area', 'garage_qual', 'garage_cond', 'paved_drive',\n",
       "       'wood_deck_sf', 'open_porch_sf', 'enclosed_porch', '3ssn_porch',\n",
       "       'screen_porch', 'pool_area', 'pool_qc', 'fence', 'misc_feature',\n",
       "       'misc_val', 'mo_sold', 'yr_sold', 'sale_type', 'saleprice'],\n",
       "      dtype='object')"
      ]
     },
     "execution_count": 40,
     "metadata": {},
     "output_type": "execute_result"
    }
   ],
   "source": [
    "df.columns"
   ]
  },
  {
   "cell_type": "code",
   "execution_count": 41,
   "id": "49682186",
   "metadata": {},
   "outputs": [],
   "source": [
    "# getdummies\n",
    "dummy_cols = [\n",
    "'ms_subclass',\n",
    "'ms_zoning',\n",
    "'street',\n",
    "'land_contour',\n",
    "'lot_config',\n",
    "'neighborhood',\n",
    "'condition_1',\n",
    "'condition_2',\n",
    "'bldg_type',\n",
    "'house_style',\n",
    "'roof_style',\n",
    "'roof_matl',\n",
    "'exterior_1st',\n",
    "'exterior_2nd',\n",
    "'foundation',\n",
    "'heating',\n",
    "'mo_sold',\n",
    "'yr_sold',\n",
    "'sale_type'\n",
    "]\n",
    "\n",
    "dummy_cols_w_nan = [\n",
    "'alley',        # Has NaN's, don't drop first\n",
    "'mas_vnr_type', # Has NaN's, don't drop first\n",
    "'garage_type',  # Has NaN's, don't drop first\n",
    "'misc_feature', # Has NaN's, don't drop first\n",
    "]\n",
    "\n",
    "# df2 = pd.get_dummies(df, columns = dummy_cols, drop_first=True)\n",
    "# df3 = pd.get_dummies(df2, columns = dummy_cols_w_nan, drop_first=False)\n",
    "# df = df3\n",
    "\n",
    "# # Reference: https://stackoverflow.com/questions/21285380/find-column-whose-name-contains-a-specific-string\n",
    "# # spike_cols = [col for col in df.columns if 'spike' in col]\n",
    "\n",
    "# ms_subclass_cols = [col for col in df.columns if 'ms_subclass' in col]\n",
    "# ms_zoning_cols = [col for col in df.columns if 'ms_zoning' in col]\n",
    "# land_contour_cols = [col for col in df.columns if 'land_contour' in col]\n",
    "# lot_config_cols = [col for col in df.columns if 'lot_config' in col]\n",
    "# neighborhood_cols = [col for col in df.columns if 'neighborhood' in col]\n",
    "# condition_1_cols = [col for col in df.columns if 'condition_1' in col]\n",
    "# condition_2_cols = [col for col in df.columns if 'condition_2' in col]\n",
    "# bldg_type_cols = [col for col in df.columns if 'bldg_type' in col]\n",
    "# house_style_cols = [col for col in df.columns if 'house_style' in col]\n",
    "# roof_style_cols = [col for col in df.columns if 'roof_style' in col]\n",
    "# roof_matl_cols = [col for col in df.columns if 'roof_matl' in col]\n",
    "# exterior_1st_cols = [col for col in df.columns if 'exterior_1st' in col]\n",
    "# exterior_2nd_cols = [col for col in df.columns if 'foundation' in col]\n",
    "# heating_cols = [col for col in df.columns if 'heating' in col]   #will pick up non-dummy col(s) also\n",
    "# mo_sold_cols = [col for col in df.columns if 'mo_sold' in col]\n",
    "# yr_sold_cols = [col for col in df.columns if 'yr_sold' in col]\n",
    "# sale_type_cols = [col for col in df.columns if 'sale_type' in col]\n",
    "# alley_cols = [col for col in df.columns if 'alley' in col]\n",
    "# mas_vnr_type_cols = [col for col in df.columns if 'mas_vnr_type' in col]\n",
    "# garage_type_cols = [col for col in df.columns if 'garage_type' in col]\n",
    "# misc_feature_cols = [col for col in df.columns if 'misc_feature' in col]"
   ]
  },
  {
   "cell_type": "code",
   "execution_count": 42,
   "id": "e9e50116-76ba-4ed7-9827-2673843c3d27",
   "metadata": {},
   "outputs": [],
   "source": [
    "# continuous\n",
    "\n",
    "# lot_frontage\n",
    "# lot_area\n",
    "# bsmtfin_sf_1\n",
    "# bsmtfin_sf_2\n",
    "# bsmt_unf_sf\n",
    "# total_bsmt_sf\n",
    "# 2nd_flr_sf\n",
    "# low_qual_fin_sf\n",
    "# gr_liv_area\n",
    "# garage_area\n",
    "# wood_deck_sf\n",
    "\n",
    "\n",
    "# 'open_porch_sf',\n",
    "#        'enclosed_porch', '3ssn_porch', 'screen_porch', 'pool_area'\n",
    "#     saleprice"
   ]
  },
  {
   "cell_type": "code",
   "execution_count": 43,
   "id": "b980cfeb-5209-459d-830e-de12ed75dec7",
   "metadata": {},
   "outputs": [
    {
     "data": {
      "text/plain": [
       "(2051, 80)"
      ]
     },
     "execution_count": 43,
     "metadata": {},
     "output_type": "execute_result"
    }
   ],
   "source": [
    "df.shape"
   ]
  },
  {
   "cell_type": "markdown",
   "id": "c751a68f-bf1d-4d5a-8476-a6aafd34e124",
   "metadata": {},
   "source": [
    "### Write intermediate cleaned dataset"
   ]
  },
  {
   "cell_type": "code",
   "execution_count": 44,
   "id": "25e738a7-e13f-4022-8a75-b6a61a90659c",
   "metadata": {},
   "outputs": [],
   "source": [
    "if run_type == 1:\n",
    "    df.to_csv(f'./datasets/ames_cleaned_{run_id_number}.csv',index=False)\n",
    "else:\n",
    "    df.to_csv(f'./datasets/test_cleaned_{run_id_number}.csv',index=False)"
   ]
  },
  {
   "cell_type": "code",
   "execution_count": null,
   "id": "738813b4-caab-444d-aa93-6e056d9799d3",
   "metadata": {},
   "outputs": [],
   "source": []
  },
  {
   "cell_type": "code",
   "execution_count": null,
   "id": "56d770c2-afec-4308-b74e-79d7647fbde0",
   "metadata": {},
   "outputs": [],
   "source": []
  },
  {
   "cell_type": "markdown",
   "id": "51f9b823-54a4-48a4-a1cf-7ce78e6e98ed",
   "metadata": {},
   "source": [
    "### Fitting a model"
   ]
  },
  {
   "cell_type": "code",
   "execution_count": 45,
   "id": "2a78fb5b-9794-460c-b45b-93a3d8a214cd",
   "metadata": {},
   "outputs": [],
   "source": [
    "from sklearn.preprocessing import PolynomialFeatures, StandardScaler\n",
    "from sklearn.model_selection import train_test_split, cross_val_score\n",
    "from sklearn.linear_model import LinearRegression"
   ]
  },
  {
   "cell_type": "code",
   "execution_count": 46,
   "id": "477a6389-961d-4997-b371-2ea9309a8366",
   "metadata": {},
   "outputs": [],
   "source": [
    "# df.isna().sum().sort_values(ascending=False).head(10)"
   ]
  },
  {
   "cell_type": "code",
   "execution_count": 47,
   "id": "fa10e3a5-81a7-4e3f-917c-08b253b8c601",
   "metadata": {},
   "outputs": [],
   "source": [
    "# df.columns"
   ]
  },
  {
   "cell_type": "code",
   "execution_count": null,
   "id": "bed112ae-80fb-4c8e-b6d9-e2005794fff0",
   "metadata": {},
   "outputs": [],
   "source": []
  },
  {
   "cell_type": "code",
   "execution_count": 48,
   "id": "0d925c1e-d438-4263-a154-e327cfd2f7b1",
   "metadata": {},
   "outputs": [],
   "source": [
    "train = pd.read_csv(f'./datasets/ames_cleaned_{run_id_number}.csv')"
   ]
  },
  {
   "cell_type": "code",
   "execution_count": 49,
   "id": "7897dec0-0fb7-4bde-8206-1cecf2dc96eb",
   "metadata": {},
   "outputs": [],
   "source": [
    "contest = pd.read_csv(f'./datasets/test_cleaned_{run_id_number}.csv')"
   ]
  },
  {
   "cell_type": "code",
   "execution_count": null,
   "id": "6c09ca0e-1593-4279-b280-dfd289a61a13",
   "metadata": {},
   "outputs": [],
   "source": []
  },
  {
   "cell_type": "code",
   "execution_count": 50,
   "id": "5ef569e2-abed-4da6-8576-2bb72876bbe0",
   "metadata": {},
   "outputs": [
    {
     "data": {
      "text/plain": [
       "1.0"
      ]
     },
     "execution_count": 50,
     "metadata": {},
     "output_type": "execute_result"
    }
   ],
   "source": [
    "# Reference: 403-lesson-regularization\n",
    "\n",
    "# Create X and y.\n",
    "excluded_cols = ['id'] + dummy_cols + dummy_cols_w_nan\n",
    "\n",
    "X = train.drop(columns=['saleprice']+excluded_cols)\n",
    "y = train['saleprice']\n",
    "\n",
    "# Instantiate our PolynomialFeatures object to create all two-way terms.\n",
    "poly = PolynomialFeatures(degree=2, interaction_only=False, include_bias=False)\n",
    "\n",
    "# Fit and transform our X data.\n",
    "X_overfit = poly.fit_transform(X)\n",
    "\n",
    "# Create train/test splits.\n",
    "X_train, X_test, y_train, y_test = train_test_split(\n",
    "    X_overfit, y, \n",
    "    test_size=.7, \n",
    "    random_state=42\n",
    ")\n",
    "\n",
    "# Scale our data.\n",
    "# Relabeling scaled data as \"Z\" is common.\n",
    "sc = StandardScaler()\n",
    "Z_train = sc.fit_transform(X_train)\n",
    "Z_test = sc.transform(X_test)\n",
    "\n",
    "\n",
    "ols = LinearRegression()\n",
    "ols.fit(Z_train, y_train)\n",
    "\n",
    "ols.score(Z_train, y_train)"
   ]
  },
  {
   "cell_type": "code",
   "execution_count": 51,
   "id": "3b9b22b9-ff65-44b6-a08c-41646a835a0e",
   "metadata": {},
   "outputs": [
    {
     "data": {
      "text/plain": [
       "-0.853058715058393"
      ]
     },
     "execution_count": 51,
     "metadata": {},
     "output_type": "execute_result"
    }
   ],
   "source": [
    "ols.score(Z_test, y_test)"
   ]
  },
  {
   "cell_type": "code",
   "execution_count": 52,
   "id": "06cd4524-e55c-4ff8-a11e-c82e530150ae",
   "metadata": {},
   "outputs": [
    {
     "data": {
      "text/plain": [
       "(615, 1595)"
      ]
     },
     "execution_count": 52,
     "metadata": {},
     "output_type": "execute_result"
    }
   ],
   "source": [
    "Z_train.shape"
   ]
  },
  {
   "cell_type": "code",
   "execution_count": 53,
   "id": "e519ca74-f0c5-44ca-b281-27ce3c62c78e",
   "metadata": {},
   "outputs": [
    {
     "data": {
      "text/plain": [
       "(1436, 1595)"
      ]
     },
     "execution_count": 53,
     "metadata": {},
     "output_type": "execute_result"
    }
   ],
   "source": [
    "X_test.shape"
   ]
  },
  {
   "cell_type": "code",
   "execution_count": 54,
   "id": "123b9efd-854c-4ff6-af1e-06ad7274f263",
   "metadata": {},
   "outputs": [],
   "source": [
    "X_contest = contest.drop(columns=excluded_cols)\n",
    "X_contest_overfit = poly.fit_transform(X_contest)\n",
    "Z_contest = sc.transform(X_contest_overfit)"
   ]
  },
  {
   "cell_type": "code",
   "execution_count": 55,
   "id": "3dccc8d1-7625-4076-95fa-ca1b90072f3f",
   "metadata": {},
   "outputs": [],
   "source": [
    "y_predict_overfit = ols.predict(Z_contest)"
   ]
  },
  {
   "cell_type": "code",
   "execution_count": 125,
   "id": "a09ba7e1-5d54-43d0-add9-d3810750b298",
   "metadata": {},
   "outputs": [],
   "source": [
    "# Reference: 403-lesson-regularization\n",
    "\n",
    "from sklearn.linear_model import Lasso, LassoCV\n",
    "\n",
    "# Set up a list of Lasso alphas to check.\n",
    "# l_alphas= np.logspace(-3, -1, 100)\n",
    "l_alphas= np.logspace(3.895, 3.9, 50)\n",
    "\n",
    "# Cross-validate over our list of Lasso alphas.\n",
    "lasso_cv = LassoCV(alphas=l_alphas, cv=5)\n"
   ]
  },
  {
   "cell_type": "code",
   "execution_count": 126,
   "id": "2fd1a52c-2b22-43a6-a35a-5afc9ab8ab75",
   "metadata": {},
   "outputs": [
    {
     "data": {
      "text/plain": [
       "LassoCV(alphas=array([7852.3563461 , 7854.20153416, 7856.0471558 , 7857.89321114,\n",
       "       7859.73970028, 7861.58662331, 7863.43398035, 7865.28177148,\n",
       "       7867.12999682, 7868.97865647, 7870.82775052, 7872.67727908,\n",
       "       7874.52724226, 7876.37764014, 7878.22847285, 7880.07974047,\n",
       "       7881.93144312, 7883.78358088, 7885.63615388, 7887.48916219,\n",
       "       7889.34260594, 7891.19648522, 7893.05080014, 7894.905...\n",
       "       7896.76073728, 7898.61635971, 7900.47241819, 7902.32891281,\n",
       "       7904.18584368, 7906.04321091, 7907.90101458, 7909.75925482,\n",
       "       7911.61793171, 7913.47704536, 7915.33659588, 7917.19658337,\n",
       "       7919.05700792, 7920.91786965, 7922.77916865, 7924.64090503,\n",
       "       7926.5030789 , 7928.36569034, 7930.22873947, 7932.09222639,\n",
       "       7933.9561512 , 7935.82051401, 7937.68531491, 7939.55055402,\n",
       "       7941.41623143, 7943.28234724]),\n",
       "        cv=5)"
      ]
     },
     "execution_count": 126,
     "metadata": {},
     "output_type": "execute_result"
    }
   ],
   "source": [
    "# Fit model using best ridge alpha!\n",
    "lasso_cv.fit(Z_train, y_train)"
   ]
  },
  {
   "cell_type": "code",
   "execution_count": 127,
   "id": "e647cc68-3bbe-4f26-b406-f764e3223f40",
   "metadata": {},
   "outputs": [
    {
     "data": {
      "text/plain": [
       "7889.342605943175"
      ]
     },
     "execution_count": 127,
     "metadata": {},
     "output_type": "execute_result"
    }
   ],
   "source": [
    "# Here is the optimal value of alpha\n",
    "lasso_cv.alpha_"
   ]
  },
  {
   "cell_type": "code",
   "execution_count": 128,
   "id": "9336b97d-aa35-4da3-b134-d31ff49ef22d",
   "metadata": {},
   "outputs": [
    {
     "data": {
      "text/plain": [
       "0.8286975562763468"
      ]
     },
     "execution_count": 128,
     "metadata": {},
     "output_type": "execute_result"
    }
   ],
   "source": [
    "lasso_cv.score(Z_train, y_train)"
   ]
  },
  {
   "cell_type": "code",
   "execution_count": 130,
   "id": "be7a6103-6bfb-4611-be59-bdec36208f1a",
   "metadata": {},
   "outputs": [
    {
     "data": {
      "text/plain": [
       "0.8249861683228421"
      ]
     },
     "execution_count": 130,
     "metadata": {},
     "output_type": "execute_result"
    }
   ],
   "source": [
    "lasso_cv.score(Z_test, y_test)"
   ]
  },
  {
   "cell_type": "code",
   "execution_count": 131,
   "id": "4f72072e-5560-4f67-94ae-0578fc502923",
   "metadata": {},
   "outputs": [],
   "source": [
    "y_predict_lasso = lasso_cv.predict(Z_contest)"
   ]
  },
  {
   "cell_type": "code",
   "execution_count": 132,
   "id": "1a6bf186-8e94-4ea7-84c8-d11dd45673a8",
   "metadata": {},
   "outputs": [
    {
     "data": {
      "text/plain": [
       "(878, 1)"
      ]
     },
     "execution_count": 132,
     "metadata": {},
     "output_type": "execute_result"
    }
   ],
   "source": [
    "Xf = pd.DataFrame(contest['id'])\n",
    "Xf['SalePrice'] = y_predict_lasso\n",
    "Xf.columns = ['Id','SalePrice']\n",
    "Xf.set_index('Id', inplace = True)\n",
    "Xf.shape"
   ]
  },
  {
   "cell_type": "code",
   "execution_count": 133,
   "id": "add297a0-5752-484f-b3a3-f2188797c6d9",
   "metadata": {},
   "outputs": [],
   "source": [
    "Xf.to_csv(f'./output/predictions_{run_id_number}.csv')"
   ]
  },
  {
   "cell_type": "code",
   "execution_count": null,
   "id": "488e91b7-b3dc-4994-b800-ec5d977a3c6f",
   "metadata": {},
   "outputs": [],
   "source": []
  },
  {
   "cell_type": "code",
   "execution_count": null,
   "id": "d8450c43-f863-4524-8ec0-01d08b971bc8",
   "metadata": {},
   "outputs": [],
   "source": []
  },
  {
   "cell_type": "code",
   "execution_count": null,
   "id": "8b7ca9cc-9a43-48c6-838f-9d1dc10d4e93",
   "metadata": {},
   "outputs": [],
   "source": []
  },
  {
   "cell_type": "code",
   "execution_count": 64,
   "id": "c4264f6a-f210-45a2-bffe-ea7dca3569b7",
   "metadata": {},
   "outputs": [
    {
     "data": {
      "text/plain": [
       "0.813511098481596"
      ]
     },
     "execution_count": 64,
     "metadata": {},
     "output_type": "execute_result"
    }
   ],
   "source": [
    "lr = LinearRegression()\n",
    "np.mean(cross_val_score(lr, X, y, cv=5))"
   ]
  },
  {
   "cell_type": "code",
   "execution_count": 65,
   "id": "8f114408-48a4-4a0a-9f31-48a4d9474d14",
   "metadata": {},
   "outputs": [
    {
     "data": {
      "text/plain": [
       "0.8512304137959873"
      ]
     },
     "execution_count": 65,
     "metadata": {},
     "output_type": "execute_result"
    }
   ],
   "source": [
    "Xl_train, Xl_test, yl_train, yl_test = train_test_split(\n",
    "    X, y, \n",
    "    test_size=.7, \n",
    "    random_state=42\n",
    ")\n",
    "\n",
    "lr.fit(Xl_train, yl_train)\n",
    "lr.score(Xl_train, yl_train)"
   ]
  },
  {
   "cell_type": "code",
   "execution_count": 66,
   "id": "24ac4bab-ca54-4495-8a73-9f9e911f2328",
   "metadata": {},
   "outputs": [
    {
     "data": {
      "text/plain": [
       "0.7814841337813869"
      ]
     },
     "execution_count": 66,
     "metadata": {},
     "output_type": "execute_result"
    }
   ],
   "source": [
    "lr.score(Xl_test, yl_test)"
   ]
  },
  {
   "cell_type": "code",
   "execution_count": 67,
   "id": "fc9ea9b4-f238-4d59-a6c9-057d7852df32",
   "metadata": {},
   "outputs": [],
   "source": [
    "# y_predict_lr = lr.predict(X_contest)"
   ]
  },
  {
   "cell_type": "code",
   "execution_count": null,
   "id": "d33dd769-f2cd-43e4-8b95-92cb52994f20",
   "metadata": {},
   "outputs": [],
   "source": []
  }
 ],
 "metadata": {
  "kernelspec": {
   "display_name": "Python 3 (ipykernel)",
   "language": "python",
   "name": "python3"
  },
  "language_info": {
   "codemirror_mode": {
    "name": "ipython",
    "version": 3
   },
   "file_extension": ".py",
   "mimetype": "text/x-python",
   "name": "python",
   "nbconvert_exporter": "python",
   "pygments_lexer": "ipython3",
   "version": "3.9.13"
  }
 },
 "nbformat": 4,
 "nbformat_minor": 5
}
