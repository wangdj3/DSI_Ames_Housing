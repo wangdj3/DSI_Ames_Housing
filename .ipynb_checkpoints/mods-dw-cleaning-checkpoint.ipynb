{
 "cells": [
  {
   "cell_type": "code",
   "execution_count": 1,
   "id": "77f60188",
   "metadata": {},
   "outputs": [],
   "source": [
    "import numpy as np\n",
    "import pandas as pd\n",
    "import matplotlib.pyplot as plt\n",
    "import seaborn as sns\n",
    "\n",
    "from sklearn.linear_model import LinearRegression\n",
    "from sklearn.model_selection import train_test_split, cross_val_score\n",
    "from sklearn.preprocessing import PolynomialFeatures, StandardScaler, OneHotEncoder\n",
    "from sklearn.compose import ColumnTransformer"
   ]
  },
  {
   "cell_type": "code",
   "execution_count": 2,
   "id": "355ae77e-9506-41b8-ab46-127c4b0ca341",
   "metadata": {},
   "outputs": [],
   "source": [
    "run_id_number = 5"
   ]
  },
  {
   "cell_type": "code",
   "execution_count": 3,
   "id": "6fbbbeba-90c8-4107-a623-c4b6b6a280ba",
   "metadata": {},
   "outputs": [],
   "source": [
    "# Set whether running the below data cleaning steps on input (training) or prediction (test)\n",
    "# 1 ---- training:   run_type = 1\n",
    "# 2 ---- prediction: run_type = 2 (or anything other than 1)\n",
    "\n",
    "run_type = 1"
   ]
  },
  {
   "cell_type": "code",
   "execution_count": 4,
   "id": "34015a0b",
   "metadata": {},
   "outputs": [
    {
     "data": {
      "text/html": [
       "<div>\n",
       "<style scoped>\n",
       "    .dataframe tbody tr th:only-of-type {\n",
       "        vertical-align: middle;\n",
       "    }\n",
       "\n",
       "    .dataframe tbody tr th {\n",
       "        vertical-align: top;\n",
       "    }\n",
       "\n",
       "    .dataframe thead th {\n",
       "        text-align: right;\n",
       "    }\n",
       "</style>\n",
       "<table border=\"1\" class=\"dataframe\">\n",
       "  <thead>\n",
       "    <tr style=\"text-align: right;\">\n",
       "      <th></th>\n",
       "      <th>Id</th>\n",
       "      <th>PID</th>\n",
       "      <th>MS SubClass</th>\n",
       "      <th>MS Zoning</th>\n",
       "      <th>Lot Frontage</th>\n",
       "      <th>Lot Area</th>\n",
       "      <th>Street</th>\n",
       "      <th>Alley</th>\n",
       "      <th>Lot Shape</th>\n",
       "      <th>Land Contour</th>\n",
       "      <th>...</th>\n",
       "      <th>Screen Porch</th>\n",
       "      <th>Pool Area</th>\n",
       "      <th>Pool QC</th>\n",
       "      <th>Fence</th>\n",
       "      <th>Misc Feature</th>\n",
       "      <th>Misc Val</th>\n",
       "      <th>Mo Sold</th>\n",
       "      <th>Yr Sold</th>\n",
       "      <th>Sale Type</th>\n",
       "      <th>SalePrice</th>\n",
       "    </tr>\n",
       "  </thead>\n",
       "  <tbody>\n",
       "    <tr>\n",
       "      <th>0</th>\n",
       "      <td>109</td>\n",
       "      <td>533352170</td>\n",
       "      <td>60</td>\n",
       "      <td>RL</td>\n",
       "      <td>NaN</td>\n",
       "      <td>13517</td>\n",
       "      <td>Pave</td>\n",
       "      <td>NaN</td>\n",
       "      <td>IR1</td>\n",
       "      <td>Lvl</td>\n",
       "      <td>...</td>\n",
       "      <td>0</td>\n",
       "      <td>0</td>\n",
       "      <td>NaN</td>\n",
       "      <td>NaN</td>\n",
       "      <td>NaN</td>\n",
       "      <td>0</td>\n",
       "      <td>3</td>\n",
       "      <td>2010</td>\n",
       "      <td>WD</td>\n",
       "      <td>130500</td>\n",
       "    </tr>\n",
       "    <tr>\n",
       "      <th>1</th>\n",
       "      <td>544</td>\n",
       "      <td>531379050</td>\n",
       "      <td>60</td>\n",
       "      <td>RL</td>\n",
       "      <td>43.0</td>\n",
       "      <td>11492</td>\n",
       "      <td>Pave</td>\n",
       "      <td>NaN</td>\n",
       "      <td>IR1</td>\n",
       "      <td>Lvl</td>\n",
       "      <td>...</td>\n",
       "      <td>0</td>\n",
       "      <td>0</td>\n",
       "      <td>NaN</td>\n",
       "      <td>NaN</td>\n",
       "      <td>NaN</td>\n",
       "      <td>0</td>\n",
       "      <td>4</td>\n",
       "      <td>2009</td>\n",
       "      <td>WD</td>\n",
       "      <td>220000</td>\n",
       "    </tr>\n",
       "    <tr>\n",
       "      <th>2</th>\n",
       "      <td>153</td>\n",
       "      <td>535304180</td>\n",
       "      <td>20</td>\n",
       "      <td>RL</td>\n",
       "      <td>68.0</td>\n",
       "      <td>7922</td>\n",
       "      <td>Pave</td>\n",
       "      <td>NaN</td>\n",
       "      <td>Reg</td>\n",
       "      <td>Lvl</td>\n",
       "      <td>...</td>\n",
       "      <td>0</td>\n",
       "      <td>0</td>\n",
       "      <td>NaN</td>\n",
       "      <td>NaN</td>\n",
       "      <td>NaN</td>\n",
       "      <td>0</td>\n",
       "      <td>1</td>\n",
       "      <td>2010</td>\n",
       "      <td>WD</td>\n",
       "      <td>109000</td>\n",
       "    </tr>\n",
       "    <tr>\n",
       "      <th>3</th>\n",
       "      <td>318</td>\n",
       "      <td>916386060</td>\n",
       "      <td>60</td>\n",
       "      <td>RL</td>\n",
       "      <td>73.0</td>\n",
       "      <td>9802</td>\n",
       "      <td>Pave</td>\n",
       "      <td>NaN</td>\n",
       "      <td>Reg</td>\n",
       "      <td>Lvl</td>\n",
       "      <td>...</td>\n",
       "      <td>0</td>\n",
       "      <td>0</td>\n",
       "      <td>NaN</td>\n",
       "      <td>NaN</td>\n",
       "      <td>NaN</td>\n",
       "      <td>0</td>\n",
       "      <td>4</td>\n",
       "      <td>2010</td>\n",
       "      <td>WD</td>\n",
       "      <td>174000</td>\n",
       "    </tr>\n",
       "    <tr>\n",
       "      <th>4</th>\n",
       "      <td>255</td>\n",
       "      <td>906425045</td>\n",
       "      <td>50</td>\n",
       "      <td>RL</td>\n",
       "      <td>82.0</td>\n",
       "      <td>14235</td>\n",
       "      <td>Pave</td>\n",
       "      <td>NaN</td>\n",
       "      <td>IR1</td>\n",
       "      <td>Lvl</td>\n",
       "      <td>...</td>\n",
       "      <td>0</td>\n",
       "      <td>0</td>\n",
       "      <td>NaN</td>\n",
       "      <td>NaN</td>\n",
       "      <td>NaN</td>\n",
       "      <td>0</td>\n",
       "      <td>3</td>\n",
       "      <td>2010</td>\n",
       "      <td>WD</td>\n",
       "      <td>138500</td>\n",
       "    </tr>\n",
       "  </tbody>\n",
       "</table>\n",
       "<p>5 rows × 81 columns</p>\n",
       "</div>"
      ],
      "text/plain": [
       "    Id        PID  MS SubClass MS Zoning  Lot Frontage  Lot Area Street Alley  \\\n",
       "0  109  533352170           60        RL           NaN     13517   Pave   NaN   \n",
       "1  544  531379050           60        RL          43.0     11492   Pave   NaN   \n",
       "2  153  535304180           20        RL          68.0      7922   Pave   NaN   \n",
       "3  318  916386060           60        RL          73.0      9802   Pave   NaN   \n",
       "4  255  906425045           50        RL          82.0     14235   Pave   NaN   \n",
       "\n",
       "  Lot Shape Land Contour  ... Screen Porch Pool Area Pool QC Fence  \\\n",
       "0       IR1          Lvl  ...            0         0     NaN   NaN   \n",
       "1       IR1          Lvl  ...            0         0     NaN   NaN   \n",
       "2       Reg          Lvl  ...            0         0     NaN   NaN   \n",
       "3       Reg          Lvl  ...            0         0     NaN   NaN   \n",
       "4       IR1          Lvl  ...            0         0     NaN   NaN   \n",
       "\n",
       "  Misc Feature Misc Val Mo Sold Yr Sold  Sale Type  SalePrice  \n",
       "0          NaN        0       3    2010        WD      130500  \n",
       "1          NaN        0       4    2009        WD      220000  \n",
       "2          NaN        0       1    2010        WD      109000  \n",
       "3          NaN        0       4    2010        WD      174000  \n",
       "4          NaN        0       3    2010        WD      138500  \n",
       "\n",
       "[5 rows x 81 columns]"
      ]
     },
     "execution_count": 4,
     "metadata": {},
     "output_type": "execute_result"
    }
   ],
   "source": [
    "if run_type == 1:\n",
    "    df = pd.read_csv('datasets/train.csv')\n",
    "else:\n",
    "    df = pd.read_csv('datasets/test.csv')\n",
    "\n",
    "df.head()"
   ]
  },
  {
   "cell_type": "code",
   "execution_count": 5,
   "id": "c5b06e07-ff36-4687-95dd-d68aab0c9c99",
   "metadata": {},
   "outputs": [],
   "source": [
    "# df['saleprice'].isna().sum()"
   ]
  },
  {
   "cell_type": "code",
   "execution_count": 6,
   "id": "cfe815fc-5bc2-4d0f-aeac-1a34654892c1",
   "metadata": {},
   "outputs": [],
   "source": [
    "# df = df.dropna(subset=['saleprice'])\n",
    "# df.shape"
   ]
  },
  {
   "cell_type": "code",
   "execution_count": 7,
   "id": "6b42a480-0660-4bca-bf40-ee2fa718a8e7",
   "metadata": {},
   "outputs": [
    {
     "data": {
      "text/plain": [
       "(2051, 81)"
      ]
     },
     "execution_count": 7,
     "metadata": {},
     "output_type": "execute_result"
    }
   ],
   "source": [
    "df.shape"
   ]
  },
  {
   "cell_type": "code",
   "execution_count": 8,
   "id": "4bdb761a",
   "metadata": {},
   "outputs": [
    {
     "data": {
      "text/plain": [
       "Index(['Id', 'PID', 'MS SubClass', 'MS Zoning', 'Lot Frontage', 'Lot Area',\n",
       "       'Street', 'Alley', 'Lot Shape', 'Land Contour', 'Utilities',\n",
       "       'Lot Config', 'Land Slope', 'Neighborhood', 'Condition 1',\n",
       "       'Condition 2', 'Bldg Type', 'House Style', 'Overall Qual',\n",
       "       'Overall Cond', 'Year Built', 'Year Remod/Add', 'Roof Style',\n",
       "       'Roof Matl', 'Exterior 1st', 'Exterior 2nd', 'Mas Vnr Type',\n",
       "       'Mas Vnr Area', 'Exter Qual', 'Exter Cond', 'Foundation', 'Bsmt Qual',\n",
       "       'Bsmt Cond', 'Bsmt Exposure', 'BsmtFin Type 1', 'BsmtFin SF 1',\n",
       "       'BsmtFin Type 2', 'BsmtFin SF 2', 'Bsmt Unf SF', 'Total Bsmt SF',\n",
       "       'Heating', 'Heating QC', 'Central Air', 'Electrical', '1st Flr SF',\n",
       "       '2nd Flr SF', 'Low Qual Fin SF', 'Gr Liv Area', 'Bsmt Full Bath',\n",
       "       'Bsmt Half Bath', 'Full Bath', 'Half Bath', 'Bedroom AbvGr',\n",
       "       'Kitchen AbvGr', 'Kitchen Qual', 'TotRms AbvGrd', 'Functional',\n",
       "       'Fireplaces', 'Fireplace Qu', 'Garage Type', 'Garage Yr Blt',\n",
       "       'Garage Finish', 'Garage Cars', 'Garage Area', 'Garage Qual',\n",
       "       'Garage Cond', 'Paved Drive', 'Wood Deck SF', 'Open Porch SF',\n",
       "       'Enclosed Porch', '3Ssn Porch', 'Screen Porch', 'Pool Area', 'Pool QC',\n",
       "       'Fence', 'Misc Feature', 'Misc Val', 'Mo Sold', 'Yr Sold', 'Sale Type',\n",
       "       'SalePrice'],\n",
       "      dtype='object')"
      ]
     },
     "execution_count": 8,
     "metadata": {},
     "output_type": "execute_result"
    }
   ],
   "source": [
    "df.columns"
   ]
  },
  {
   "cell_type": "code",
   "execution_count": 9,
   "id": "eec58c88",
   "metadata": {},
   "outputs": [],
   "source": [
    "df.columns = df.columns.str.lower().str.replace(\" \",\"_\")"
   ]
  },
  {
   "cell_type": "code",
   "execution_count": 10,
   "id": "3ae33d7c",
   "metadata": {
    "scrolled": true
   },
   "outputs": [
    {
     "data": {
      "text/plain": [
       "pool_qc           2042\n",
       "misc_feature      1986\n",
       "alley             1911\n",
       "fence             1651\n",
       "fireplace_qu      1000\n",
       "lot_frontage       330\n",
       "garage_finish      114\n",
       "garage_qual        114\n",
       "garage_yr_blt      114\n",
       "garage_cond        114\n",
       "garage_type        113\n",
       "bsmt_exposure       58\n",
       "bsmtfin_type_2      56\n",
       "bsmtfin_type_1      55\n",
       "bsmt_cond           55\n",
       "bsmt_qual           55\n",
       "mas_vnr_area        22\n",
       "mas_vnr_type        22\n",
       "bsmt_half_bath       2\n",
       "bsmt_full_bath       2\n",
       "garage_area          1\n",
       "total_bsmt_sf        1\n",
       "bsmt_unf_sf          1\n",
       "bsmtfin_sf_2         1\n",
       "bsmtfin_sf_1         1\n",
       "garage_cars          1\n",
       "mo_sold              0\n",
       "sale_type            0\n",
       "full_bath            0\n",
       "half_bath            0\n",
       "dtype: int64"
      ]
     },
     "execution_count": 10,
     "metadata": {},
     "output_type": "execute_result"
    }
   ],
   "source": [
    "df.isnull().sum().sort_values(ascending=False).head(30)"
   ]
  },
  {
   "cell_type": "markdown",
   "id": "cc712772-b436-418c-907d-5f40604ccc27",
   "metadata": {},
   "source": [
    "### Dropping Unneeded columns"
   ]
  },
  {
   "cell_type": "code",
   "execution_count": 11,
   "id": "390197fd-86e7-4f23-9fd8-d17b353362c8",
   "metadata": {},
   "outputs": [
    {
     "data": {
      "text/html": [
       "<div>\n",
       "<style scoped>\n",
       "    .dataframe tbody tr th:only-of-type {\n",
       "        vertical-align: middle;\n",
       "    }\n",
       "\n",
       "    .dataframe tbody tr th {\n",
       "        vertical-align: top;\n",
       "    }\n",
       "\n",
       "    .dataframe thead th {\n",
       "        text-align: right;\n",
       "    }\n",
       "</style>\n",
       "<table border=\"1\" class=\"dataframe\">\n",
       "  <thead>\n",
       "    <tr style=\"text-align: right;\">\n",
       "      <th></th>\n",
       "      <th>id</th>\n",
       "      <th>ms_subclass</th>\n",
       "      <th>ms_zoning</th>\n",
       "      <th>lot_frontage</th>\n",
       "      <th>lot_area</th>\n",
       "      <th>street</th>\n",
       "      <th>alley</th>\n",
       "      <th>lot_shape</th>\n",
       "      <th>land_contour</th>\n",
       "      <th>utilities</th>\n",
       "      <th>...</th>\n",
       "      <th>screen_porch</th>\n",
       "      <th>pool_area</th>\n",
       "      <th>pool_qc</th>\n",
       "      <th>fence</th>\n",
       "      <th>misc_feature</th>\n",
       "      <th>misc_val</th>\n",
       "      <th>mo_sold</th>\n",
       "      <th>yr_sold</th>\n",
       "      <th>sale_type</th>\n",
       "      <th>saleprice</th>\n",
       "    </tr>\n",
       "  </thead>\n",
       "  <tbody>\n",
       "    <tr>\n",
       "      <th>0</th>\n",
       "      <td>109</td>\n",
       "      <td>60</td>\n",
       "      <td>RL</td>\n",
       "      <td>NaN</td>\n",
       "      <td>13517</td>\n",
       "      <td>Pave</td>\n",
       "      <td>NaN</td>\n",
       "      <td>IR1</td>\n",
       "      <td>Lvl</td>\n",
       "      <td>AllPub</td>\n",
       "      <td>...</td>\n",
       "      <td>0</td>\n",
       "      <td>0</td>\n",
       "      <td>NaN</td>\n",
       "      <td>NaN</td>\n",
       "      <td>NaN</td>\n",
       "      <td>0</td>\n",
       "      <td>3</td>\n",
       "      <td>2010</td>\n",
       "      <td>WD</td>\n",
       "      <td>130500</td>\n",
       "    </tr>\n",
       "    <tr>\n",
       "      <th>1</th>\n",
       "      <td>544</td>\n",
       "      <td>60</td>\n",
       "      <td>RL</td>\n",
       "      <td>43.0</td>\n",
       "      <td>11492</td>\n",
       "      <td>Pave</td>\n",
       "      <td>NaN</td>\n",
       "      <td>IR1</td>\n",
       "      <td>Lvl</td>\n",
       "      <td>AllPub</td>\n",
       "      <td>...</td>\n",
       "      <td>0</td>\n",
       "      <td>0</td>\n",
       "      <td>NaN</td>\n",
       "      <td>NaN</td>\n",
       "      <td>NaN</td>\n",
       "      <td>0</td>\n",
       "      <td>4</td>\n",
       "      <td>2009</td>\n",
       "      <td>WD</td>\n",
       "      <td>220000</td>\n",
       "    </tr>\n",
       "    <tr>\n",
       "      <th>2</th>\n",
       "      <td>153</td>\n",
       "      <td>20</td>\n",
       "      <td>RL</td>\n",
       "      <td>68.0</td>\n",
       "      <td>7922</td>\n",
       "      <td>Pave</td>\n",
       "      <td>NaN</td>\n",
       "      <td>Reg</td>\n",
       "      <td>Lvl</td>\n",
       "      <td>AllPub</td>\n",
       "      <td>...</td>\n",
       "      <td>0</td>\n",
       "      <td>0</td>\n",
       "      <td>NaN</td>\n",
       "      <td>NaN</td>\n",
       "      <td>NaN</td>\n",
       "      <td>0</td>\n",
       "      <td>1</td>\n",
       "      <td>2010</td>\n",
       "      <td>WD</td>\n",
       "      <td>109000</td>\n",
       "    </tr>\n",
       "    <tr>\n",
       "      <th>3</th>\n",
       "      <td>318</td>\n",
       "      <td>60</td>\n",
       "      <td>RL</td>\n",
       "      <td>73.0</td>\n",
       "      <td>9802</td>\n",
       "      <td>Pave</td>\n",
       "      <td>NaN</td>\n",
       "      <td>Reg</td>\n",
       "      <td>Lvl</td>\n",
       "      <td>AllPub</td>\n",
       "      <td>...</td>\n",
       "      <td>0</td>\n",
       "      <td>0</td>\n",
       "      <td>NaN</td>\n",
       "      <td>NaN</td>\n",
       "      <td>NaN</td>\n",
       "      <td>0</td>\n",
       "      <td>4</td>\n",
       "      <td>2010</td>\n",
       "      <td>WD</td>\n",
       "      <td>174000</td>\n",
       "    </tr>\n",
       "    <tr>\n",
       "      <th>4</th>\n",
       "      <td>255</td>\n",
       "      <td>50</td>\n",
       "      <td>RL</td>\n",
       "      <td>82.0</td>\n",
       "      <td>14235</td>\n",
       "      <td>Pave</td>\n",
       "      <td>NaN</td>\n",
       "      <td>IR1</td>\n",
       "      <td>Lvl</td>\n",
       "      <td>AllPub</td>\n",
       "      <td>...</td>\n",
       "      <td>0</td>\n",
       "      <td>0</td>\n",
       "      <td>NaN</td>\n",
       "      <td>NaN</td>\n",
       "      <td>NaN</td>\n",
       "      <td>0</td>\n",
       "      <td>3</td>\n",
       "      <td>2010</td>\n",
       "      <td>WD</td>\n",
       "      <td>138500</td>\n",
       "    </tr>\n",
       "  </tbody>\n",
       "</table>\n",
       "<p>5 rows × 80 columns</p>\n",
       "</div>"
      ],
      "text/plain": [
       "    id  ms_subclass ms_zoning  lot_frontage  lot_area street alley lot_shape  \\\n",
       "0  109           60        RL           NaN     13517   Pave   NaN       IR1   \n",
       "1  544           60        RL          43.0     11492   Pave   NaN       IR1   \n",
       "2  153           20        RL          68.0      7922   Pave   NaN       Reg   \n",
       "3  318           60        RL          73.0      9802   Pave   NaN       Reg   \n",
       "4  255           50        RL          82.0     14235   Pave   NaN       IR1   \n",
       "\n",
       "  land_contour utilities  ... screen_porch pool_area pool_qc fence  \\\n",
       "0          Lvl    AllPub  ...            0         0     NaN   NaN   \n",
       "1          Lvl    AllPub  ...            0         0     NaN   NaN   \n",
       "2          Lvl    AllPub  ...            0         0     NaN   NaN   \n",
       "3          Lvl    AllPub  ...            0         0     NaN   NaN   \n",
       "4          Lvl    AllPub  ...            0         0     NaN   NaN   \n",
       "\n",
       "  misc_feature misc_val mo_sold  yr_sold  sale_type  saleprice  \n",
       "0          NaN        0       3     2010        WD      130500  \n",
       "1          NaN        0       4     2009        WD      220000  \n",
       "2          NaN        0       1     2010        WD      109000  \n",
       "3          NaN        0       4     2010        WD      174000  \n",
       "4          NaN        0       3     2010        WD      138500  \n",
       "\n",
       "[5 rows x 80 columns]"
      ]
     },
     "execution_count": 11,
     "metadata": {},
     "output_type": "execute_result"
    }
   ],
   "source": [
    "# df.drop(columns=['id','pid'], inplace=True)\n",
    "df.drop(columns=['pid'], inplace=True)\n",
    "df.head()"
   ]
  },
  {
   "cell_type": "code",
   "execution_count": null,
   "id": "da3c9ad7-9634-4f46-ab92-ffb6c0a6aaa0",
   "metadata": {},
   "outputs": [],
   "source": []
  },
  {
   "cell_type": "code",
   "execution_count": 12,
   "id": "b3c58f2c-01c8-48bd-9f1f-a62f7e0a61e7",
   "metadata": {},
   "outputs": [
    {
     "data": {
      "text/html": [
       "<div>\n",
       "<style scoped>\n",
       "    .dataframe tbody tr th:only-of-type {\n",
       "        vertical-align: middle;\n",
       "    }\n",
       "\n",
       "    .dataframe tbody tr th {\n",
       "        vertical-align: top;\n",
       "    }\n",
       "\n",
       "    .dataframe thead th {\n",
       "        text-align: right;\n",
       "    }\n",
       "</style>\n",
       "<table border=\"1\" class=\"dataframe\">\n",
       "  <thead>\n",
       "    <tr style=\"text-align: right;\">\n",
       "      <th></th>\n",
       "      <th>id</th>\n",
       "      <th>ms_subclass</th>\n",
       "      <th>lot_frontage</th>\n",
       "      <th>lot_area</th>\n",
       "      <th>overall_qual</th>\n",
       "      <th>overall_cond</th>\n",
       "      <th>year_built</th>\n",
       "      <th>year_remod/add</th>\n",
       "      <th>mas_vnr_area</th>\n",
       "      <th>bsmtfin_sf_1</th>\n",
       "      <th>...</th>\n",
       "      <th>wood_deck_sf</th>\n",
       "      <th>open_porch_sf</th>\n",
       "      <th>enclosed_porch</th>\n",
       "      <th>3ssn_porch</th>\n",
       "      <th>screen_porch</th>\n",
       "      <th>pool_area</th>\n",
       "      <th>misc_val</th>\n",
       "      <th>mo_sold</th>\n",
       "      <th>yr_sold</th>\n",
       "      <th>saleprice</th>\n",
       "    </tr>\n",
       "  </thead>\n",
       "  <tbody>\n",
       "    <tr>\n",
       "      <th>count</th>\n",
       "      <td>2051.000000</td>\n",
       "      <td>2051.000000</td>\n",
       "      <td>1721.000000</td>\n",
       "      <td>2051.000000</td>\n",
       "      <td>2051.000000</td>\n",
       "      <td>2051.000000</td>\n",
       "      <td>2051.000000</td>\n",
       "      <td>2051.000000</td>\n",
       "      <td>2029.000000</td>\n",
       "      <td>2050.000000</td>\n",
       "      <td>...</td>\n",
       "      <td>2051.000000</td>\n",
       "      <td>2051.000000</td>\n",
       "      <td>2051.000000</td>\n",
       "      <td>2051.000000</td>\n",
       "      <td>2051.000000</td>\n",
       "      <td>2051.000000</td>\n",
       "      <td>2051.000000</td>\n",
       "      <td>2051.000000</td>\n",
       "      <td>2051.000000</td>\n",
       "      <td>2051.000000</td>\n",
       "    </tr>\n",
       "    <tr>\n",
       "      <th>mean</th>\n",
       "      <td>1474.033642</td>\n",
       "      <td>57.008776</td>\n",
       "      <td>69.055200</td>\n",
       "      <td>10065.208191</td>\n",
       "      <td>6.112140</td>\n",
       "      <td>5.562165</td>\n",
       "      <td>1971.708922</td>\n",
       "      <td>1984.190151</td>\n",
       "      <td>99.695909</td>\n",
       "      <td>442.300488</td>\n",
       "      <td>...</td>\n",
       "      <td>93.833740</td>\n",
       "      <td>47.556802</td>\n",
       "      <td>22.571916</td>\n",
       "      <td>2.591419</td>\n",
       "      <td>16.511458</td>\n",
       "      <td>2.397855</td>\n",
       "      <td>51.574354</td>\n",
       "      <td>6.219893</td>\n",
       "      <td>2007.775719</td>\n",
       "      <td>181469.701609</td>\n",
       "    </tr>\n",
       "    <tr>\n",
       "      <th>std</th>\n",
       "      <td>843.980841</td>\n",
       "      <td>42.824223</td>\n",
       "      <td>23.260653</td>\n",
       "      <td>6742.488909</td>\n",
       "      <td>1.426271</td>\n",
       "      <td>1.104497</td>\n",
       "      <td>30.177889</td>\n",
       "      <td>21.036250</td>\n",
       "      <td>174.963129</td>\n",
       "      <td>461.204124</td>\n",
       "      <td>...</td>\n",
       "      <td>128.549416</td>\n",
       "      <td>66.747241</td>\n",
       "      <td>59.845110</td>\n",
       "      <td>25.229615</td>\n",
       "      <td>57.374204</td>\n",
       "      <td>37.782570</td>\n",
       "      <td>573.393985</td>\n",
       "      <td>2.744736</td>\n",
       "      <td>1.312014</td>\n",
       "      <td>79258.659352</td>\n",
       "    </tr>\n",
       "    <tr>\n",
       "      <th>min</th>\n",
       "      <td>1.000000</td>\n",
       "      <td>20.000000</td>\n",
       "      <td>21.000000</td>\n",
       "      <td>1300.000000</td>\n",
       "      <td>1.000000</td>\n",
       "      <td>1.000000</td>\n",
       "      <td>1872.000000</td>\n",
       "      <td>1950.000000</td>\n",
       "      <td>0.000000</td>\n",
       "      <td>0.000000</td>\n",
       "      <td>...</td>\n",
       "      <td>0.000000</td>\n",
       "      <td>0.000000</td>\n",
       "      <td>0.000000</td>\n",
       "      <td>0.000000</td>\n",
       "      <td>0.000000</td>\n",
       "      <td>0.000000</td>\n",
       "      <td>0.000000</td>\n",
       "      <td>1.000000</td>\n",
       "      <td>2006.000000</td>\n",
       "      <td>12789.000000</td>\n",
       "    </tr>\n",
       "    <tr>\n",
       "      <th>25%</th>\n",
       "      <td>753.500000</td>\n",
       "      <td>20.000000</td>\n",
       "      <td>58.000000</td>\n",
       "      <td>7500.000000</td>\n",
       "      <td>5.000000</td>\n",
       "      <td>5.000000</td>\n",
       "      <td>1953.500000</td>\n",
       "      <td>1964.500000</td>\n",
       "      <td>0.000000</td>\n",
       "      <td>0.000000</td>\n",
       "      <td>...</td>\n",
       "      <td>0.000000</td>\n",
       "      <td>0.000000</td>\n",
       "      <td>0.000000</td>\n",
       "      <td>0.000000</td>\n",
       "      <td>0.000000</td>\n",
       "      <td>0.000000</td>\n",
       "      <td>0.000000</td>\n",
       "      <td>4.000000</td>\n",
       "      <td>2007.000000</td>\n",
       "      <td>129825.000000</td>\n",
       "    </tr>\n",
       "    <tr>\n",
       "      <th>50%</th>\n",
       "      <td>1486.000000</td>\n",
       "      <td>50.000000</td>\n",
       "      <td>68.000000</td>\n",
       "      <td>9430.000000</td>\n",
       "      <td>6.000000</td>\n",
       "      <td>5.000000</td>\n",
       "      <td>1974.000000</td>\n",
       "      <td>1993.000000</td>\n",
       "      <td>0.000000</td>\n",
       "      <td>368.000000</td>\n",
       "      <td>...</td>\n",
       "      <td>0.000000</td>\n",
       "      <td>27.000000</td>\n",
       "      <td>0.000000</td>\n",
       "      <td>0.000000</td>\n",
       "      <td>0.000000</td>\n",
       "      <td>0.000000</td>\n",
       "      <td>0.000000</td>\n",
       "      <td>6.000000</td>\n",
       "      <td>2008.000000</td>\n",
       "      <td>162500.000000</td>\n",
       "    </tr>\n",
       "    <tr>\n",
       "      <th>75%</th>\n",
       "      <td>2198.000000</td>\n",
       "      <td>70.000000</td>\n",
       "      <td>80.000000</td>\n",
       "      <td>11513.500000</td>\n",
       "      <td>7.000000</td>\n",
       "      <td>6.000000</td>\n",
       "      <td>2001.000000</td>\n",
       "      <td>2004.000000</td>\n",
       "      <td>161.000000</td>\n",
       "      <td>733.750000</td>\n",
       "      <td>...</td>\n",
       "      <td>168.000000</td>\n",
       "      <td>70.000000</td>\n",
       "      <td>0.000000</td>\n",
       "      <td>0.000000</td>\n",
       "      <td>0.000000</td>\n",
       "      <td>0.000000</td>\n",
       "      <td>0.000000</td>\n",
       "      <td>8.000000</td>\n",
       "      <td>2009.000000</td>\n",
       "      <td>214000.000000</td>\n",
       "    </tr>\n",
       "    <tr>\n",
       "      <th>max</th>\n",
       "      <td>2930.000000</td>\n",
       "      <td>190.000000</td>\n",
       "      <td>313.000000</td>\n",
       "      <td>159000.000000</td>\n",
       "      <td>10.000000</td>\n",
       "      <td>9.000000</td>\n",
       "      <td>2010.000000</td>\n",
       "      <td>2010.000000</td>\n",
       "      <td>1600.000000</td>\n",
       "      <td>5644.000000</td>\n",
       "      <td>...</td>\n",
       "      <td>1424.000000</td>\n",
       "      <td>547.000000</td>\n",
       "      <td>432.000000</td>\n",
       "      <td>508.000000</td>\n",
       "      <td>490.000000</td>\n",
       "      <td>800.000000</td>\n",
       "      <td>17000.000000</td>\n",
       "      <td>12.000000</td>\n",
       "      <td>2010.000000</td>\n",
       "      <td>611657.000000</td>\n",
       "    </tr>\n",
       "  </tbody>\n",
       "</table>\n",
       "<p>8 rows × 38 columns</p>\n",
       "</div>"
      ],
      "text/plain": [
       "                id  ms_subclass  lot_frontage       lot_area  overall_qual  \\\n",
       "count  2051.000000  2051.000000   1721.000000    2051.000000   2051.000000   \n",
       "mean   1474.033642    57.008776     69.055200   10065.208191      6.112140   \n",
       "std     843.980841    42.824223     23.260653    6742.488909      1.426271   \n",
       "min       1.000000    20.000000     21.000000    1300.000000      1.000000   \n",
       "25%     753.500000    20.000000     58.000000    7500.000000      5.000000   \n",
       "50%    1486.000000    50.000000     68.000000    9430.000000      6.000000   \n",
       "75%    2198.000000    70.000000     80.000000   11513.500000      7.000000   \n",
       "max    2930.000000   190.000000    313.000000  159000.000000     10.000000   \n",
       "\n",
       "       overall_cond   year_built  year_remod/add  mas_vnr_area  bsmtfin_sf_1  \\\n",
       "count   2051.000000  2051.000000     2051.000000   2029.000000   2050.000000   \n",
       "mean       5.562165  1971.708922     1984.190151     99.695909    442.300488   \n",
       "std        1.104497    30.177889       21.036250    174.963129    461.204124   \n",
       "min        1.000000  1872.000000     1950.000000      0.000000      0.000000   \n",
       "25%        5.000000  1953.500000     1964.500000      0.000000      0.000000   \n",
       "50%        5.000000  1974.000000     1993.000000      0.000000    368.000000   \n",
       "75%        6.000000  2001.000000     2004.000000    161.000000    733.750000   \n",
       "max        9.000000  2010.000000     2010.000000   1600.000000   5644.000000   \n",
       "\n",
       "       ...  wood_deck_sf  open_porch_sf  enclosed_porch   3ssn_porch  \\\n",
       "count  ...   2051.000000    2051.000000     2051.000000  2051.000000   \n",
       "mean   ...     93.833740      47.556802       22.571916     2.591419   \n",
       "std    ...    128.549416      66.747241       59.845110    25.229615   \n",
       "min    ...      0.000000       0.000000        0.000000     0.000000   \n",
       "25%    ...      0.000000       0.000000        0.000000     0.000000   \n",
       "50%    ...      0.000000      27.000000        0.000000     0.000000   \n",
       "75%    ...    168.000000      70.000000        0.000000     0.000000   \n",
       "max    ...   1424.000000     547.000000      432.000000   508.000000   \n",
       "\n",
       "       screen_porch    pool_area      misc_val      mo_sold      yr_sold  \\\n",
       "count   2051.000000  2051.000000   2051.000000  2051.000000  2051.000000   \n",
       "mean      16.511458     2.397855     51.574354     6.219893  2007.775719   \n",
       "std       57.374204    37.782570    573.393985     2.744736     1.312014   \n",
       "min        0.000000     0.000000      0.000000     1.000000  2006.000000   \n",
       "25%        0.000000     0.000000      0.000000     4.000000  2007.000000   \n",
       "50%        0.000000     0.000000      0.000000     6.000000  2008.000000   \n",
       "75%        0.000000     0.000000      0.000000     8.000000  2009.000000   \n",
       "max      490.000000   800.000000  17000.000000    12.000000  2010.000000   \n",
       "\n",
       "           saleprice  \n",
       "count    2051.000000  \n",
       "mean   181469.701609  \n",
       "std     79258.659352  \n",
       "min     12789.000000  \n",
       "25%    129825.000000  \n",
       "50%    162500.000000  \n",
       "75%    214000.000000  \n",
       "max    611657.000000  \n",
       "\n",
       "[8 rows x 38 columns]"
      ]
     },
     "execution_count": 12,
     "metadata": {},
     "output_type": "execute_result"
    }
   ],
   "source": [
    "df.describe()"
   ]
  },
  {
   "cell_type": "code",
   "execution_count": 13,
   "id": "090fd7fc-fe9b-4f2c-bfa3-69e85b295e89",
   "metadata": {},
   "outputs": [],
   "source": [
    "numeric_data_cols = ['lot_frontage', 'lot_area', 'overall_qual',\n",
    "       'overall_cond', 'year_built', 'year_remod/add', 'mas_vnr_area',\n",
    "       'bsmtfin_sf_1', 'bsmtfin_sf_2', 'bsmt_unf_sf', 'total_bsmt_sf',\n",
    "       '1st_flr_sf', '2nd_flr_sf', 'low_qual_fin_sf', 'gr_liv_area',\n",
    "       'bsmt_full_bath', 'bsmt_half_bath', 'full_bath', 'half_bath',\n",
    "       'bedroom_abvgr', 'kitchen_abvgr', 'totrms_abvgrd', 'fireplaces',\n",
    "       'garage_yr_blt', 'garage_cars', 'garage_area', 'wood_deck_sf',\n",
    "       'open_porch_sf', 'enclosed_porch', '3ssn_porch', 'screen_porch',\n",
    "       'pool_area', 'misc_val', 'mo_sold', 'yr_sold', 'saleprice']"
   ]
  },
  {
   "cell_type": "code",
   "execution_count": null,
   "id": "6e126811-1382-45bb-9a75-aab6595ba31e",
   "metadata": {},
   "outputs": [],
   "source": []
  },
  {
   "cell_type": "markdown",
   "id": "b7fa6b5f",
   "metadata": {},
   "source": [
    "### Converting ordinal data"
   ]
  },
  {
   "cell_type": "code",
   "execution_count": 14,
   "id": "276e15cb",
   "metadata": {},
   "outputs": [
    {
     "data": {
      "text/plain": [
       "3    1295\n",
       "2     692\n",
       "1      55\n",
       "0       9\n",
       "Name: lot_shape, dtype: int64"
      ]
     },
     "execution_count": 14,
     "metadata": {},
     "output_type": "execute_result"
    }
   ],
   "source": [
    "#Fix Lot Shape col into ordinal data\n",
    "# Reg\tRegular\t(3);        IR1\tSlightly irregular (2);       IR2\tModerately Irregular (1);       IR3\tIrregular (0)\n",
    "\n",
    "lot_shape_key = {'Reg':3, 'IR1':2, 'IR2':1, 'IR3':0, np.nan:0}\n",
    "df['lot_shape'] = df['lot_shape'].map(lot_shape_key)\n",
    "\n",
    "df['lot_shape'].value_counts()"
   ]
  },
  {
   "cell_type": "code",
   "execution_count": 15,
   "id": "bfa6f60f",
   "metadata": {},
   "outputs": [
    {
     "data": {
      "text/plain": [
       "4    2049\n",
       "2       1\n",
       "3       1\n",
       "Name: utilities, dtype: int64"
      ]
     },
     "execution_count": 15,
     "metadata": {},
     "output_type": "execute_result"
    }
   ],
   "source": [
    "#Fix Utilities col into ordinal data\n",
    "#        AllPub\tAll public Utilities (E,G,W,& S) (4)\n",
    "#        NoSewr\tElectricity, Gas, and Water (Septic Tank) (3)\n",
    "#        NoSeWa\tElectricity and Gas Only (2)\n",
    "#        ELO\tElectricity only\t(1)\n",
    "\n",
    "utils_key = {'AllPub':4, 'NoSewr':3, 'NoSeWa':2, 'ELO':1, np.nan:0}\n",
    "df['utilities'] = df['utilities'].map(utils_key)\n",
    "\n",
    "df['utilities'].value_counts()"
   ]
  },
  {
   "cell_type": "code",
   "execution_count": 16,
   "id": "994c037a",
   "metadata": {},
   "outputs": [
    {
     "data": {
      "text/plain": [
       "0    1953\n",
       "1      88\n",
       "2      10\n",
       "Name: land_slope, dtype: int64"
      ]
     },
     "execution_count": 16,
     "metadata": {},
     "output_type": "execute_result"
    }
   ],
   "source": [
    "#Fix Land Slope col into ordinal data\n",
    "# Gtl\tGentle slope (0);       Mod\tModerate Slope\t(1);       Sev\tSevere Slope (2)\n",
    "\n",
    "land_slope_key = {'Sev':2, 'Mod':1, 'Gtl':0, np.nan:0}\n",
    "df['land_slope'] = df['land_slope'].map(land_slope_key)\n",
    "\n",
    "df['land_slope'].value_counts()"
   ]
  },
  {
   "cell_type": "code",
   "execution_count": 17,
   "id": "e756fec3",
   "metadata": {},
   "outputs": [
    {
     "data": {
      "text/plain": [
       "3    1247\n",
       "4     697\n",
       "5      81\n",
       "2      26\n",
       "Name: exter_qual, dtype: int64"
      ]
     },
     "execution_count": 17,
     "metadata": {},
     "output_type": "execute_result"
    }
   ],
   "source": [
    "#Fix Exter Qual col into ordinal data\n",
    "# Ex\tExcellent (5);        Gd\tGood (4);       TA\tAverage/Typical (3);       Fa\tFair (2);       Po\tPoor (1)\n",
    "\n",
    "ext_qual_key = {'Ex':5, 'Gd':4, 'TA':3, 'Fa':2, 'Po':1, np.nan:0}\n",
    "df['exter_qual'] = df['exter_qual'].map(ext_qual_key)\n",
    "\n",
    "df['exter_qual'].value_counts()"
   ]
  },
  {
   "cell_type": "code",
   "execution_count": 18,
   "id": "88587264",
   "metadata": {},
   "outputs": [
    {
     "data": {
      "text/plain": [
       "3    1778\n",
       "4     215\n",
       "2      49\n",
       "5       7\n",
       "1       2\n",
       "Name: exter_cond, dtype: int64"
      ]
     },
     "execution_count": 18,
     "metadata": {},
     "output_type": "execute_result"
    }
   ],
   "source": [
    "#Fix Exter Cond col into ordinal data\n",
    "# Ex\tExcellent (5);        Gd\tGood (4);       TA\tAverage/Typical (3);       Fa\tFair (2);       Po\tPoor (1)\n",
    "\n",
    "ext_cond_key = {'Ex':5, 'Gd':4, 'TA':3, 'Fa':2, 'Po':1, np.nan:0}\n",
    "df['exter_cond'] = df['exter_cond'].map(ext_cond_key)\n",
    "\n",
    "df['exter_cond'].value_counts()"
   ]
  },
  {
   "cell_type": "code",
   "execution_count": 19,
   "id": "007cf58b-17f3-40e6-9b68-506a4d909b00",
   "metadata": {},
   "outputs": [
    {
     "data": {
      "text/plain": [
       "3    887\n",
       "4    864\n",
       "5    184\n",
       "2     60\n",
       "0     55\n",
       "1      1\n",
       "Name: bsmt_qual, dtype: int64"
      ]
     },
     "execution_count": 19,
     "metadata": {},
     "output_type": "execute_result"
    }
   ],
   "source": [
    "#Fix Bsmt Qual col into ordinal data\n",
    "# Ex\tExcellent (100+ inches) (5);        Gd\tGood (90-99 inches) (4);       TA\tTypical (80-89 inches) (3);       \n",
    "# Fa\tFair (70-79 inches) (2);       Po\tPoor (<70 inches (1);    NA\tNo Basement (0)\n",
    "\n",
    "bsmt_qual_key = {'Ex':5, 'Gd':4, 'TA':3, 'Fa':2, 'Po':1, 'NA':0, np.nan:0}\n",
    "df['bsmt_qual'] = df['bsmt_qual'].map(bsmt_qual_key)\n",
    "\n",
    "df['bsmt_qual'].value_counts()"
   ]
  },
  {
   "cell_type": "code",
   "execution_count": 20,
   "id": "6d93ddd0-db33-48e5-92fb-37205ce16cb6",
   "metadata": {},
   "outputs": [
    {
     "data": {
      "text/plain": [
       "3    1834\n",
       "4      89\n",
       "2      65\n",
       "0      55\n",
       "1       5\n",
       "5       3\n",
       "Name: bsmt_cond, dtype: int64"
      ]
     },
     "execution_count": 20,
     "metadata": {},
     "output_type": "execute_result"
    }
   ],
   "source": [
    "#Fix Bsmt Cond col into ordinal data\n",
    "# Ex\tExcellent (5);        Gd\tGood (4);       TA\tAverage/Typical (3);   Fa\tFair (2);    Po\tPoor (1);    NA\tNo Basement (0)\n",
    "\n",
    "bsmt_cond_key = {'Ex':5, 'Gd':4, 'TA':3, 'Fa':2, 'Po':1, 'NA':0, np.nan:0}\n",
    "df['bsmt_cond'] = df['bsmt_cond'].map(bsmt_cond_key)\n",
    "\n",
    "df['bsmt_cond'].value_counts()"
   ]
  },
  {
   "cell_type": "code",
   "execution_count": 21,
   "id": "8247c976-1a39-4727-9ea3-9397452c5cda",
   "metadata": {},
   "outputs": [
    {
     "data": {
      "text/plain": [
       "1    1339\n",
       "3     288\n",
       "4     203\n",
       "2     163\n",
       "0      58\n",
       "Name: bsmt_exposure, dtype: int64"
      ]
     },
     "execution_count": 21,
     "metadata": {},
     "output_type": "execute_result"
    }
   ],
   "source": [
    "#Fix Bsmt Exposure col into ordinal data\n",
    "# Gd\tGood (4);       Av\tAverage Exposure (3);   Mn\tMimimum Exposure (2);    No\tNo Exposure (1);    NA\tNo Basement (0)\n",
    "\n",
    "bsmt_exposure_key = {'Gd':4, 'Av':3, 'Mn':2, 'No':1, 'NA':0, np.nan:0}\n",
    "df['bsmt_exposure'] = df['bsmt_exposure'].map(bsmt_exposure_key)\n",
    "\n",
    "df['bsmt_exposure'].value_counts()"
   ]
  },
  {
   "cell_type": "code",
   "execution_count": 22,
   "id": "d12f7e97-07f6-4759-ae5e-d0a6a69ce488",
   "metadata": {},
   "outputs": [
    {
     "data": {
      "text/plain": [
       "6    615\n",
       "1    603\n",
       "5    293\n",
       "4    200\n",
       "3    183\n",
       "2    102\n",
       "0     55\n",
       "Name: bsmtfin_type_1, dtype: int64"
      ]
     },
     "execution_count": 22,
     "metadata": {},
     "output_type": "execute_result"
    }
   ],
   "source": [
    "#Fix BsmtFin Type 1 col into ordinal data\n",
    "#  GLQ\tGood Living Quarters (6);       ALQ\tAverage Living Quarters (5);       BLQ\tBelow Average Living Quarters (4);\n",
    "#  Rec\tAverage Rec Room (3);   LwQ\tLow Quality (2);    Unf\tUnfinshed (1);       NA\tNo Basement (0)\n",
    "\n",
    "bsmtfin_type_1_key = {'GLQ':6, 'ALQ':5, 'BLQ':4, 'Rec':3, 'LwQ':2, 'Unf':1, 'NA':0, np.nan:0}\n",
    "df['bsmtfin_type_1'] = df['bsmtfin_type_1'].map(bsmtfin_type_1_key)\n",
    "\n",
    "df['bsmtfin_type_1'].value_counts()"
   ]
  },
  {
   "cell_type": "code",
   "execution_count": 23,
   "id": "13b6d976-4411-43cf-ab2b-1082ec5a4f36",
   "metadata": {},
   "outputs": [
    {
     "data": {
      "text/plain": [
       "1    1749\n",
       "3      80\n",
       "2      60\n",
       "0      56\n",
       "4      48\n",
       "5      35\n",
       "6      23\n",
       "Name: bsmtfin_type_2, dtype: int64"
      ]
     },
     "execution_count": 23,
     "metadata": {},
     "output_type": "execute_result"
    }
   ],
   "source": [
    "#Fix BsmtFin Type 2 col into ordinal data\n",
    "#  GLQ\tGood Living Quarters (6);       ALQ\tAverage Living Quarters (5);       BLQ\tBelow Average Living Quarters (4);\n",
    "#  Rec\tAverage Rec Room (3);   LwQ\tLow Quality (2);    Unf\tUnfinshed (1);       NA\tNo Basement (0)\n",
    "\n",
    "bsmtfin_type_2_key = {'GLQ':6, 'ALQ':5, 'BLQ':4, 'Rec':3, 'LwQ':2, 'Unf':1, 'NA':0, np.nan:0}\n",
    "df['bsmtfin_type_2'] = df['bsmtfin_type_2'].map(bsmtfin_type_2_key)\n",
    "\n",
    "df['bsmtfin_type_2'].value_counts()"
   ]
  },
  {
   "cell_type": "code",
   "execution_count": 24,
   "id": "a07c6238-e312-415c-93f1-dd09fde669ce",
   "metadata": {},
   "outputs": [
    {
     "data": {
      "text/plain": [
       "5    1065\n",
       "3     597\n",
       "4     319\n",
       "2      67\n",
       "1       3\n",
       "Name: heating_qc, dtype: int64"
      ]
     },
     "execution_count": 24,
     "metadata": {},
     "output_type": "execute_result"
    }
   ],
   "source": [
    "#Fix Heating QC col into ordinal data\n",
    "# Ex\tExcellent (5);        Gd\tGood (4);       TA\tAverage/Typical (3);   Fa\tFair (2);    Po\tPoor (1)\n",
    "\n",
    "heating_qc_key = {'Ex':5, 'Gd':4, 'TA':3, 'Fa':2, 'Po':1, np.nan:0}\n",
    "df['heating_qc'] = df['heating_qc'].map(heating_qc_key)\n",
    "\n",
    "df['heating_qc'].value_counts()"
   ]
  },
  {
   "cell_type": "code",
   "execution_count": 25,
   "id": "1c08a169-6af5-439b-a1d5-624d4191e45b",
   "metadata": {},
   "outputs": [
    {
     "data": {
      "text/plain": [
       "1    1910\n",
       "0     141\n",
       "Name: central_air, dtype: int64"
      ]
     },
     "execution_count": 25,
     "metadata": {},
     "output_type": "execute_result"
    }
   ],
   "source": [
    "#Fix Central Air col into 1/0\n",
    "#        N\tNo (0);   Y\tYes (1)\n",
    "\n",
    "central_air_key = {'Y':1, 'N':0, np.nan:0}\n",
    "df['central_air'] = df['central_air'].map(central_air_key)\n",
    "\n",
    "df['central_air'].value_counts()"
   ]
  },
  {
   "cell_type": "code",
   "execution_count": 26,
   "id": "604cc7ea-44c3-4f3a-acc4-c9bd697bdb83",
   "metadata": {},
   "outputs": [
    {
     "data": {
      "text/plain": [
       "4    1868\n",
       "3     140\n",
       "2      36\n",
       "1       7\n",
       "Name: electrical, dtype: int64"
      ]
     },
     "execution_count": 26,
     "metadata": {},
     "output_type": "execute_result"
    }
   ],
   "source": [
    "#Fix Electrical col into ordinal data\n",
    "# SBrkr\tStandard Circuit Breakers & Romex (4); FuseA\tFuse Box over 60 AMP and all Romex wiring (Average) (3);\n",
    "# FuseF\t60 AMP Fuse Box and mostly Romex wiring (Fair) (2); FuseP\t60 AMP Fuse Box and mostly knob & tube wiring (poor) (1);\n",
    "# Mix\tMixed (2) #!!!!\n",
    "\n",
    "electrical_key = {'Ex':5, 'SBrkr':4, 'FuseA':3, 'FuseF':2, 'FuseP':1, 'Mix':2, np.nan:1}   # DIFFERENT THAN TYPICAL!\n",
    "df['electrical'] = df['electrical'].map(electrical_key)\n",
    "\n",
    "df['electrical'].value_counts()"
   ]
  },
  {
   "cell_type": "code",
   "execution_count": 27,
   "id": "26a9aa84-b27d-46a3-b020-d88a34d080a3",
   "metadata": {},
   "outputs": [
    {
     "data": {
      "text/plain": [
       "3    1047\n",
       "4     806\n",
       "5     151\n",
       "2      47\n",
       "Name: kitchen_qual, dtype: int64"
      ]
     },
     "execution_count": 27,
     "metadata": {},
     "output_type": "execute_result"
    }
   ],
   "source": [
    "#Fix Kitchen Qual col into ordinal data\n",
    "# Ex\tExcellent (5);        Gd\tGood (4);       TA\tAverage/Typical (3);   Fa\tFair (2);    Po\tPoor (1)\n",
    "\n",
    "kitchen_qual_key = {'Ex':5, 'Gd':4, 'TA':3, 'Fa':2, 'Po':1, np.nan:0}\n",
    "df['kitchen_qual'] = df['kitchen_qual'].map(kitchen_qual_key)\n",
    "\n",
    "df['kitchen_qual'].value_counts()"
   ]
  },
  {
   "cell_type": "code",
   "execution_count": 28,
   "id": "c7583b6e-3ddd-41ba-83f9-db7b26463bb3",
   "metadata": {},
   "outputs": [
    {
     "data": {
      "text/plain": [
       "7    1915\n",
       "5      42\n",
       "6      42\n",
       "4      29\n",
       "3      12\n",
       "2       7\n",
       "1       2\n",
       "0       2\n",
       "Name: functional, dtype: int64"
      ]
     },
     "execution_count": 28,
     "metadata": {},
     "output_type": "execute_result"
    }
   ],
   "source": [
    "#Fix Functional col into ordinal data\n",
    "# Typ\tTypical Functionality (7); Min1\tMinor Deductions 1 (6); Min2\tMinor Deductions 2 (5); Mod\tModerate Deductions (4);\n",
    "# Maj1\tMajor Deductions 1 (3); Maj2\tMajor Deductions 2 (2);  Sev\tSeverely Damaged (1); Sal\tSalvage only (0);\n",
    "\n",
    "functional_key = {'Typ':7, 'Min1':6, 'Min2':5, 'Mod':4, 'Maj1':3, 'Maj2':2, 'Sev':1, 'Sal':0, np.nan:0}\n",
    "df['functional'] = df['functional'].map(functional_key)\n",
    "\n",
    "df['functional'].value_counts()"
   ]
  },
  {
   "cell_type": "code",
   "execution_count": 29,
   "id": "d4403217-c9fe-4935-a602-a42ef3829ec9",
   "metadata": {},
   "outputs": [
    {
     "data": {
      "text/plain": [
       "0    1000\n",
       "4     523\n",
       "3     407\n",
       "2      59\n",
       "1      31\n",
       "5      31\n",
       "Name: fireplace_qu, dtype: int64"
      ]
     },
     "execution_count": 29,
     "metadata": {},
     "output_type": "execute_result"
    }
   ],
   "source": [
    "#Fix Fireplace Qu col into ordinal data\n",
    "# Ex\tExcellent - Exceptional Masonry Fireplace (5);        Gd\tGood - Masonry Fireplace in main level (4);       \n",
    "# TA\tAverage - Prefabricated Fireplace in main living area or Masonry Fireplace in basement (3);   \n",
    "# Fa\tFair - Prefabricated Fireplace in basement (2);    Po\tPoor - Ben Franklin Stove (1); NA\tNo Fireplace (0)\n",
    "\n",
    "fireplace_qu_key = {'Ex':5, 'Gd':4, 'TA':3, 'Fa':2, 'Po':1, 'NA':0, np.nan:0}\n",
    "df['fireplace_qu'] = df['fireplace_qu'].map(fireplace_qu_key)\n",
    "\n",
    "df['fireplace_qu'].value_counts()"
   ]
  },
  {
   "cell_type": "code",
   "execution_count": 30,
   "id": "e6b81c75-5903-45ee-910d-3e4da1c09e6f",
   "metadata": {},
   "outputs": [
    {
     "data": {
      "text/plain": [
       "1    849\n",
       "2    579\n",
       "3    509\n",
       "0    114\n",
       "Name: garage_finish, dtype: int64"
      ]
     },
     "execution_count": 30,
     "metadata": {},
     "output_type": "execute_result"
    }
   ],
   "source": [
    "#Fix Garage Finish col into ordinal data\n",
    "# Fin\tFinished (3);   RFn\tRough Finished (2);    Unf\tUnfinished (1); NA\tNo Garage (0)\n",
    "\n",
    "garage_finish_key = {'Fin':3, 'RFn':2, 'Unf':1, 'NA':0, np.nan:0}\n",
    "df['garage_finish'] = df['garage_finish'].map(garage_finish_key)\n",
    "\n",
    "df['garage_finish'].value_counts()"
   ]
  },
  {
   "cell_type": "code",
   "execution_count": 31,
   "id": "be3bc22c-0661-4655-a043-d42a75b72910",
   "metadata": {},
   "outputs": [
    {
     "data": {
      "text/plain": [
       "3    1832\n",
       "0     114\n",
       "2      82\n",
       "4      18\n",
       "5       3\n",
       "1       2\n",
       "Name: garage_qual, dtype: int64"
      ]
     },
     "execution_count": 31,
     "metadata": {},
     "output_type": "execute_result"
    }
   ],
   "source": [
    "#Fix Garage Qual col into ordinal data\n",
    "# Ex\tExcellent (100+ inches) (5);        Gd\tGood (90-99 inches) (4);       TA\tTypical (80-89 inches) (3);       \n",
    "# Fa\tFair (70-79 inches) (2);       Po\tPoor (<70 inches (1);    NA\tNo Basement (0)\n",
    "\n",
    "garage_qual_key = {'Ex':5, 'Gd':4, 'TA':3, 'Fa':2, 'Po':1, 'NA':0, np.nan:0}\n",
    "df['garage_qual'] = df['garage_qual'].map(garage_qual_key)\n",
    "\n",
    "df['garage_qual'].value_counts()"
   ]
  },
  {
   "cell_type": "code",
   "execution_count": 32,
   "id": "d5ce6027-4a8e-4be3-96f8-568ca7bbad76",
   "metadata": {},
   "outputs": [
    {
     "data": {
      "text/plain": [
       "3    1868\n",
       "0     114\n",
       "2      47\n",
       "4      12\n",
       "1       8\n",
       "5       2\n",
       "Name: garage_cond, dtype: int64"
      ]
     },
     "execution_count": 32,
     "metadata": {},
     "output_type": "execute_result"
    }
   ],
   "source": [
    "#Fix Garage Cond col into ordinal data\n",
    "# Ex\tExcellent (5);        Gd\tGood (4);       TA\tAverage/Typical (3);   Fa\tFair (2);    Po\tPoor (1);    NA\tNo Basement (0)\n",
    "\n",
    "garage_cond_key = {'Ex':5, 'Gd':4, 'TA':3, 'Fa':2, 'Po':1, 'NA':0, np.nan:0}\n",
    "df['garage_cond'] = df['garage_cond'].map(garage_cond_key)\n",
    "\n",
    "df['garage_cond'].value_counts()"
   ]
  },
  {
   "cell_type": "code",
   "execution_count": 33,
   "id": "e708ec03-7733-4043-bde6-d5dc9e6255c5",
   "metadata": {},
   "outputs": [
    {
     "data": {
      "text/plain": [
       "2    1861\n",
       "0     151\n",
       "1      39\n",
       "Name: paved_drive, dtype: int64"
      ]
     },
     "execution_count": 33,
     "metadata": {},
     "output_type": "execute_result"
    }
   ],
   "source": [
    "#Fix Paved Drive col into ordinal data\n",
    "#        Y\tPaved (2);        P\tPartial Pavement (1);        N\tDirt/Gravel (0)\n",
    "\n",
    "paved_drive_key = {'Y':2, 'P':1,'N':0, np.nan:0}\n",
    "df['paved_drive'] = df['paved_drive'].map(paved_drive_key)\n",
    "\n",
    "df['paved_drive'].value_counts()"
   ]
  },
  {
   "cell_type": "code",
   "execution_count": 34,
   "id": "eef83581",
   "metadata": {},
   "outputs": [
    {
     "data": {
      "text/plain": [
       "0    2042\n",
       "3       4\n",
       "1       2\n",
       "2       2\n",
       "4       1\n",
       "Name: pool_qc, dtype: int64"
      ]
     },
     "execution_count": 34,
     "metadata": {},
     "output_type": "execute_result"
    }
   ],
   "source": [
    "#Fix Pool Quality col into ordinal data\n",
    "\n",
    "# Ex\tExcellent (4);       Gd\tGood (3);       TA\tAverage/Typical (2);       Fa\tFair (1);       NA\tNo Pool (0)\n",
    "\n",
    "# df['pool_qc'].value_counts()\n",
    "pool_qual_key = {'Ex':4, 'Gd':3, 'TA':2, 'Fa':1, 'NA':0, np.nan:0}\n",
    "df['pool_qc'] = df['pool_qc'].map(pool_qual_key)\n",
    "\n",
    "df['pool_qc'].value_counts()"
   ]
  },
  {
   "cell_type": "code",
   "execution_count": 35,
   "id": "ae4b635d",
   "metadata": {},
   "outputs": [
    {
     "data": {
      "text/plain": [
       "0    1651\n",
       "3     227\n",
       "4      83\n",
       "2      80\n",
       "1      10\n",
       "Name: fence, dtype: int64"
      ]
     },
     "execution_count": 35,
     "metadata": {},
     "output_type": "execute_result"
    }
   ],
   "source": [
    "#Fix Fence col into ordinal data\n",
    "\n",
    "# GdPrv\tGood Privacy (4); MnPrv\tMinimum Privacy (3); GdWo\tGood Wood (2); MnWw\tMinimum Wood/Wire (1); NA\tNo Fence (0)\n",
    "\n",
    "fence_key = {'GdPrv':4, 'MnPrv':3, 'GdWo':2, 'MnWw':1, 'NA':0, np.nan:0}\n",
    "df['fence'] = df['fence'].map(fence_key)\n",
    "\n",
    "df['fence'].value_counts()"
   ]
  },
  {
   "cell_type": "code",
   "execution_count": null,
   "id": "05ad1d3b-7d21-47f8-aee6-64fca4df9149",
   "metadata": {},
   "outputs": [],
   "source": []
  },
  {
   "cell_type": "code",
   "execution_count": 36,
   "id": "3e42ffe3",
   "metadata": {},
   "outputs": [
    {
     "data": {
      "text/plain": [
       "misc_feature      1986\n",
       "alley             1911\n",
       "lot_frontage       330\n",
       "garage_yr_blt      114\n",
       "garage_type        113\n",
       "mas_vnr_type        22\n",
       "mas_vnr_area        22\n",
       "bsmt_full_bath       2\n",
       "bsmt_half_bath       2\n",
       "garage_cars          1\n",
       "dtype: int64"
      ]
     },
     "execution_count": 36,
     "metadata": {},
     "output_type": "execute_result"
    }
   ],
   "source": [
    "df.isna().sum().sort_values(ascending=False).head(10)"
   ]
  },
  {
   "cell_type": "code",
   "execution_count": 37,
   "id": "2346bf81",
   "metadata": {},
   "outputs": [
    {
     "data": {
      "text/plain": [
       "Grvl    85\n",
       "Pave    55\n",
       "Name: alley, dtype: int64"
      ]
     },
     "execution_count": 37,
     "metadata": {},
     "output_type": "execute_result"
    }
   ],
   "source": [
    "df['alley'].value_counts()"
   ]
  },
  {
   "cell_type": "code",
   "execution_count": 38,
   "id": "2f647177-2fee-49bc-a577-3fa41f96bd2e",
   "metadata": {},
   "outputs": [
    {
     "data": {
      "text/plain": [
       "0.0    1200\n",
       "1.0     824\n",
       "2.0      23\n",
       "3.0       2\n",
       "Name: bsmt_full_bath, dtype: int64"
      ]
     },
     "execution_count": 38,
     "metadata": {},
     "output_type": "execute_result"
    }
   ],
   "source": [
    "df['bsmt_full_bath'].value_counts()"
   ]
  },
  {
   "cell_type": "markdown",
   "id": "addbbf9c-6156-4299-a0e0-1597f4a268da",
   "metadata": {},
   "source": [
    "### Setting NaN's to 0 (or other) for columns where applicable"
   ]
  },
  {
   "cell_type": "code",
   "execution_count": 39,
   "id": "b5df4d9c-81c5-4e48-862d-0f4963f28f6d",
   "metadata": {},
   "outputs": [],
   "source": [
    "# df[df['bsmt_full_bath'].isna()]\n",
    "# df.iloc[616]['bsmt_full_bath']"
   ]
  },
  {
   "cell_type": "code",
   "execution_count": 40,
   "id": "377ae6ec-dd4f-4582-95e9-7b61a661f8ef",
   "metadata": {},
   "outputs": [],
   "source": [
    "df.loc[df['lot_frontage'].isna(),'lot_frontage'] = 0\n",
    "df.loc[df['mas_vnr_area'].isna(),'mas_vnr_area'] = 0\n",
    "\n",
    "df.loc[df['bsmtfin_sf_1'].isna(),'bsmtfin_sf_1'] = 0\n",
    "df.loc[df['bsmtfin_sf_2'].isna(),'bsmtfin_sf_2'] = 0\n",
    "df.loc[df['bsmt_unf_sf'].isna(),'bsmt_unf_sf'] = 0\n",
    "df.loc[df['total_bsmt_sf'].isna(),'total_bsmt_sf'] = 0\n",
    "df.loc[df['bsmt_full_bath'].isna(),'bsmt_full_bath'] = 0\n",
    "df.loc[df['bsmt_half_bath'].isna(),'bsmt_half_bath'] = 0\n",
    "df.loc[df['full_bath'].isna(),'full_bath'] = 0         #0 count already anyways\n",
    "df.loc[df['half_bath'].isna(),'half_bath'] = 0         #0 count already anyways\n",
    "df.loc[df['bedroom_abvgr'].isna(),'bedroom_abvgr'] = 0 #0 count already anyways\n",
    "df.loc[df['kitchen_abvgr'].isna(),'kitchen_abvgr'] = 0 #0 count already anyways\n",
    "df.loc[df['totrms_abvgrd'].isna(),'totrms_abvgrd'] = 0 #0 count already anyways\n",
    "df.loc[df['fireplaces'].isna(),'fireplaces'] = 0       #0 count already anyways\n",
    "df.loc[df['garage_cars'].isna(),'garage_cars'] = 0\n",
    "df.loc[df['garage_area'].isna(),'garage_area'] = 0"
   ]
  },
  {
   "cell_type": "markdown",
   "id": "02893fe5-3c2d-4313-98be-910be8c695fa",
   "metadata": {},
   "source": [
    "### Feature engineering - "
   ]
  },
  {
   "cell_type": "code",
   "execution_count": 41,
   "id": "396a1697-696d-401b-913c-08b4f76fa7c6",
   "metadata": {},
   "outputs": [],
   "source": [
    "# df['tv_x_radio'] = df['TV'] * df['radio']\n",
    "# df.head()"
   ]
  },
  {
   "cell_type": "markdown",
   "id": "b1d960c6-a48c-4061-a5d9-44a8a4cbfcc4",
   "metadata": {},
   "source": [
    "# FIX ME!!!!"
   ]
  },
  {
   "cell_type": "markdown",
   "id": "3468c802-b1f1-4fec-8928-64608800e4b4",
   "metadata": {},
   "source": [
    "# FIX ME!!!!"
   ]
  },
  {
   "cell_type": "code",
   "execution_count": 42,
   "id": "01a82fad-5224-462f-9b22-1b7b5499889a",
   "metadata": {},
   "outputs": [
    {
     "data": {
      "text/plain": [
       "114"
      ]
     },
     "execution_count": 42,
     "metadata": {},
     "output_type": "execute_result"
    }
   ],
   "source": [
    "df['garage_yr_blt'].isna().sum()"
   ]
  },
  {
   "cell_type": "code",
   "execution_count": 43,
   "id": "20305440-c127-442e-ae23-18fda83a0cc9",
   "metadata": {},
   "outputs": [],
   "source": [
    "#TBD how to handle NaN's\n",
    "# 'garage_yr_blt',\n",
    "\n",
    "# df.loc[df['garage_yr_blt'].isna(),'garage_yr_blt'] = 0\n",
    "df.loc[df['garage_yr_blt']==2207,'garage_yr_blt'] = 2007   #correct an errant value to its assumed value\n",
    "df.loc[df['garage_yr_blt'].isna(),'garage_yr_blt'] = round(df['garage_yr_blt'].mean())   #impute to mean value\n",
    "\n",
    "\n",
    "# df.dropna(subset=['garage_yr_blt'])   # freaks out if contest dataset doesn't have right # of rows!"
   ]
  },
  {
   "cell_type": "markdown",
   "id": "bbb31464-1893-49cd-8616-91750caf85c8",
   "metadata": {},
   "source": [
    "# FIX ME!!!!"
   ]
  },
  {
   "cell_type": "markdown",
   "id": "31462405-ef5d-4fbd-8b21-c5b865306d29",
   "metadata": {},
   "source": [
    "# FIX ME!!!!"
   ]
  },
  {
   "cell_type": "markdown",
   "id": "e87983cc-3017-4238-9537-da8a7dbd5425",
   "metadata": {},
   "source": [
    "### EDA"
   ]
  },
  {
   "cell_type": "code",
   "execution_count": 44,
   "id": "36133fb2-004f-42f1-9b2b-c825d94781cb",
   "metadata": {},
   "outputs": [
    {
     "data": {
      "image/png": "[encoded data removed]",
      "text/plain": [
       "<Figure size 640x480 with 1 Axes>"
      ]
     },
     "metadata": {},
     "output_type": "display_data"
    }
   ],
   "source": [
    "if run_type == 1:\n",
    "    df.boxplot(column='saleprice', by='overall_qual') ;"
   ]
  },
  {
   "cell_type": "code",
   "execution_count": 45,
   "id": "0746e864-306d-443d-9dfd-7b0ce3efd451",
   "metadata": {},
   "outputs": [
    {
     "data": {
      "image/png": "[encoded data removed]",
      "text/plain": [
       "<Figure size 640x480 with 1 Axes>"
      ]
     },
     "metadata": {},
     "output_type": "display_data"
    }
   ],
   "source": [
    "if run_type == 1:\n",
    "    df.boxplot(column='saleprice', by='overall_cond') ;"
   ]
  },
  {
   "cell_type": "code",
   "execution_count": 46,
   "id": "5dd15c3e-6459-4641-a91c-cf63deca9e34",
   "metadata": {},
   "outputs": [
    {
     "data": {
      "image/png": "[encoded data removed]",
      "text/plain": [
       "<Figure size 640x480 with 1 Axes>"
      ]
     },
     "metadata": {},
     "output_type": "display_data"
    }
   ],
   "source": [
    "if run_type == 1:\n",
    "    plt.scatter(df.year_built, df.saleprice) ;\n",
    "    plt.xlabel('year_built')\n",
    "    plt.ylabel('saleprice') ;\n",
    "    # plt.scatter(pd.DataFrame(Z_train).year_built, lasso_cv.predict(Z_train), s=5, alpha=.5) ;   #doesn't work"
   ]
  },
  {
   "cell_type": "code",
   "execution_count": null,
   "id": "2827a249-e168-4af6-800f-34a115ae9b17",
   "metadata": {},
   "outputs": [],
   "source": []
  },
  {
   "cell_type": "code",
   "execution_count": 47,
   "id": "9046d704-3cd1-4f7c-8752-f37bc08c3164",
   "metadata": {},
   "outputs": [
    {
     "data": {
      "image/png": "[encoded data removed]",
      "text/plain": [
       "<Figure size 1800x1200 with 2 Axes>"
      ]
     },
     "metadata": {},
     "output_type": "display_data"
    }
   ],
   "source": [
    "plt.figure(figsize=(18,12))\n",
    "sns.heatmap(df.corr(), cmap='coolwarm', vmin=-1) ;"
   ]
  },
  {
   "cell_type": "code",
   "execution_count": 48,
   "id": "5cfda986-d144-4466-9dcd-aa798dd3d9d0",
   "metadata": {},
   "outputs": [
    {
     "data": {
      "text/plain": [
       "Index(['id', 'ms_subclass', 'ms_zoning', 'lot_frontage', 'lot_area', 'street',\n",
       "       'alley', 'lot_shape', 'land_contour', 'utilities', 'lot_config',\n",
       "       'land_slope', 'neighborhood', 'condition_1', 'condition_2', 'bldg_type',\n",
       "       'house_style', 'overall_qual', 'overall_cond', 'year_built',\n",
       "       'year_remod/add', 'roof_style', 'roof_matl', 'exterior_1st',\n",
       "       'exterior_2nd', 'mas_vnr_type', 'mas_vnr_area', 'exter_qual',\n",
       "       'exter_cond', 'foundation', 'bsmt_qual', 'bsmt_cond', 'bsmt_exposure',\n",
       "       'bsmtfin_type_1', 'bsmtfin_sf_1', 'bsmtfin_type_2', 'bsmtfin_sf_2',\n",
       "       'bsmt_unf_sf', 'total_bsmt_sf', 'heating', 'heating_qc', 'central_air',\n",
       "       'electrical', '1st_flr_sf', '2nd_flr_sf', 'low_qual_fin_sf',\n",
       "       'gr_liv_area', 'bsmt_full_bath', 'bsmt_half_bath', 'full_bath',\n",
       "       'half_bath', 'bedroom_abvgr', 'kitchen_abvgr', 'kitchen_qual',\n",
       "       'totrms_abvgrd', 'functional', 'fireplaces', 'fireplace_qu',\n",
       "       'garage_type', 'garage_yr_blt', 'garage_finish', 'garage_cars',\n",
       "       'garage_area', 'garage_qual', 'garage_cond', 'paved_drive',\n",
       "       'wood_deck_sf', 'open_porch_sf', 'enclosed_porch', '3ssn_porch',\n",
       "       'screen_porch', 'pool_area', 'pool_qc', 'fence', 'misc_feature',\n",
       "       'misc_val', 'mo_sold', 'yr_sold', 'sale_type', 'saleprice'],\n",
       "      dtype='object')"
      ]
     },
     "execution_count": 48,
     "metadata": {},
     "output_type": "execute_result"
    }
   ],
   "source": [
    "df.columns"
   ]
  },
  {
   "cell_type": "code",
   "execution_count": null,
   "id": "0f40eb47-0474-4f69-b9bc-108c9b802853",
   "metadata": {},
   "outputs": [],
   "source": []
  },
  {
   "cell_type": "code",
   "execution_count": null,
   "id": "fb00b6b6-0b0a-4935-9cee-43fd51837f83",
   "metadata": {},
   "outputs": [],
   "source": []
  },
  {
   "cell_type": "code",
   "execution_count": null,
   "id": "89b6ef7b-843d-46df-996f-de680c6dcd01",
   "metadata": {},
   "outputs": [],
   "source": []
  },
  {
   "cell_type": "code",
   "execution_count": null,
   "id": "d51748a9-8ff5-4ce4-9f4f-162625e054cd",
   "metadata": {},
   "outputs": [],
   "source": []
  },
  {
   "cell_type": "markdown",
   "id": "aa9a29db-c907-4fbc-b55d-8db9c9045f5e",
   "metadata": {},
   "source": [
    "### Converting other categorical data cols into One-Hot Encoded cols"
   ]
  },
  {
   "cell_type": "code",
   "execution_count": 49,
   "id": "7e04f0a8-c97e-4536-ba72-0fe3a8df7721",
   "metadata": {},
   "outputs": [
    {
     "data": {
      "text/plain": [
       "Index(['id', 'ms_subclass', 'ms_zoning', 'lot_frontage', 'lot_area', 'street',\n",
       "       'alley', 'lot_shape', 'land_contour', 'utilities', 'lot_config',\n",
       "       'land_slope', 'neighborhood', 'condition_1', 'condition_2', 'bldg_type',\n",
       "       'house_style', 'overall_qual', 'overall_cond', 'year_built',\n",
       "       'year_remod/add', 'roof_style', 'roof_matl', 'exterior_1st',\n",
       "       'exterior_2nd', 'mas_vnr_type', 'mas_vnr_area', 'exter_qual',\n",
       "       'exter_cond', 'foundation', 'bsmt_qual', 'bsmt_cond', 'bsmt_exposure',\n",
       "       'bsmtfin_type_1', 'bsmtfin_sf_1', 'bsmtfin_type_2', 'bsmtfin_sf_2',\n",
       "       'bsmt_unf_sf', 'total_bsmt_sf', 'heating', 'heating_qc', 'central_air',\n",
       "       'electrical', '1st_flr_sf', '2nd_flr_sf', 'low_qual_fin_sf',\n",
       "       'gr_liv_area', 'bsmt_full_bath', 'bsmt_half_bath', 'full_bath',\n",
       "       'half_bath', 'bedroom_abvgr', 'kitchen_abvgr', 'kitchen_qual',\n",
       "       'totrms_abvgrd', 'functional', 'fireplaces', 'fireplace_qu',\n",
       "       'garage_type', 'garage_yr_blt', 'garage_finish', 'garage_cars',\n",
       "       'garage_area', 'garage_qual', 'garage_cond', 'paved_drive',\n",
       "       'wood_deck_sf', 'open_porch_sf', 'enclosed_porch', '3ssn_porch',\n",
       "       'screen_porch', 'pool_area', 'pool_qc', 'fence', 'misc_feature',\n",
       "       'misc_val', 'mo_sold', 'yr_sold', 'sale_type', 'saleprice'],\n",
       "      dtype='object')"
      ]
     },
     "execution_count": 49,
     "metadata": {},
     "output_type": "execute_result"
    }
   ],
   "source": [
    "df.columns"
   ]
  },
  {
   "cell_type": "code",
   "execution_count": 50,
   "id": "49682186",
   "metadata": {},
   "outputs": [],
   "source": [
    "# getdummies\n",
    "dummy_cols_dropfirst = [\n",
    "'ms_subclass',\n",
    "'ms_zoning',\n",
    "'street',\n",
    "'land_contour',\n",
    "'lot_config',\n",
    "'neighborhood',\n",
    "'condition_1',\n",
    "'condition_2',\n",
    "'bldg_type',\n",
    "'house_style',\n",
    "'roof_style',\n",
    "\n",
    "'foundation',\n",
    "\n",
    "'mo_sold',\n",
    "'yr_sold',\n",
    "]\n",
    "\n",
    "dummy_cols_no_dropfirst = [\n",
    "'alley',        # Has NaN's, don't drop first\n",
    "'garage_type',  # Has NaN's, don't drop first\n",
    "\n",
    "]\n",
    "\n",
    "dummy_ignore_cols = [\n",
    "    #temporarily removing--- NOT the problem\n",
    "    \n",
    "    \n",
    "    #from no_first\n",
    "'roof_matl',  # causes problems\n",
    "'sale_type',  # causes problems\n",
    "'heating',\n",
    "'exterior_1st',\n",
    "'exterior_2nd',\n",
    "\n",
    "    #from no_dropfirst\n",
    "'mas_vnr_type', # Has NaN's, don't drop first\n",
    "'misc_feature', # Has NaN's, don't drop first\n",
    "]\n",
    "\n",
    "# df3 = pd.get_dummies(df, columns = dummy_cols_no_dropfirst, drop_first=False)\n",
    "# df = df3\n",
    "\n",
    "# df2 = pd.get_dummies(df, columns = dummy_cols_dropfirst, drop_first=True)\n",
    "# df3 = pd.get_dummies(df2, columns = dummy_cols_no_dropfirst, drop_first=False)\n",
    "# df = df3\n"
   ]
  },
  {
   "cell_type": "code",
   "execution_count": null,
   "id": "c45614c2-8e46-4c3d-8ec6-cb6de9f44ac4",
   "metadata": {},
   "outputs": [],
   "source": []
  },
  {
   "cell_type": "code",
   "execution_count": 51,
   "id": "60820285-42dc-4cdf-a7d9-fb73a1f06e65",
   "metadata": {},
   "outputs": [],
   "source": [
    "# Create X and y.\n",
    "if run_type==1:\n",
    "    excluded_cols = ['id','saleprice'] + dummy_ignore_cols #+ dummy_cols_dropfirst + dummy_cols_no_dropfirst\n",
    "else:\n",
    "    excluded_cols = ['id'] + dummy_ignore_cols\n",
    "    \n",
    "Xnodummies = df.drop(columns= dummy_cols_dropfirst + dummy_cols_no_dropfirst + dummy_ignore_cols)\n",
    "    \n",
    "Xdropf = df[dummy_cols_dropfirst]\n",
    "Xnodropf = df[dummy_cols_no_dropfirst]"
   ]
  },
  {
   "cell_type": "code",
   "execution_count": 52,
   "id": "4be50d0c-25a1-4abd-9af1-ea1388d2681f",
   "metadata": {},
   "outputs": [
    {
     "data": {
      "text/html": [
       "<div>\n",
       "<style scoped>\n",
       "    .dataframe tbody tr th:only-of-type {\n",
       "        vertical-align: middle;\n",
       "    }\n",
       "\n",
       "    .dataframe tbody tr th {\n",
       "        vertical-align: top;\n",
       "    }\n",
       "\n",
       "    .dataframe thead th {\n",
       "        text-align: right;\n",
       "    }\n",
       "</style>\n",
       "<table border=\"1\" class=\"dataframe\">\n",
       "  <thead>\n",
       "    <tr style=\"text-align: right;\">\n",
       "      <th></th>\n",
       "      <th>ms_subclass</th>\n",
       "      <th>ms_zoning</th>\n",
       "      <th>street</th>\n",
       "      <th>land_contour</th>\n",
       "      <th>lot_config</th>\n",
       "      <th>neighborhood</th>\n",
       "      <th>condition_1</th>\n",
       "      <th>condition_2</th>\n",
       "      <th>bldg_type</th>\n",
       "      <th>house_style</th>\n",
       "      <th>roof_style</th>\n",
       "      <th>foundation</th>\n",
       "      <th>mo_sold</th>\n",
       "      <th>yr_sold</th>\n",
       "    </tr>\n",
       "  </thead>\n",
       "  <tbody>\n",
       "    <tr>\n",
       "      <th>0</th>\n",
       "      <td>60</td>\n",
       "      <td>RL</td>\n",
       "      <td>Pave</td>\n",
       "      <td>Lvl</td>\n",
       "      <td>CulDSac</td>\n",
       "      <td>Sawyer</td>\n",
       "      <td>RRAe</td>\n",
       "      <td>Norm</td>\n",
       "      <td>1Fam</td>\n",
       "      <td>2Story</td>\n",
       "      <td>Gable</td>\n",
       "      <td>CBlock</td>\n",
       "      <td>3</td>\n",
       "      <td>2010</td>\n",
       "    </tr>\n",
       "    <tr>\n",
       "      <th>1</th>\n",
       "      <td>60</td>\n",
       "      <td>RL</td>\n",
       "      <td>Pave</td>\n",
       "      <td>Lvl</td>\n",
       "      <td>CulDSac</td>\n",
       "      <td>SawyerW</td>\n",
       "      <td>Norm</td>\n",
       "      <td>Norm</td>\n",
       "      <td>1Fam</td>\n",
       "      <td>2Story</td>\n",
       "      <td>Gable</td>\n",
       "      <td>PConc</td>\n",
       "      <td>4</td>\n",
       "      <td>2009</td>\n",
       "    </tr>\n",
       "    <tr>\n",
       "      <th>2</th>\n",
       "      <td>20</td>\n",
       "      <td>RL</td>\n",
       "      <td>Pave</td>\n",
       "      <td>Lvl</td>\n",
       "      <td>Inside</td>\n",
       "      <td>NAmes</td>\n",
       "      <td>Norm</td>\n",
       "      <td>Norm</td>\n",
       "      <td>1Fam</td>\n",
       "      <td>1Story</td>\n",
       "      <td>Gable</td>\n",
       "      <td>CBlock</td>\n",
       "      <td>1</td>\n",
       "      <td>2010</td>\n",
       "    </tr>\n",
       "    <tr>\n",
       "      <th>3</th>\n",
       "      <td>60</td>\n",
       "      <td>RL</td>\n",
       "      <td>Pave</td>\n",
       "      <td>Lvl</td>\n",
       "      <td>Inside</td>\n",
       "      <td>Timber</td>\n",
       "      <td>Norm</td>\n",
       "      <td>Norm</td>\n",
       "      <td>1Fam</td>\n",
       "      <td>2Story</td>\n",
       "      <td>Gable</td>\n",
       "      <td>PConc</td>\n",
       "      <td>4</td>\n",
       "      <td>2010</td>\n",
       "    </tr>\n",
       "    <tr>\n",
       "      <th>4</th>\n",
       "      <td>50</td>\n",
       "      <td>RL</td>\n",
       "      <td>Pave</td>\n",
       "      <td>Lvl</td>\n",
       "      <td>Inside</td>\n",
       "      <td>SawyerW</td>\n",
       "      <td>Norm</td>\n",
       "      <td>Norm</td>\n",
       "      <td>1Fam</td>\n",
       "      <td>1.5Fin</td>\n",
       "      <td>Gable</td>\n",
       "      <td>PConc</td>\n",
       "      <td>3</td>\n",
       "      <td>2010</td>\n",
       "    </tr>\n",
       "  </tbody>\n",
       "</table>\n",
       "</div>"
      ],
      "text/plain": [
       "   ms_subclass ms_zoning street land_contour lot_config neighborhood  \\\n",
       "0           60        RL   Pave          Lvl    CulDSac       Sawyer   \n",
       "1           60        RL   Pave          Lvl    CulDSac      SawyerW   \n",
       "2           20        RL   Pave          Lvl     Inside        NAmes   \n",
       "3           60        RL   Pave          Lvl     Inside       Timber   \n",
       "4           50        RL   Pave          Lvl     Inside      SawyerW   \n",
       "\n",
       "  condition_1 condition_2 bldg_type house_style roof_style foundation  \\\n",
       "0        RRAe        Norm      1Fam      2Story      Gable     CBlock   \n",
       "1        Norm        Norm      1Fam      2Story      Gable      PConc   \n",
       "2        Norm        Norm      1Fam      1Story      Gable     CBlock   \n",
       "3        Norm        Norm      1Fam      2Story      Gable      PConc   \n",
       "4        Norm        Norm      1Fam      1.5Fin      Gable      PConc   \n",
       "\n",
       "   mo_sold  yr_sold  \n",
       "0        3     2010  \n",
       "1        4     2009  \n",
       "2        1     2010  \n",
       "3        4     2010  \n",
       "4        3     2010  "
      ]
     },
     "execution_count": 52,
     "metadata": {},
     "output_type": "execute_result"
    }
   ],
   "source": [
    "Xdropf.head()"
   ]
  },
  {
   "cell_type": "code",
   "execution_count": 53,
   "id": "3aeca433-c434-4767-b8f9-0f9dfef972e7",
   "metadata": {},
   "outputs": [
    {
     "data": {
      "text/plain": [
       "0    CBlock\n",
       "1     PConc\n",
       "2    CBlock\n",
       "3     PConc\n",
       "4     PConc\n",
       "Name: foundation, dtype: object"
      ]
     },
     "execution_count": 53,
     "metadata": {},
     "output_type": "execute_result"
    }
   ],
   "source": [
    "pd.DataFrame(Xdropf).iloc[:,11].head()"
   ]
  },
  {
   "cell_type": "code",
   "execution_count": 54,
   "id": "7d8c9756-f731-4e94-b9a3-24fb2e05895d",
   "metadata": {},
   "outputs": [
    {
     "data": {
      "text/plain": [
       "(2051, 121)"
      ]
     },
     "execution_count": 54,
     "metadata": {},
     "output_type": "execute_result"
    }
   ],
   "source": [
    "#Reference: 305-lesson-feature-engineering\n",
    "\n",
    "# if run_type == 1:\n",
    "#     oh_ydf = OneHotEncoder(drop='first', sparse=False)\n",
    "#     oh_ndf = OneHotEncoder(drop=None, sparse=False)\n",
    "\n",
    "#     X_oh_ydf = pd.DataFrame(oh_ydf.fit_transform(Xdropf))\n",
    "#     X_oh_ndf = pd.DataFrame(oh_ndf.fit_transform(Xnodropf))\n",
    "# else:\n",
    "#     X_oh_ydf = pd.DataFrame(oh_ydf.transform(Xdropf))\n",
    "#     X_oh_ndf = pd.DataFrame(oh_ndf.transform(Xnodropf))   \n",
    "\n",
    "\n",
    "oh_ydf = OneHotEncoder(drop=None, sparse=False)    \n",
    "# oh_ydf = OneHotEncoder(drop='first', sparse=False)\n",
    "oh_ndf = OneHotEncoder(drop=None, sparse=False)\n",
    "\n",
    "X_oh_ydf = pd.DataFrame(oh_ydf.fit_transform(Xdropf))\n",
    "X_oh_ndf = pd.DataFrame(oh_ndf.fit_transform(Xnodropf))\n",
    "    \n",
    "    \n",
    "oh_ydf.get_feature_names_out(Xdropf.columns)   # this is how you get the names\n",
    "\n",
    "X_oh_ydf.shape"
   ]
  },
  {
   "cell_type": "code",
   "execution_count": 55,
   "id": "d408d37e-6fb6-4edd-8f0f-6efba910b812",
   "metadata": {},
   "outputs": [],
   "source": [
    "X_oh_ydf.columns = oh_ydf.get_feature_names_out(Xdropf.columns)\n",
    "X_oh_ndf.columns = oh_ndf.get_feature_names_out(Xnodropf.columns)"
   ]
  },
  {
   "cell_type": "code",
   "execution_count": 56,
   "id": "08cfeea7-44f9-4dac-8f1b-62d199e79447",
   "metadata": {},
   "outputs": [
    {
     "data": {
      "text/plain": [
       "(2051, 10)"
      ]
     },
     "execution_count": 56,
     "metadata": {},
     "output_type": "execute_result"
    }
   ],
   "source": [
    "X_oh_ndf.shape"
   ]
  },
  {
   "cell_type": "code",
   "execution_count": 57,
   "id": "960252f1-6f3d-4d5b-b075-2718d6c7517d",
   "metadata": {},
   "outputs": [
    {
     "data": {
      "text/plain": [
       "(2051, 57)"
      ]
     },
     "execution_count": 57,
     "metadata": {},
     "output_type": "execute_result"
    }
   ],
   "source": [
    "Xnodummies.shape"
   ]
  },
  {
   "cell_type": "code",
   "execution_count": 58,
   "id": "f29fe67d-2b15-4802-add9-6e4610ddebcf",
   "metadata": {},
   "outputs": [
    {
     "data": {
      "text/plain": [
       "pandas.core.frame.DataFrame"
      ]
     },
     "execution_count": 58,
     "metadata": {},
     "output_type": "execute_result"
    }
   ],
   "source": [
    "type(X_oh_ydf)"
   ]
  },
  {
   "cell_type": "code",
   "execution_count": 59,
   "id": "dbec871c-c19c-4889-9c3a-c9135746bbe1",
   "metadata": {},
   "outputs": [
    {
     "data": {
      "text/plain": [
       "(2051, 188)"
      ]
     },
     "execution_count": 59,
     "metadata": {},
     "output_type": "execute_result"
    }
   ],
   "source": [
    "X_oh = pd.concat([Xnodummies, X_oh_ydf, X_oh_ndf], axis = 1)\n",
    "\n",
    "X_oh.shape\n",
    "\n",
    "\n",
    "# Kate Skibo's code:\n",
    "# df = pd.concat([df, pd.get_dummies(df.select_dtypes('object'), dummy_na=False)], axis = 1)\n",
    "# df = pd.concat([df, pd.get_dummies('ms_subclass', dummy_na=False)], axis = 1)"
   ]
  },
  {
   "cell_type": "code",
   "execution_count": 60,
   "id": "8075bd84-5c42-4ad1-be98-123c73d1298e",
   "metadata": {},
   "outputs": [],
   "source": [
    "# # Reference: https://stackoverflow.com/questions/21285380/find-column-whose-name-contains-a-specific-string\n",
    "# # spike_cols = [col for col in df.columns if 'spike' in col]\n",
    "\n",
    "ms_subclass_cols = [col for col in X_oh.columns if 'ms_subclass' in col]\n",
    "ms_zoning_cols = [col for col in X_oh.columns if 'ms_zoning' in col]\n",
    "land_contour_cols = [col for col in X_oh.columns if 'land_contour' in col]\n",
    "lot_config_cols = [col for col in X_oh.columns if 'lot_config' in col]\n",
    "neighborhood_cols = [col for col in X_oh.columns if 'neighborhood' in col]\n",
    "condition_1_cols = [col for col in X_oh.columns if 'condition_1' in col]\n",
    "condition_2_cols = [col for col in X_oh.columns if 'condition_2' in col]\n",
    "bldg_type_cols = [col for col in X_oh.columns if 'bldg_type' in col]\n",
    "house_style_cols = [col for col in X_oh.columns if 'house_style' in col]\n",
    "roof_style_cols = [col for col in X_oh.columns if 'roof_style' in col]\n",
    "roof_matl_cols = [col for col in X_oh.columns if 'roof_matl' in col]\n",
    "exterior_1st_cols = [col for col in X_oh.columns if 'exterior_1st' in col]\n",
    "exterior_2nd_cols = [col for col in X_oh.columns if 'foundation' in col]\n",
    "heating_cols = [col for col in X_oh.columns if 'heating' in col]   #will pick up non-dummy col(s) also\n",
    "mo_sold_cols = [col for col in X_oh.columns if 'mo_sold' in col]\n",
    "yr_sold_cols = [col for col in X_oh.columns if 'yr_sold' in col]\n",
    "sale_type_cols = [col for col in X_oh.columns if 'sale_type' in col]\n",
    "alley_cols = [col for col in X_oh.columns if 'alley' in col]\n",
    "mas_vnr_type_cols = [col for col in X_oh.columns if 'mas_vnr_type' in col]\n",
    "garage_type_cols = [col for col in X_oh.columns if 'garage_type' in col]\n",
    "misc_feature_cols = [col for col in X_oh.columns if 'misc_feature' in col]"
   ]
  },
  {
   "cell_type": "code",
   "execution_count": 61,
   "id": "a9480550-dcf7-4b51-82c2-1df19f8565e1",
   "metadata": {},
   "outputs": [
    {
     "data": {
      "text/plain": [
       "[]"
      ]
     },
     "execution_count": 61,
     "metadata": {},
     "output_type": "execute_result"
    }
   ],
   "source": [
    "roof_matl_cols"
   ]
  },
  {
   "cell_type": "code",
   "execution_count": 62,
   "id": "b980cfeb-5209-459d-830e-de12ed75dec7",
   "metadata": {},
   "outputs": [
    {
     "data": {
      "text/plain": [
       "Index(['id', 'lot_frontage', 'lot_area', 'lot_shape', 'utilities',\n",
       "       'land_slope', 'overall_qual', 'overall_cond', 'year_built',\n",
       "       'year_remod/add', 'mas_vnr_area', 'exter_qual', 'exter_cond',\n",
       "       'bsmt_qual', 'bsmt_cond', 'bsmt_exposure', 'bsmtfin_type_1',\n",
       "       'bsmtfin_sf_1', 'bsmtfin_type_2', 'bsmtfin_sf_2', 'bsmt_unf_sf',\n",
       "       'total_bsmt_sf', 'heating_qc', 'central_air', 'electrical',\n",
       "       '1st_flr_sf', '2nd_flr_sf', 'low_qual_fin_sf', 'gr_liv_area',\n",
       "       'bsmt_full_bath', 'bsmt_half_bath', 'full_bath', 'half_bath',\n",
       "       'bedroom_abvgr', 'kitchen_abvgr', 'kitchen_qual', 'totrms_abvgrd',\n",
       "       'functional', 'fireplaces', 'fireplace_qu', 'garage_yr_blt',\n",
       "       'garage_finish', 'garage_cars', 'garage_area', 'garage_qual',\n",
       "       'garage_cond', 'paved_drive', 'wood_deck_sf', 'open_porch_sf',\n",
       "       'enclosed_porch', '3ssn_porch', 'screen_porch', 'pool_area', 'pool_qc',\n",
       "       'fence', 'misc_val', 'saleprice'],\n",
       "      dtype='object')"
      ]
     },
     "execution_count": 62,
     "metadata": {},
     "output_type": "execute_result"
    }
   ],
   "source": [
    "Xnodummies.columns"
   ]
  },
  {
   "cell_type": "markdown",
   "id": "c751a68f-bf1d-4d5a-8476-a6aafd34e124",
   "metadata": {},
   "source": [
    "### Write intermediate cleaned dataset"
   ]
  },
  {
   "cell_type": "code",
   "execution_count": 63,
   "id": "25e738a7-e13f-4022-8a75-b6a61a90659c",
   "metadata": {},
   "outputs": [],
   "source": [
    "if run_type == 1:\n",
    "    X_oh.to_csv(f'./datasets/ames_cleaned_{run_id_number}.csv',index=False)\n",
    "else:\n",
    "    X_oh.to_csv(f'./datasets/test_cleaned_{run_id_number}.csv',index=False)"
   ]
  },
  {
   "cell_type": "code",
   "execution_count": null,
   "id": "738813b4-caab-444d-aa93-6e056d9799d3",
   "metadata": {},
   "outputs": [],
   "source": []
  },
  {
   "cell_type": "code",
   "execution_count": 64,
   "id": "56d770c2-afec-4308-b74e-79d7647fbde0",
   "metadata": {},
   "outputs": [],
   "source": [
    "#troubleshooting datadumps---- remove for final\n",
    "if run_type == 1:\n",
    "    X_oh_ydf.to_csv(f'./datasets/troubleshooting_Train_X_oh_ydf_{run_id_number}.csv',index=False)\n",
    "    X_oh_ndf.to_csv(f'./datasets/troubleshooting_Train_X_oh_ndf_{run_id_number}.csv',index=False)   \n",
    "else:\n",
    "    X_oh_ydf.to_csv(f'./datasets/troubleshooting_Contest_X_oh_ydf_{run_id_number}.csv',index=False)\n",
    "    X_oh_ndf.to_csv(f'./datasets/troubleshooting_Contest_X_oh_ndf_{run_id_number}.csv',index=False) \n"
   ]
  },
  {
   "cell_type": "markdown",
   "id": "51f9b823-54a4-48a4-a1cf-7ce78e6e98ed",
   "metadata": {},
   "source": [
    "### Fitting a model"
   ]
  },
  {
   "cell_type": "code",
   "execution_count": 65,
   "id": "2a78fb5b-9794-460c-b45b-93a3d8a214cd",
   "metadata": {},
   "outputs": [],
   "source": [
    "from sklearn.preprocessing import PolynomialFeatures, StandardScaler\n",
    "from sklearn.model_selection import train_test_split, cross_val_score\n",
    "from sklearn.linear_model import LinearRegression"
   ]
  },
  {
   "cell_type": "code",
   "execution_count": 66,
   "id": "477a6389-961d-4997-b371-2ea9309a8366",
   "metadata": {},
   "outputs": [],
   "source": [
    "# df.isna().sum().sort_values(ascending=False).head(10)"
   ]
  },
  {
   "cell_type": "code",
   "execution_count": 67,
   "id": "fa10e3a5-81a7-4e3f-917c-08b253b8c601",
   "metadata": {},
   "outputs": [],
   "source": [
    "# df.columns"
   ]
  },
  {
   "cell_type": "code",
   "execution_count": 68,
   "id": "235dbe1f-34b2-4e07-bf7f-19458f07ff1c",
   "metadata": {},
   "outputs": [],
   "source": [
    "# run_id_number =3   #COMMENT OUT LATER!!!!"
   ]
  },
  {
   "cell_type": "code",
   "execution_count": 69,
   "id": "0d925c1e-d438-4263-a154-e327cfd2f7b1",
   "metadata": {},
   "outputs": [],
   "source": [
    "train = pd.read_csv(f'./datasets/ames_cleaned_{run_id_number}.csv')"
   ]
  },
  {
   "cell_type": "code",
   "execution_count": 70,
   "id": "7897dec0-0fb7-4bde-8206-1cecf2dc96eb",
   "metadata": {},
   "outputs": [],
   "source": [
    "contest = pd.read_csv(f'./datasets/test_cleaned_{run_id_number}.csv')"
   ]
  },
  {
   "cell_type": "code",
   "execution_count": 71,
   "id": "2109bd55-707f-4c88-a849-7c0c001b41cf",
   "metadata": {},
   "outputs": [
    {
     "data": {
      "text/plain": [
       "(2051, 188)"
      ]
     },
     "execution_count": 71,
     "metadata": {},
     "output_type": "execute_result"
    }
   ],
   "source": [
    "train.shape"
   ]
  },
  {
   "cell_type": "code",
   "execution_count": null,
   "id": "d0b0af89-8c84-46fb-b1af-95c77eeaa1ec",
   "metadata": {},
   "outputs": [],
   "source": []
  },
  {
   "cell_type": "code",
   "execution_count": 72,
   "id": "68d0f554-5792-42ae-b62d-57a1daa555b2",
   "metadata": {},
   "outputs": [],
   "source": [
    "#troubleshooting datadumps---- remove for final\n",
    "\n",
    "X_train_oh_ydf = pd.read_csv(f'./datasets/troubleshooting_Train_X_oh_ydf_{run_id_number}.csv')\n",
    "X_train_oh_ndf = pd.read_csv(f'./datasets/troubleshooting_Train_X_oh_ndf_{run_id_number}.csv')\n",
    "\n",
    "X_contest_oh_ydf = pd.read_csv(f'./datasets/troubleshooting_Contest_X_oh_ydf_{run_id_number}.csv')\n",
    "X_contest_oh_ndf = pd.read_csv(f'./datasets/troubleshooting_Contest_X_oh_ndf_{run_id_number}.csv')"
   ]
  },
  {
   "cell_type": "code",
   "execution_count": 73,
   "id": "a152bb1f-fa93-4608-a928-4bdea27634ef",
   "metadata": {},
   "outputs": [],
   "source": [
    "# Method from Kate Skibo via Katie Sylvia\n",
    "# X = cdf.drop(columns=['id']).drop(columns=(list(set(cdf) - set(ctest))))\n",
    "\n",
    "train_trimmed = train.drop(columns=(list(set(train) - set(contest))))\n",
    "train_trimmed['saleprice'] = train['saleprice']"
   ]
  },
  {
   "cell_type": "code",
   "execution_count": null,
   "id": "000d3e7c-2be7-4bb6-9c11-b6987c326d59",
   "metadata": {},
   "outputs": [],
   "source": []
  },
  {
   "cell_type": "code",
   "execution_count": null,
   "id": "872a649c-6ecf-453d-ad80-0ac059269677",
   "metadata": {},
   "outputs": [],
   "source": []
  },
  {
   "cell_type": "code",
   "execution_count": 74,
   "id": "324455ee-b8d7-47d4-b2dd-cb07847f0c67",
   "metadata": {},
   "outputs": [],
   "source": [
    "# Used for an intermediate, unsuccessful model. Didn't end up useful\n",
    "\n",
    "top_cols_only = ['exter_qual', \n",
    "                 'kitchen_qual', \n",
    "                 'land_slope', \n",
    "                 'full_bath', \n",
    "                 'bsmt_qual', \n",
    "                 'overall_qual', \n",
    "                 'totrms_abvgrd', \n",
    "                 'half_bath', \n",
    "                 'fireplaces', \n",
    "                 'garage_cars', \n",
    "                 'bsmt_full_bath', \n",
    "                 'functional', \n",
    "                 'heating_qc', \n",
    "                 'overall_cond', \n",
    "                 'paved_drive', \n",
    "                 'bsmt_exposure', \n",
    "                 'bsmtfin_type_1', \n",
    "                 'fireplace_qu', \n",
    "                 'bsmtfin_type_2', \n",
    "                 'bsmt_half_bath', \n",
    "                 'pool_area', \n",
    "                 'fence', \n",
    "                 'lot_frontage', \n",
    "                ]"
   ]
  },
  {
   "cell_type": "code",
   "execution_count": null,
   "id": "337c7b17-3ccf-46c9-8877-19427cf18886",
   "metadata": {},
   "outputs": [],
   "source": []
  },
  {
   "cell_type": "code",
   "execution_count": 75,
   "id": "9f707e7d-f5b1-46b5-93f9-6c14c6e1eb28",
   "metadata": {},
   "outputs": [],
   "source": [
    "# # Create X and y.\n",
    "\n",
    "# #Re-defined (identical as before/above) in case code is split into separate files\n",
    "# if run_type==1:\n",
    "#     excluded_cols = ['id','saleprice'] #+ dummy_ignore_cols  #dummy ignore already taken out when writing to the file that gets read in for 'Fitting a Model' section\n",
    "# else:\n",
    "#     excluded_cols = ['id'] #+ dummy_ignore_cols\n",
    "\n",
    "\n",
    "# X = train.drop(columns=excluded_cols)\n",
    "# y = train['saleprice']\n",
    "\n",
    "# # X_contest = contest[top_cols_only]    # didn't end up useful\n",
    "# X_contest = contest.drop(columns=excluded_cols)"
   ]
  },
  {
   "cell_type": "code",
   "execution_count": 76,
   "id": "7da44f91-3705-4d65-8cd3-27d8dd00504b",
   "metadata": {},
   "outputs": [],
   "source": [
    "# Create X and y.\n",
    "\n",
    "X = train_trimmed.drop(columns=['id','saleprice'])\n",
    "y = train['saleprice']\n",
    "\n",
    "# X_contest = contest[top_cols_only]    # didn't end up useful\n",
    "X_contest = contest.drop(columns=['id'])\n",
    "# X_contest = contest.drop(columns='id')"
   ]
  },
  {
   "cell_type": "code",
   "execution_count": 77,
   "id": "4b3cb322-b07b-4fd5-b209-c4bd19b533a6",
   "metadata": {},
   "outputs": [
    {
     "data": {
      "text/plain": [
       "(2051, 177)"
      ]
     },
     "execution_count": 77,
     "metadata": {},
     "output_type": "execute_result"
    }
   ],
   "source": [
    "# X.columns\n",
    "X.shape"
   ]
  },
  {
   "cell_type": "code",
   "execution_count": 78,
   "id": "b03ee255-1bcf-4085-98a9-e4123d6e9591",
   "metadata": {},
   "outputs": [
    {
     "data": {
      "text/plain": [
       "(878, 177)"
      ]
     },
     "execution_count": 78,
     "metadata": {},
     "output_type": "execute_result"
    }
   ],
   "source": [
    "# X_contest.columns\n",
    "X_contest.shape"
   ]
  },
  {
   "cell_type": "code",
   "execution_count": 79,
   "id": "762d8844-1946-400a-a9fe-06fe8c537fde",
   "metadata": {},
   "outputs": [
    {
     "data": {
      "text/plain": [
       "[]"
      ]
     },
     "execution_count": 79,
     "metadata": {},
     "output_type": "execute_result"
    }
   ],
   "source": [
    "list(set(X) - set(X_contest))"
   ]
  },
  {
   "cell_type": "code",
   "execution_count": 80,
   "id": "c55bfa8d-6abc-4915-9168-43ea127be719",
   "metadata": {},
   "outputs": [
    {
     "data": {
      "text/plain": [
       "[]"
      ]
     },
     "execution_count": 80,
     "metadata": {},
     "output_type": "execute_result"
    }
   ],
   "source": [
    "# Reference: https://stackoverflow.com/questions/68152902/extracting-only-object-type-columns-in-a-separate-list-from-a-data-frame-in-pand\n",
    "X_contest.select_dtypes(include='object')\n",
    "# col_list = df_flights.select_dtypes(include=['object']).columns.to_list()\n",
    "X_contest.select_dtypes(include=['object']).columns.to_list()"
   ]
  },
  {
   "cell_type": "markdown",
   "id": "6c390e45-4e18-4e02-934d-2031ab902aa6",
   "metadata": {},
   "source": [
    "#### Basic Linear Model"
   ]
  },
  {
   "cell_type": "code",
   "execution_count": 81,
   "id": "c4264f6a-f210-45a2-bffe-ea7dca3569b7",
   "metadata": {},
   "outputs": [
    {
     "data": {
      "text/plain": [
       "0.8416798794432493"
      ]
     },
     "execution_count": 81,
     "metadata": {},
     "output_type": "execute_result"
    }
   ],
   "source": [
    "lr = LinearRegression()\n",
    "np.mean(cross_val_score(lr, X, y, cv=10))"
   ]
  },
  {
   "cell_type": "code",
   "execution_count": 82,
   "id": "8f114408-48a4-4a0a-9f31-48a4d9474d14",
   "metadata": {},
   "outputs": [
    {
     "data": {
      "text/plain": [
       "0.9184054678924463"
      ]
     },
     "execution_count": 82,
     "metadata": {},
     "output_type": "execute_result"
    }
   ],
   "source": [
    "Xl_train, Xl_test, yl_train, yl_test = train_test_split(\n",
    "    X, y, \n",
    "    test_size=.7, \n",
    "    random_state=42\n",
    ")\n",
    "\n",
    "lr.fit(Xl_train, yl_train)\n",
    "lr.score(Xl_train, yl_train)"
   ]
  },
  {
   "cell_type": "code",
   "execution_count": 83,
   "id": "24ac4bab-ca54-4495-8a73-9f9e911f2328",
   "metadata": {},
   "outputs": [
    {
     "data": {
      "text/plain": [
       "0.7987678811336867"
      ]
     },
     "execution_count": 83,
     "metadata": {},
     "output_type": "execute_result"
    }
   ],
   "source": [
    "lr.score(Xl_test, yl_test)"
   ]
  },
  {
   "cell_type": "code",
   "execution_count": 84,
   "id": "86c02515-adcb-4e2d-b305-d2f9fd6d7b76",
   "metadata": {},
   "outputs": [],
   "source": [
    "# y_predict_linear = lr.predict(X_contest)\n",
    "y_predict_linear = lr.predict(X_contest)"
   ]
  },
  {
   "cell_type": "code",
   "execution_count": 85,
   "id": "d33dd769-f2cd-43e4-8b95-92cb52994f20",
   "metadata": {},
   "outputs": [
    {
     "data": {
      "text/html": [
       "<div>\n",
       "<style scoped>\n",
       "    .dataframe tbody tr th:only-of-type {\n",
       "        vertical-align: middle;\n",
       "    }\n",
       "\n",
       "    .dataframe tbody tr th {\n",
       "        vertical-align: top;\n",
       "    }\n",
       "\n",
       "    .dataframe thead th {\n",
       "        text-align: right;\n",
       "    }\n",
       "</style>\n",
       "<table border=\"1\" class=\"dataframe\">\n",
       "  <thead>\n",
       "    <tr style=\"text-align: right;\">\n",
       "      <th></th>\n",
       "      <th>0</th>\n",
       "      <th>1</th>\n",
       "    </tr>\n",
       "  </thead>\n",
       "  <tbody>\n",
       "    <tr>\n",
       "      <th>68</th>\n",
       "      <td>ms_subclass_180</td>\n",
       "      <td>79569.436688</td>\n",
       "    </tr>\n",
       "    <tr>\n",
       "      <th>59</th>\n",
       "      <td>ms_subclass_50</td>\n",
       "      <td>75594.945363</td>\n",
       "    </tr>\n",
       "    <tr>\n",
       "      <th>60</th>\n",
       "      <td>ms_subclass_60</td>\n",
       "      <td>75537.612274</td>\n",
       "    </tr>\n",
       "    <tr>\n",
       "      <th>62</th>\n",
       "      <td>ms_subclass_75</td>\n",
       "      <td>69477.854705</td>\n",
       "    </tr>\n",
       "    <tr>\n",
       "      <th>57</th>\n",
       "      <td>ms_subclass_40</td>\n",
       "      <td>68113.943491</td>\n",
       "    </tr>\n",
       "  </tbody>\n",
       "</table>\n",
       "</div>"
      ],
      "text/plain": [
       "                  0             1\n",
       "68  ms_subclass_180  79569.436688\n",
       "59   ms_subclass_50  75594.945363\n",
       "60   ms_subclass_60  75537.612274\n",
       "62   ms_subclass_75  69477.854705\n",
       "57   ms_subclass_40  68113.943491"
      ]
     },
     "execution_count": 85,
     "metadata": {},
     "output_type": "execute_result"
    }
   ],
   "source": [
    "# Kate Skibbo's code: set(zip(X.columns, lr.coef_)) \n",
    "# set(zip(Z_test.columns,lasso_cv.coef_))  #mine. didn't work\n",
    "\n",
    "# list(zip(X.columns, lr.coef_))\n",
    "# pd.DataFrame(list(zip(X.columns, lr.coef_)))\n",
    "pd.DataFrame(list(zip(X.columns, lr.coef_))).sort_values(by=[1], ascending=False).head()"
   ]
  },
  {
   "cell_type": "markdown",
   "id": "ff1fae78-c1ff-412c-b141-a8e47fdda084",
   "metadata": {},
   "source": [
    "#### Poly-fit Model"
   ]
  },
  {
   "cell_type": "code",
   "execution_count": 86,
   "id": "5ef569e2-abed-4da6-8576-2bb72876bbe0",
   "metadata": {},
   "outputs": [
    {
     "data": {
      "text/plain": [
       "1.0"
      ]
     },
     "execution_count": 86,
     "metadata": {},
     "output_type": "execute_result"
    }
   ],
   "source": [
    "# Reference: 403-lesson-regularization\n",
    "\n",
    "# Instantiate our PolynomialFeatures object to create all two-way terms.\n",
    "# poly = PolynomialFeatures(degree=2, interaction_only=False, include_bias=False)\n",
    "poly = PolynomialFeatures(degree=3, interaction_only=False, include_bias=True)\n",
    "\n",
    "# Fit and transform our X data.\n",
    "X_overfit = poly.fit_transform(X)\n",
    "\n",
    "# Create train/test splits.\n",
    "X_train, X_test, y_train, y_test = train_test_split(\n",
    "    X_overfit, y, \n",
    "    test_size=.7, \n",
    "    random_state=42,\n",
    "    # stratify = y     #breaks things: ValueError: The least populated class in y has only 1 member, which is too few. The minimum number of groups for any class cannot be less than 2.\n",
    ")\n",
    "\n",
    "# Scale our data.\n",
    "# Relabeling scaled data as \"Z\" is common.\n",
    "sc = StandardScaler()\n",
    "Z_train = sc.fit_transform(X_train)\n",
    "Z_test = sc.transform(X_test)\n",
    "\n",
    "\n",
    "ols = LinearRegression()\n",
    "ols.fit(Z_train, y_train)\n",
    "\n",
    "ols.score(Z_train, y_train)"
   ]
  },
  {
   "cell_type": "code",
   "execution_count": 87,
   "id": "3b9b22b9-ff65-44b6-a08c-41646a835a0e",
   "metadata": {},
   "outputs": [
    {
     "data": {
      "text/plain": [
       "0.8770852527754999"
      ]
     },
     "execution_count": 87,
     "metadata": {},
     "output_type": "execute_result"
    }
   ],
   "source": [
    "ols.score(Z_test, y_test)"
   ]
  },
  {
   "cell_type": "code",
   "execution_count": 88,
   "id": "06cd4524-e55c-4ff8-a11e-c82e530150ae",
   "metadata": {},
   "outputs": [
    {
     "data": {
      "text/plain": [
       "(615, 955860)"
      ]
     },
     "execution_count": 88,
     "metadata": {},
     "output_type": "execute_result"
    }
   ],
   "source": [
    "Z_train.shape"
   ]
  },
  {
   "cell_type": "code",
   "execution_count": 89,
   "id": "3e7e2be7-ad0b-4709-a5d0-5c2e4861b1bd",
   "metadata": {},
   "outputs": [
    {
     "data": {
      "text/plain": [
       "(1436, 955860)"
      ]
     },
     "execution_count": 89,
     "metadata": {},
     "output_type": "execute_result"
    }
   ],
   "source": [
    "Z_test.shape"
   ]
  },
  {
   "cell_type": "code",
   "execution_count": 90,
   "id": "e519ca74-f0c5-44ca-b281-27ce3c62c78e",
   "metadata": {},
   "outputs": [
    {
     "data": {
      "text/plain": [
       "(1436, 955860)"
      ]
     },
     "execution_count": 90,
     "metadata": {},
     "output_type": "execute_result"
    }
   ],
   "source": [
    "X_test.shape"
   ]
  },
  {
   "cell_type": "code",
   "execution_count": 91,
   "id": "123b9efd-854c-4ff6-af1e-06ad7274f263",
   "metadata": {},
   "outputs": [],
   "source": [
    "X_contest_overfit = poly.fit_transform(X_contest)\n",
    "Z_contest = sc.transform(X_contest_overfit)"
   ]
  },
  {
   "cell_type": "code",
   "execution_count": 92,
   "id": "20051c5e-30ca-45e8-a652-5327c967beba",
   "metadata": {},
   "outputs": [
    {
     "data": {
      "text/html": [
       "<div>\n",
       "<style scoped>\n",
       "    .dataframe tbody tr th:only-of-type {\n",
       "        vertical-align: middle;\n",
       "    }\n",
       "\n",
       "    .dataframe tbody tr th {\n",
       "        vertical-align: top;\n",
       "    }\n",
       "\n",
       "    .dataframe thead th {\n",
       "        text-align: right;\n",
       "    }\n",
       "</style>\n",
       "<table border=\"1\" class=\"dataframe\">\n",
       "  <thead>\n",
       "    <tr style=\"text-align: right;\">\n",
       "      <th></th>\n",
       "      <th>lot_frontage</th>\n",
       "      <th>lot_area</th>\n",
       "      <th>lot_shape</th>\n",
       "      <th>utilities</th>\n",
       "      <th>land_slope</th>\n",
       "      <th>overall_qual</th>\n",
       "      <th>overall_cond</th>\n",
       "      <th>year_built</th>\n",
       "      <th>year_remod/add</th>\n",
       "      <th>mas_vnr_area</th>\n",
       "      <th>...</th>\n",
       "      <th>alley_Grvl</th>\n",
       "      <th>alley_Pave</th>\n",
       "      <th>alley_nan</th>\n",
       "      <th>garage_type_2Types</th>\n",
       "      <th>garage_type_Attchd</th>\n",
       "      <th>garage_type_Basment</th>\n",
       "      <th>garage_type_BuiltIn</th>\n",
       "      <th>garage_type_CarPort</th>\n",
       "      <th>garage_type_Detchd</th>\n",
       "      <th>garage_type_nan</th>\n",
       "    </tr>\n",
       "  </thead>\n",
       "  <tbody>\n",
       "    <tr>\n",
       "      <th>0</th>\n",
       "      <td>69.0</td>\n",
       "      <td>9142</td>\n",
       "      <td>3</td>\n",
       "      <td>4</td>\n",
       "      <td>0</td>\n",
       "      <td>6</td>\n",
       "      <td>8</td>\n",
       "      <td>1910</td>\n",
       "      <td>1950</td>\n",
       "      <td>0.0</td>\n",
       "      <td>...</td>\n",
       "      <td>1.0</td>\n",
       "      <td>0.0</td>\n",
       "      <td>0.0</td>\n",
       "      <td>0.0</td>\n",
       "      <td>0.0</td>\n",
       "      <td>0.0</td>\n",
       "      <td>0.0</td>\n",
       "      <td>0.0</td>\n",
       "      <td>1.0</td>\n",
       "      <td>0.0</td>\n",
       "    </tr>\n",
       "    <tr>\n",
       "      <th>1</th>\n",
       "      <td>0.0</td>\n",
       "      <td>9662</td>\n",
       "      <td>2</td>\n",
       "      <td>4</td>\n",
       "      <td>0</td>\n",
       "      <td>5</td>\n",
       "      <td>4</td>\n",
       "      <td>1977</td>\n",
       "      <td>1977</td>\n",
       "      <td>0.0</td>\n",
       "      <td>...</td>\n",
       "      <td>0.0</td>\n",
       "      <td>0.0</td>\n",
       "      <td>1.0</td>\n",
       "      <td>0.0</td>\n",
       "      <td>1.0</td>\n",
       "      <td>0.0</td>\n",
       "      <td>0.0</td>\n",
       "      <td>0.0</td>\n",
       "      <td>0.0</td>\n",
       "      <td>0.0</td>\n",
       "    </tr>\n",
       "    <tr>\n",
       "      <th>2</th>\n",
       "      <td>58.0</td>\n",
       "      <td>17104</td>\n",
       "      <td>2</td>\n",
       "      <td>4</td>\n",
       "      <td>0</td>\n",
       "      <td>7</td>\n",
       "      <td>5</td>\n",
       "      <td>2006</td>\n",
       "      <td>2006</td>\n",
       "      <td>0.0</td>\n",
       "      <td>...</td>\n",
       "      <td>0.0</td>\n",
       "      <td>0.0</td>\n",
       "      <td>1.0</td>\n",
       "      <td>0.0</td>\n",
       "      <td>1.0</td>\n",
       "      <td>0.0</td>\n",
       "      <td>0.0</td>\n",
       "      <td>0.0</td>\n",
       "      <td>0.0</td>\n",
       "      <td>0.0</td>\n",
       "    </tr>\n",
       "    <tr>\n",
       "      <th>3</th>\n",
       "      <td>60.0</td>\n",
       "      <td>8520</td>\n",
       "      <td>3</td>\n",
       "      <td>4</td>\n",
       "      <td>0</td>\n",
       "      <td>5</td>\n",
       "      <td>6</td>\n",
       "      <td>1923</td>\n",
       "      <td>2006</td>\n",
       "      <td>0.0</td>\n",
       "      <td>...</td>\n",
       "      <td>0.0</td>\n",
       "      <td>0.0</td>\n",
       "      <td>1.0</td>\n",
       "      <td>0.0</td>\n",
       "      <td>0.0</td>\n",
       "      <td>0.0</td>\n",
       "      <td>0.0</td>\n",
       "      <td>0.0</td>\n",
       "      <td>1.0</td>\n",
       "      <td>0.0</td>\n",
       "    </tr>\n",
       "    <tr>\n",
       "      <th>4</th>\n",
       "      <td>0.0</td>\n",
       "      <td>9500</td>\n",
       "      <td>2</td>\n",
       "      <td>4</td>\n",
       "      <td>0</td>\n",
       "      <td>6</td>\n",
       "      <td>5</td>\n",
       "      <td>1963</td>\n",
       "      <td>1963</td>\n",
       "      <td>247.0</td>\n",
       "      <td>...</td>\n",
       "      <td>0.0</td>\n",
       "      <td>0.0</td>\n",
       "      <td>1.0</td>\n",
       "      <td>0.0</td>\n",
       "      <td>1.0</td>\n",
       "      <td>0.0</td>\n",
       "      <td>0.0</td>\n",
       "      <td>0.0</td>\n",
       "      <td>0.0</td>\n",
       "      <td>0.0</td>\n",
       "    </tr>\n",
       "  </tbody>\n",
       "</table>\n",
       "<p>5 rows × 177 columns</p>\n",
       "</div>"
      ],
      "text/plain": [
       "   lot_frontage  lot_area  lot_shape  utilities  land_slope  overall_qual  \\\n",
       "0          69.0      9142          3          4           0             6   \n",
       "1           0.0      9662          2          4           0             5   \n",
       "2          58.0     17104          2          4           0             7   \n",
       "3          60.0      8520          3          4           0             5   \n",
       "4           0.0      9500          2          4           0             6   \n",
       "\n",
       "   overall_cond  year_built  year_remod/add  mas_vnr_area  ...  alley_Grvl  \\\n",
       "0             8        1910            1950           0.0  ...         1.0   \n",
       "1             4        1977            1977           0.0  ...         0.0   \n",
       "2             5        2006            2006           0.0  ...         0.0   \n",
       "3             6        1923            2006           0.0  ...         0.0   \n",
       "4             5        1963            1963         247.0  ...         0.0   \n",
       "\n",
       "   alley_Pave  alley_nan  garage_type_2Types  garage_type_Attchd  \\\n",
       "0         0.0        0.0                 0.0                 0.0   \n",
       "1         0.0        1.0                 0.0                 1.0   \n",
       "2         0.0        1.0                 0.0                 1.0   \n",
       "3         0.0        1.0                 0.0                 0.0   \n",
       "4         0.0        1.0                 0.0                 1.0   \n",
       "\n",
       "   garage_type_Basment  garage_type_BuiltIn  garage_type_CarPort  \\\n",
       "0                  0.0                  0.0                  0.0   \n",
       "1                  0.0                  0.0                  0.0   \n",
       "2                  0.0                  0.0                  0.0   \n",
       "3                  0.0                  0.0                  0.0   \n",
       "4                  0.0                  0.0                  0.0   \n",
       "\n",
       "   garage_type_Detchd  garage_type_nan  \n",
       "0                 1.0              0.0  \n",
       "1                 0.0              0.0  \n",
       "2                 0.0              0.0  \n",
       "3                 1.0              0.0  \n",
       "4                 0.0              0.0  \n",
       "\n",
       "[5 rows x 177 columns]"
      ]
     },
     "execution_count": 92,
     "metadata": {},
     "output_type": "execute_result"
    }
   ],
   "source": [
    "# pd.DataFrame(X_contest_overfit).head()\n",
    "pd.DataFrame(X_contest).head()"
   ]
  },
  {
   "cell_type": "code",
   "execution_count": 93,
   "id": "3dccc8d1-7625-4076-95fa-ca1b90072f3f",
   "metadata": {},
   "outputs": [],
   "source": [
    "y_predict_overfit = ols.predict(Z_contest)"
   ]
  },
  {
   "cell_type": "code",
   "execution_count": 94,
   "id": "32cad441-044e-4173-85df-7aae6f39b4b0",
   "metadata": {},
   "outputs": [],
   "source": [
    "Xpoly = pd.DataFrame(contest['id'])\n",
    "Xpoly['SalePrice'] = y_predict_overfit\n",
    "Xpoly.columns = ['Id','SalePrice']\n",
    "Xpoly.set_index('Id', inplace = True)\n",
    "Xpoly.shape\n",
    "Xpoly.to_csv(f'./output/predictions_{run_id_number}_poly.csv')"
   ]
  },
  {
   "cell_type": "markdown",
   "id": "06912c0b-539d-4e2b-9d56-00524565d35a",
   "metadata": {},
   "source": [
    "#### Ridge model"
   ]
  },
  {
   "cell_type": "code",
   "execution_count": 95,
   "id": "b3f5d374-4594-4134-9cc2-b2fdfb21c41c",
   "metadata": {},
   "outputs": [
    {
     "data": {
      "text/plain": [
       "Ridge(alpha=278255)"
      ]
     },
     "execution_count": 95,
     "metadata": {},
     "output_type": "execute_result"
    }
   ],
   "source": [
    "# Reference: 403-lesson-regularization\n",
    "\n",
    "from sklearn.linear_model import Ridge, RidgeCV\n",
    "\n",
    "\n",
    "# Z_train, Z_test, y_train, y_test are re-used from Poly-fit section above\n",
    "\n",
    "# Instantiate.\n",
    "# ridge = Ridge(alpha=100000)\n",
    "ridge = Ridge(alpha=278255)\n",
    "\n",
    "# Fit.\n",
    "ridge.fit(Z_train, y_train)"
   ]
  },
  {
   "cell_type": "code",
   "execution_count": 96,
   "id": "62704061-d56d-4896-8144-97c5f65f0f50",
   "metadata": {},
   "outputs": [
    {
     "data": {
      "text/plain": [
       "0.9629146806332427"
      ]
     },
     "execution_count": 96,
     "metadata": {},
     "output_type": "execute_result"
    }
   ],
   "source": [
    "ridge.score(Z_train, y_train)\n"
   ]
  },
  {
   "cell_type": "code",
   "execution_count": 97,
   "id": "36540a54-4c03-444f-ae1a-27eaeee3a4f6",
   "metadata": {},
   "outputs": [
    {
     "data": {
      "text/plain": [
       "0.8821152546918751"
      ]
     },
     "execution_count": 97,
     "metadata": {},
     "output_type": "execute_result"
    }
   ],
   "source": [
    "ridge.score(Z_test, y_test)"
   ]
  },
  {
   "cell_type": "code",
   "execution_count": 98,
   "id": "9079157f-3056-4e4a-a0c6-ea049eb59b6a",
   "metadata": {},
   "outputs": [
    {
     "data": {
      "text/plain": [
       "RidgeCV(alphas=array([ 100000.        ,  129154.96650149,  166810.05372001,\n",
       "        215443.46900319,  278255.94022071,  359381.36638046,\n",
       "        464158.88336128,  599484.25031894,  774263.68268113,\n",
       "       1000000.        ]),\n",
       "        cv=10, scoring='r2')"
      ]
     },
     "execution_count": 98,
     "metadata": {},
     "output_type": "execute_result"
    }
   ],
   "source": [
    "r_alphas = np.logspace(5, 6, 10)    # checks 1000 different alphas on each of the 5 k-folds\n",
    "\n",
    "# Cross-validate over our list of ridge alphas.\n",
    "ridge_cv = RidgeCV(alphas=r_alphas, scoring='r2', cv=10)   #default alphas are .1, 1.0, 10\n",
    "\n",
    "# Fit model using best ridge alpha!\n",
    "ridge_cv.fit(Z_train, y_train)"
   ]
  },
  {
   "cell_type": "code",
   "execution_count": 99,
   "id": "c3f3589c-0c9b-4263-8755-8b38fab9b860",
   "metadata": {},
   "outputs": [
    {
     "data": {
      "text/plain": [
       "278255.94022071257"
      ]
     },
     "execution_count": 99,
     "metadata": {},
     "output_type": "execute_result"
    }
   ],
   "source": [
    "ridge_cv.alpha_"
   ]
  },
  {
   "cell_type": "code",
   "execution_count": 100,
   "id": "8fe0310d-f4ae-4fec-a732-38c2f188d088",
   "metadata": {},
   "outputs": [
    {
     "data": {
      "text/plain": [
       "0.9629145863868822"
      ]
     },
     "execution_count": 100,
     "metadata": {},
     "output_type": "execute_result"
    }
   ],
   "source": [
    "ridge_cv.score(Z_train, y_train)"
   ]
  },
  {
   "cell_type": "code",
   "execution_count": 101,
   "id": "d7d1fb14-4936-4795-8fe4-c32da7c37bb2",
   "metadata": {},
   "outputs": [
    {
     "data": {
      "text/plain": [
       "0.8821152151358432"
      ]
     },
     "execution_count": 101,
     "metadata": {},
     "output_type": "execute_result"
    }
   ],
   "source": [
    "ridge_cv.score(Z_test, y_test)"
   ]
  },
  {
   "cell_type": "code",
   "execution_count": 102,
   "id": "79f844e4-e50e-46e5-b12f-71a22e2a7f6d",
   "metadata": {},
   "outputs": [],
   "source": [
    "y_predict_ridge = ridge_cv.predict(Z_contest)"
   ]
  },
  {
   "cell_type": "code",
   "execution_count": 103,
   "id": "44ec47bd-1840-4306-9d27-f776210ca72d",
   "metadata": {},
   "outputs": [],
   "source": [
    "# plt.scatter(df.year_built, df.saleprice) ;\n",
    "# plt.xlabel('year_built')\n",
    "# plt.ylabel('saleprice') ;\n",
    "# # plt.scatter(pd.DataFrame(X_test).loc[columns==7], ridge_cv.predict(Z_test), s=5, alpha=.5) ;   #doesn't work"
   ]
  },
  {
   "cell_type": "code",
   "execution_count": 104,
   "id": "42ef6638-17a2-47a5-a31e-c17a54acfb0b",
   "metadata": {},
   "outputs": [],
   "source": [
    "Xridge = pd.DataFrame(contest['id'])\n",
    "Xridge['SalePrice'] = y_predict_ridge\n",
    "Xridge.columns = ['Id','SalePrice']\n",
    "Xridge.set_index('Id', inplace = True)\n",
    "Xridge.shape\n",
    "Xridge.to_csv(f'./output/predictions_{run_id_number}_ridge.csv')"
   ]
  },
  {
   "cell_type": "code",
   "execution_count": null,
   "id": "eea201b8-0050-4c35-a22a-8d3501837476",
   "metadata": {},
   "outputs": [],
   "source": []
  },
  {
   "cell_type": "markdown",
   "id": "abbd0eed-98d6-486a-879f-133c05812872",
   "metadata": {},
   "source": [
    "#### LASSO model"
   ]
  },
  {
   "cell_type": "code",
   "execution_count": 120,
   "id": "a09ba7e1-5d54-43d0-add9-d3810750b298",
   "metadata": {},
   "outputs": [],
   "source": [
    "# Reference: 403-lesson-regularization\n",
    "\n",
    "from sklearn.linear_model import Lasso, LassoCV\n",
    "\n",
    "# Set up a list of Lasso alphas to check.\n",
    "# l_alphas= np.logspace(-3, -1, 100)\n",
    "l_alphas= np.logspace(2, 3.8, 10)\n",
    "\n",
    "# Cross-validate over our list of Lasso alphas.\n",
    "lasso_cv = LassoCV(alphas=l_alphas, cv=5)\n"
   ]
  },
  {
   "cell_type": "code",
   "execution_count": null,
   "id": "2fd1a52c-2b22-43a6-a35a-5afc9ab8ab75",
   "metadata": {},
   "outputs": [],
   "source": [
    "# Fit model using best ridge alpha!\n",
    "lasso_cv.fit(Z_train, y_train)"
   ]
  },
  {
   "cell_type": "code",
   "execution_count": null,
   "id": "e647cc68-3bbe-4f26-b406-f764e3223f40",
   "metadata": {},
   "outputs": [],
   "source": [
    "# Here is the optimal value of alpha\n",
    "lasso_cv.alpha_"
   ]
  },
  {
   "cell_type": "code",
   "execution_count": null,
   "id": "9336b97d-aa35-4da3-b134-d31ff49ef22d",
   "metadata": {},
   "outputs": [],
   "source": [
    "lasso_cv.score(Z_train, y_train)"
   ]
  },
  {
   "cell_type": "code",
   "execution_count": null,
   "id": "be7a6103-6bfb-4611-be59-bdec36208f1a",
   "metadata": {},
   "outputs": [],
   "source": [
    "lasso_cv.score(Z_test, y_test)"
   ]
  },
  {
   "cell_type": "code",
   "execution_count": null,
   "id": "4f72072e-5560-4f67-94ae-0578fc502923",
   "metadata": {},
   "outputs": [],
   "source": [
    "y_predict_lasso = lasso_cv.predict(Z_contest)"
   ]
  },
  {
   "cell_type": "code",
   "execution_count": null,
   "id": "1a6bf186-8e94-4ea7-84c8-d11dd45673a8",
   "metadata": {},
   "outputs": [],
   "source": [
    "Xf = pd.DataFrame(contest['id'])\n",
    "Xf['SalePrice'] = y_predict_lasso\n",
    "Xf.columns = ['Id','SalePrice']\n",
    "Xf.set_index('Id', inplace = True)\n",
    "Xf.shape"
   ]
  },
  {
   "cell_type": "code",
   "execution_count": null,
   "id": "add297a0-5752-484f-b3a3-f2188797c6d9",
   "metadata": {},
   "outputs": [],
   "source": [
    "Xf.to_csv(f'./output/predictions_{run_id_number}_lasso.csv')"
   ]
  },
  {
   "cell_type": "code",
   "execution_count": null,
   "id": "488e91b7-b3dc-4994-b800-ec5d977a3c6f",
   "metadata": {},
   "outputs": [],
   "source": [
    "# lasso_cv.coef_\n",
    "pd.DataFrame(list(zip(pd.DataFrame(X_test).columns, lasso_cv.coef_))).sort_values(by=[1], ascending=False).head(6)"
   ]
  },
  {
   "cell_type": "code",
   "execution_count": null,
   "id": "d8450c43-f863-4524-8ec0-01d08b971bc8",
   "metadata": {},
   "outputs": [],
   "source": [
    "# poly.get_feature_names(X.columns)\n",
    "pd.DataFrame(list(zip(poly.get_feature_names_out(X.columns), lasso_cv.coef_))).sort_values(by=[1], ascending=False)"
   ]
  },
  {
   "cell_type": "code",
   "execution_count": null,
   "id": "dc98e866-4e02-4d96-8faa-db9320621211",
   "metadata": {},
   "outputs": [],
   "source": [
    "# pd.DataFrame(list(zip(poly.get_feature_names(X.columns), lasso_cv.coef_))).loc[[0].str.isna()]   #doesn't work"
   ]
  },
  {
   "cell_type": "code",
   "execution_count": null,
   "id": "fc9ea9b4-f238-4d59-a6c9-057d7852df32",
   "metadata": {},
   "outputs": [],
   "source": [
    "# y_predict_lr = lr.predict(X_contest)"
   ]
  },
  {
   "cell_type": "code",
   "execution_count": null,
   "id": "9732a5c5-af25-4722-be53-35209fbfcf84",
   "metadata": {},
   "outputs": [],
   "source": [
    "lasso_cv.coef_"
   ]
  },
  {
   "cell_type": "code",
   "execution_count": null,
   "id": "b064113b-d162-4cfa-8a71-7e871d2ba64f",
   "metadata": {},
   "outputs": [],
   "source": []
  },
  {
   "cell_type": "code",
   "execution_count": null,
   "id": "c7dd1024-f6d9-4f43-be04-245afd4d7256",
   "metadata": {},
   "outputs": [],
   "source": []
  }
 ],
 "metadata": {
  "kernelspec": {
   "display_name": "Python 3 (ipykernel)",
   "language": "python",
   "name": "python3"
  },
  "language_info": {
   "codemirror_mode": {
    "name": "ipython",
    "version": 3
   },
   "file_extension": ".py",
   "mimetype": "text/x-python",
   "name": "python",
   "nbconvert_exporter": "python",
   "pygments_lexer": "ipython3",
   "version": "3.9.13"
  }
 },
 "nbformat": 4,
 "nbformat_minor": 5
}
